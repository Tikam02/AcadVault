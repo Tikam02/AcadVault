{
 "cells": [
  {
   "cell_type": "code",
   "execution_count": 1,
   "metadata": {
    "colab": {},
    "colab_type": "code",
    "id": "ey68rFCgsxfF"
   },
   "outputs": [],
   "source": [
    "import numpy as np\n",
    "import pandas as pd\n",
    "import matplotlib.pyplot as plt\n",
    "import scipy.io\n",
    "import h5py"
   ]
  },
  {
   "cell_type": "code",
   "execution_count": 4,
   "metadata": {
    "colab": {
     "base_uri": "https://localhost:8080/",
     "height": 104
    },
    "colab_type": "code",
    "id": "i-vXksIGs-lt",
    "outputId": "8f9a20e6-c6ca-40cd-8c45-1ff81b94849b"
   },
   "outputs": [
    {
     "name": "stdout",
     "output_type": "stream",
     "text": [
      "Database_name\n",
      "Record_Name\n",
      "data\n",
      "height\n",
      "width\n"
     ]
    }
   ],
   "source": [
    "face_images = {}\n",
    "with h5py.File('faceimages.mat', 'r') as f:\n",
    "    data = f.keys()\n",
    "    for k, v in f.items():\n",
    "        print(k)\n",
    "        face_images[k] = np.array(v)"
   ]
  },
  {
   "cell_type": "code",
   "execution_count": 5,
   "metadata": {
    "colab": {
     "base_uri": "https://localhost:8080/",
     "height": 139
    },
    "colab_type": "code",
    "id": "I6zHXd7Gw8c5",
    "outputId": "20510f55-ccd8-41c0-c351-d8dfc2e29bd3"
   },
   "outputs": [
    {
     "data": {
      "text/plain": [
       "array([[ 48.,  59.,  40., ..., 121., 118., 122.],\n",
       "       [ 46.,  63.,  50., ..., 122., 118., 123.],\n",
       "       [ 47.,  67.,  51., ..., 123., 118., 124.],\n",
       "       ...,\n",
       "       [ 45.,  34.,  28., ...,  40.,  90.,  34.],\n",
       "       [ 46.,  33.,  27., ...,  39.,  92.,  31.],\n",
       "       [ 47.,  34.,  28., ...,  39.,  89.,  35.]])"
      ]
     },
     "execution_count": 5,
     "metadata": {},
     "output_type": "execute_result"
    }
   ],
   "source": [
    "face_data = face_images['data'][:-1]\n",
    "face_data"
   ]
  },
  {
   "cell_type": "code",
   "execution_count": 6,
   "metadata": {
    "colab": {},
    "colab_type": "code",
    "id": "SnChq3pyxOCL"
   },
   "outputs": [],
   "source": [
    "mean = np.mean(face_data, axis = 0)\n",
    "face_data = face_data - np.mean(face_data, axis = 0)"
   ]
  },
  {
   "cell_type": "code",
   "execution_count": 7,
   "metadata": {
    "colab": {},
    "colab_type": "code",
    "id": "RVkRRL6WybUF"
   },
   "outputs": [],
   "source": [
    "face_cov = np.cov(face_data)"
   ]
  },
  {
   "cell_type": "code",
   "execution_count": null,
   "metadata": {
    "colab": {},
    "colab_type": "code",
    "id": "UxWQgqmtzkAs"
   },
   "outputs": [],
   "source": [
    "eigenValues, eigenVectors = np.linalg.eig(face_cov)\n",
    "idx = eigenValues.argsort()[::-1]\n",
    "eigenValues = eigenValues[idx]\n",
    "eigenVectors = eigenVectors[:,idx]"
   ]
  },
  {
   "cell_type": "code",
   "execution_count": null,
   "metadata": {
    "colab": {},
    "colab_type": "code",
    "id": "w_dQaPSe0Eb8"
   },
   "outputs": [],
   "source": [
    "eigenVectors.shape"
   ]
  },
  {
   "cell_type": "code",
   "execution_count": null,
   "metadata": {
    "colab": {},
    "colab_type": "code",
    "id": "CPxKIwBw5SXZ"
   },
   "outputs": [],
   "source": [
    "reconstX50 = np.matmul(eigenVectors[:50, :], "
   ]
  }
 ],
 "metadata": {
  "colab": {
   "name": "ML_Lab_6.ipynb",
   "provenance": []
  },
  "kernelspec": {
   "display_name": "Python 3",
   "language": "python",
   "name": "python3"
  },
  "language_info": {
   "codemirror_mode": {
    "name": "ipython",
    "version": 3
   },
   "file_extension": ".py",
   "mimetype": "text/x-python",
   "name": "python",
   "nbconvert_exporter": "python",
   "pygments_lexer": "ipython3",
   "version": "3.6.8"
  }
 },
 "nbformat": 4,
 "nbformat_minor": 4
}
