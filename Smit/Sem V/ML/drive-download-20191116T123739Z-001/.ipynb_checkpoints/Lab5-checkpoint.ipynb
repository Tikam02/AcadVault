{
 "cells": [
  {
   "cell_type": "code",
   "execution_count": 213,
   "metadata": {},
   "outputs": [],
   "source": [
    "import numpy as np\n",
    "import pandas as pd\n",
    "import matplotlib.pyplot as plt\n",
    "import random as rd"
   ]
  },
  {
   "cell_type": "code",
   "execution_count": 214,
   "metadata": {},
   "outputs": [],
   "source": [
    "def true_function(x):\n",
    "    return x+2*np.sin(1.5*x)"
   ]
  },
  {
   "cell_type": "code",
   "execution_count": 249,
   "metadata": {},
   "outputs": [],
   "source": [
    "mu = 0\n",
    "sigma = 2\n",
    "models = 10000\n",
    "m_samples = 1000\n",
    "k = 2\n",
    "x_a = 0\n",
    "x_b = ((2*np.pi)/(1.5))*k"
   ]
  },
  {
   "cell_type": "code",
   "execution_count": 250,
   "metadata": {},
   "outputs": [],
   "source": [
    "#######################################       LINEAR MODEL       ####################################################"
   ]
  },
  {
   "cell_type": "code",
   "execution_count": 251,
   "metadata": {},
   "outputs": [],
   "source": [
    "x_train = []\n",
    "for i in range(m_samples):\n",
    "    x_train.append(np.random.uniform(x_a, x_b))\n",
    "x_train = np.array(x_train)\n",
    "\n",
    "y_true = true_function(x_train)\n",
    "\n",
    "x_train = np.array([np.ones(x_train.shape), x_train])\n",
    "x_train = x_train.transpose()"
   ]
  },
  {
   "cell_type": "code",
   "execution_count": 252,
   "metadata": {},
   "outputs": [],
   "source": [
    "theta_models = []\n",
    "y_est = []\n",
    "for mods in range(models):\n",
    "    epsilon = np.random.normal(mu, sigma, m_samples)\n",
    "    y_train = true_function(x_train.transpose()[1]) + epsilon\n",
    "    \n",
    "    theta = np.matmul(np.linalg.inv(np.matmul(x_train.transpose(), x_train)), np.matmul(x_train.transpose(), y_train))\n",
    "    \n",
    "    theta_models.append(theta)\n",
    "    y_est.append(np.matmul(x_train, theta))\n",
    "\n",
    "y_est = np.array(y_est)"
   ]
  },
  {
   "cell_type": "code",
   "execution_count": 253,
   "metadata": {},
   "outputs": [
    {
     "name": "stdout",
     "output_type": "stream",
     "text": [
      "(1000,)\n"
     ]
    }
   ],
   "source": [
    "y_est_mean = np.mean(y_est, axis = 0)\n",
    "variance = np.copy(y_est)\n",
    "\n",
    "for mods in range(models):\n",
    "    variance[mods] -= y_est_mean\n",
    "    variance[mods] = variance[mods]**2\n",
    "variance = np.mean(variance, axis = 0)\n",
    "print(variance.shape)"
   ]
  },
  {
   "cell_type": "code",
   "execution_count": 254,
   "metadata": {},
   "outputs": [],
   "source": [
    "bias = y_true - y_est_mean"
   ]
  },
  {
   "cell_type": "code",
   "execution_count": 255,
   "metadata": {},
   "outputs": [],
   "source": [
    "lhs = np.mean(bias**2) + np.mean(variance)\n",
    "rhs = np.zeros(y_est_mean.shape)\n",
    "for mods in range(models):\n",
    "    rhs += (y_true - y_est[mods])**2\n",
    "rhs /= models\n",
    "rhs = np.mean(rhs)"
   ]
  },
  {
   "cell_type": "code",
   "execution_count": 256,
   "metadata": {},
   "outputs": [
    {
     "name": "stdout",
     "output_type": "stream",
     "text": [
      "< Bias^2 >: 1.7112777144148648\n",
      "< Variance >: 0.00803708130895426\n",
      "< Bias^2 > + < Variance > 1.719314795723819\n",
      "MSE: 1.7193147957238186\n",
      "\n",
      "Difference %: -2.5829429895826866e-14\n"
     ]
    }
   ],
   "source": [
    "print('< Bias^2 >:', np.mean(bias**2))\n",
    "print('< Variance >:', np.mean(variance))\n",
    "print('< Bias^2 > + < Variance >', np.mean(bias**2)+np.mean(variance))\n",
    "print('MSE:', rhs)\n",
    "print()\n",
    "print('Difference %:', 100*(rhs-lhs)/rhs)"
   ]
  },
  {
   "cell_type": "code",
   "execution_count": 257,
   "metadata": {},
   "outputs": [
    {
     "data": {
      "image/png": "[encoded data removed]",
      "text/plain": [
       "<Figure size 432x288 with 1 Axes>"
      ]
     },
     "metadata": {
      "needs_background": "light"
     },
     "output_type": "display_data"
    }
   ],
   "source": [
    "plt.plot(x_train.transpose()[1], y_true, 'b.')\n",
    "plt.plot(x_train.transpose()[1], y_est_mean, 'r.')\n",
    "plt.legend(('True Function', 'Estimated Function'))\n",
    "plt.grid()\n",
    "plt.show()"
   ]
  },
  {
   "cell_type": "code",
   "execution_count": 258,
   "metadata": {},
   "outputs": [],
   "source": [
    "#######################################       POLYNOMIAL MODEL       ####################################################"
   ]
  },
  {
   "cell_type": "code",
   "execution_count": 259,
   "metadata": {},
   "outputs": [],
   "source": [
    "x_train = []\n",
    "for i in range(m_samples):\n",
    "    x_train.append(np.random.uniform(x_a, x_b))\n",
    "x_train = np.array(x_train)\n",
    "\n",
    "y_true = true_function(x_train)\n",
    "\n",
    "x_train = np.array([np.ones(x_train.shape), x_train, x_train**2, x_train**3,  \\\n",
    "                    x_train**4,  x_train**5,  x_train**6, x_train**7, x_train**8, x_train**9])\n",
    "x_train = x_train.transpose()"
   ]
  },
  {
   "cell_type": "code",
   "execution_count": 260,
   "metadata": {},
   "outputs": [],
   "source": [
    "theta_models = []\n",
    "y_est = []\n",
    "for mods in range(models):\n",
    "    epsilon = np.random.normal(mu, sigma, m_samples)\n",
    "    y_train = true_function(x_train.transpose()[1]) + epsilon\n",
    "    \n",
    "    theta = np.matmul(np.linalg.inv(np.matmul(x_train.transpose(), x_train)), np.matmul(x_train.transpose(), y_train))\n",
    "    \n",
    "    theta_models.append(theta)\n",
    "    y_est.append(np.matmul(x_train, theta))\n",
    "\n",
    "y_est = np.array(y_est)"
   ]
  },
  {
   "cell_type": "code",
   "execution_count": 261,
   "metadata": {},
   "outputs": [],
   "source": [
    "y_est_mean = np.mean(y_est, axis = 0)\n",
    "variance = np.copy(y_est)\n",
    "\n",
    "for mods in range(models):\n",
    "    variance[mods] -= y_est_mean\n",
    "    variance[mods] = variance[mods]**2\n",
    "variance = np.mean(variance, axis = 0)"
   ]
  },
  {
   "cell_type": "code",
   "execution_count": 262,
   "metadata": {},
   "outputs": [],
   "source": [
    "bias = y_true - y_est_mean"
   ]
  },
  {
   "cell_type": "code",
   "execution_count": 263,
   "metadata": {},
   "outputs": [],
   "source": [
    "lhs = np.mean(bias**2) + np.mean(variance)\n",
    "rhs = np.zeros(y_est_mean.shape)\n",
    "for mods in range(models):\n",
    "    rhs += (y_true - y_est[mods])**2\n",
    "rhs /= models\n",
    "rhs = np.mean(rhs)"
   ]
  },
  {
   "cell_type": "code",
   "execution_count": 264,
   "metadata": {},
   "outputs": [
    {
     "name": "stdout",
     "output_type": "stream",
     "text": [
      "< Bias^2 >: 6.607325128121939e-05\n",
      "< Variance >: 0.04035730832651887\n",
      "< Bias^2 > + < Variance > 0.04042338157780009\n",
      "MSE: 0.04042338157780009\n",
      "\n",
      "Difference %: 0.0\n"
     ]
    }
   ],
   "source": [
    "print('< Bias^2 >:', np.mean(bias**2))\n",
    "print('< Variance >:', np.mean(variance))\n",
    "print('< Bias^2 > + < Variance >', np.mean(bias**2)+np.mean(variance))\n",
    "print('MSE:', rhs)\n",
    "print()\n",
    "print('Difference %:', 100*(rhs-lhs)/rhs)"
   ]
  },
  {
   "cell_type": "code",
   "execution_count": 265,
   "metadata": {},
   "outputs": [
    {
     "data": {
      "image/png": "[encoded data removed]",
      "text/plain": [
       "<Figure size 432x288 with 1 Axes>"
      ]
     },
     "metadata": {
      "needs_background": "light"
     },
     "output_type": "display_data"
    }
   ],
   "source": [
    "plt.plot(x_train.transpose()[1], y_true, 'b.')\n",
    "plt.plot(x_train.transpose()[1], y_est_mean, 'r.')\n",
    "plt.legend(('True Function', 'Estimated Function'))\n",
    "plt.grid()\n",
    "plt.show()"
   ]
  },
  {
   "cell_type": "code",
   "execution_count": null,
   "metadata": {},
   "outputs": [],
   "source": []
  },
  {
   "cell_type": "code",
   "execution_count": null,
   "metadata": {},
   "outputs": [],
   "source": []
  }
 ],
 "metadata": {
  "kernelspec": {
   "display_name": "Python 3",
   "language": "python",
   "name": "python3"
  },
  "language_info": {
   "codemirror_mode": {
    "name": "ipython",
    "version": 3
   },
   "file_extension": ".py",
   "mimetype": "text/x-python",
   "name": "python",
   "nbconvert_exporter": "python",
   "pygments_lexer": "ipython3",
   "version": "3.7.0"
  }
 },
 "nbformat": 4,
 "nbformat_minor": 2
}
