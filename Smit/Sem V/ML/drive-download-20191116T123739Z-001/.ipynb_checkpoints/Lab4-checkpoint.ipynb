{
 "cells": [
  {
   "cell_type": "code",
   "execution_count": 1,
   "metadata": {},
   "outputs": [],
   "source": [
    "import numpy as np\n",
    "import pandas as pd\n",
    "import matplotlib.pyplot as plt\n",
    "import random as rd\n",
    "import numba"
   ]
  },
  {
   "cell_type": "code",
   "execution_count": 2,
   "metadata": {},
   "outputs": [],
   "source": [
    "data = pd.read_csv('mnist_train.csv')"
   ]
  },
  {
   "cell_type": "code",
   "execution_count": 3,
   "metadata": {},
   "outputs": [],
   "source": [
    "x = []\n",
    "for i in range(10):\n",
    "    x_temp = data[data['label'] == i]\n",
    "    x_temp = x_temp.drop('label', 1)\n",
    "    x.append(x_temp)\n",
    "\n",
    "m_samples = []\n",
    "mu = []\n",
    "pi = []\n",
    "log_pi = []\n",
    "for i in range(10):\n",
    "    x[i] = np.array(x[i])\n",
    "    m_samples.append(len(x[i]))\n",
    "    mu.append(np.mean(x[i], axis=0))\n",
    "    pi.append(m_samples[i]/len(data))\n",
    "    log_pi.append(np.log(pi[i]))"
   ]
  },
  {
   "cell_type": "code",
   "execution_count": 4,
   "metadata": {},
   "outputs": [],
   "source": [
    "sigma = []\n",
    "sigma_inv = []\n",
    "for i in range(10):\n",
    "    sigma.append(np.cov(x[i].transpose()))\n",
    "    sigma_inv.append(np.linalg.pinv(sigma[i]))\n",
    "\n",
    "mean_sigma = np.zeros(sigma[0].shape)\n",
    "for i in range(10):\n",
    "    mean_sigma += sigma[i]*m_samples[i]\n",
    "mean_sigma = mean_sigma/len(data)\n",
    "mean_sigma_inv = np.linalg.pinv(mean_sigma)"
   ]
  },
  {
   "cell_type": "code",
   "execution_count": 5,
   "metadata": {},
   "outputs": [],
   "source": [
    "def qda(x, mu, sigma, sigma_inv, logpi):\n",
    "    t = np.vstack(x-mu)\n",
    "    y = np.matmul(t.transpose(), sigma_inv)\n",
    "    y = np.matmul(y, t)\n",
    "    y = -0.5*y[0][0]+logpi\n",
    "    return y\n",
    "\n",
    "def lda(x, mu, sigma, sigma_inv, logpi):\n",
    "    t = np.vstack(x-mu)\n",
    "    y = np.matmul(t.transpose(), sigma_inv)\n",
    "    y = np.matmul(y, t)\n",
    "    y = -0.5*y[0][0]+logpi\n",
    "    return y\n",
    "    \n",
    "\n",
    "def show_image(x):\n",
    "    plt.imshow(x.reshape((28, 28)))\n",
    "\n",
    "def decide_class_QDA(x):\n",
    "    vals = []\n",
    "    for i in range(10):\n",
    "        vals.append(qda(x, mu[i], sigma[i], sigma_inv[i], log_pi[i]))\n",
    "    vals = [(vals[i], i) for i in range(len(vals))]\n",
    "    return vals.index(max(vals))\n",
    "\n",
    "def decide_class_LDA(x):\n",
    "    vals = []\n",
    "    for i in range(10):\n",
    "        vals.append(lda(x, mu[i], mean_sigma, mean_sigma_inv, log_pi[i]))\n",
    "    vals = [(vals[i], i) for i in range(len(vals))]\n",
    "    return vals.index(max(vals))"
   ]
  },
  {
   "cell_type": "code",
   "execution_count": 6,
   "metadata": {},
   "outputs": [],
   "source": [
    "del data"
   ]
  },
  {
   "cell_type": "code",
   "execution_count": 7,
   "metadata": {},
   "outputs": [],
   "source": [
    "data = pd.read_csv('mnist_test.csv')\n",
    "x = []\n",
    "for i in range(10):\n",
    "    x_temp = data[data['label'] == i]\n",
    "    x_temp = x_temp.drop('label', 1)\n",
    "    x.append(x_temp)\n",
    "\n",
    "m_samples = []\n",
    "for i in range(10):\n",
    "    x[i] = np.array(x[i])\n",
    "    m_samples.append(len(x[i]))"
   ]
  },
  {
   "cell_type": "code",
   "execution_count": 10,
   "metadata": {},
   "outputs": [
    {
     "ename": "SyntaxError",
     "evalue": "invalid syntax (<ipython-input-10-91cb78435691>, line 8)",
     "output_type": "error",
     "traceback": [
      "\u001b[1;36m  File \u001b[1;32m\"<ipython-input-10-91cb78435691>\"\u001b[1;36m, line \u001b[1;32m8\u001b[0m\n\u001b[1;33m    for m_i in numba.prange(m_samples[digit]):\u001b[0m\n\u001b[1;37m      ^\u001b[0m\n\u001b[1;31mSyntaxError\u001b[0m\u001b[1;31m:\u001b[0m invalid syntax\n"
     ]
    }
   ],
   "source": [
    "accuracies = []\n",
    "correct_all = 0\n",
    "\n",
    "\n",
    "@numba.njit(nopython=True, parallel=True)\n",
    "def try_numba(correct):\n",
    "    for m_i in numba.prange(m_samples[digit]):\n",
    "        if decide_class_QDA(x[digit][m_i]) == digit:\n",
    "            correct[m_i] = 1\n",
    "    return sum(correct)\n",
    "\n",
    "\n",
    "for digit in range(10):\n",
    "    print('\\rTesting class', digit, 'having', m_samples[digit], 'samples')\n",
    "    correct = [0 for i in range(m_samples[digit])]\n",
    "    \n",
    "    \n",
    "        if m_i % 10 == 0:\n",
    "            print('Sample #:', m_i, end='\\r')\n",
    "    accuracies.append((100*correct)/m_samples[digit])"
   ]
  },
  {
   "cell_type": "code",
   "execution_count": null,
   "metadata": {},
   "outputs": [],
   "source": [
    "print('QDA Results')\n",
    "print('Class Accuracies:')\n",
    "accuracies = enumerate(accuracies)\n",
    "for acc in accuracies:\n",
    "    print('Class:', *acc)\n",
    "total_acc = 100*(correct_all/len(data))\n",
    "print('Total Accuracy:', total_acc)"
   ]
  },
  {
   "cell_type": "code",
   "execution_count": null,
   "metadata": {},
   "outputs": [],
   "source": [
    "accuracies = []\n",
    "correct_all = 0\n",
    "for digit in range(10):\n",
    "    print('\\rTesting class', digit, 'having', m_samples[digit], 'samples')\n",
    "    correct = 0\n",
    "    for m_i in range(m_samples[digit]):\n",
    "        if decide_class_LDA(x[digit][m_i]) == digit:\n",
    "            correct += 1\n",
    "            correct_all += 1\n",
    "        if m_i % 10 == 0:\n",
    "            print('Sample #:', m_i, end='\\r')\n",
    "    accuracies.append((100*correct)/m_samples[digit])"
   ]
  },
  {
   "cell_type": "code",
   "execution_count": null,
   "metadata": {},
   "outputs": [],
   "source": [
    "print('LDA Results')\n",
    "print('Class Accuracies:')\n",
    "accuracies = enumerate(accuracies)\n",
    "for acc in accuracies:\n",
    "    print('Class:', *acc)\n",
    "total_acc = 100*(correct_all/len(data))\n",
    "print('Total Accuracy:', total_acc)"
   ]
  },
  {
   "cell_type": "code",
   "execution_count": null,
   "metadata": {},
   "outputs": [],
   "source": []
  }
 ],
 "metadata": {
  "kernelspec": {
   "display_name": "Python 3",
   "language": "python",
   "name": "python3"
  },
  "language_info": {
   "codemirror_mode": {
    "name": "ipython",
    "version": 3
   },
   "file_extension": ".py",
   "mimetype": "text/x-python",
   "name": "python",
   "nbconvert_exporter": "python",
   "pygments_lexer": "ipython3",
   "version": "3.7.0"
  }
 },
 "nbformat": 4,
 "nbformat_minor": 2
}
