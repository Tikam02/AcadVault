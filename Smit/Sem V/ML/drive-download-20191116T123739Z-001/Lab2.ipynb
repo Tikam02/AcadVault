{
 "cells": [
  {
   "cell_type": "code",
   "execution_count": 1,
   "metadata": {},
   "outputs": [],
   "source": [
    "import numpy as np\n",
    "import pandas as pd\n",
    "import matplotlib.pyplot as plt\n",
    "import random as rd"
   ]
  },
  {
   "cell_type": "code",
   "execution_count": 2,
   "metadata": {},
   "outputs": [],
   "source": [
    "def fx(theta):\n",
    "    #return sum(theta**2) #Q1a, Q1b\n",
    "    #return sum((theta-np.ones(theta.shape))**2) #Q1c, Q1d\n",
    "    return sum((y-np.matmul(x, theta))**2) #Q1e\n",
    "    \n",
    "\n",
    "def delop(theta0, dx):\n",
    "    theta = np.copy(theta0)\n",
    "    ans = np.zeros(theta0.shape)\n",
    "    for i in range(len(theta)):\n",
    "        theta[i] += dx\n",
    "        ans[i] = (fx(theta)-fx(theta0))/dx\n",
    "        theta[i] -= dx\n",
    "    return ans"
   ]
  },
  {
   "cell_type": "code",
   "execution_count": 11,
   "metadata": {},
   "outputs": [
    {
     "name": "stdout",
     "output_type": "stream",
     "text": [
      "[[23.7181018 ]\n",
      " [-6.86698641]]\n"
     ]
    }
   ],
   "source": [
    "theta = np.vstack([50.2, 100.5])\n",
    "alpha = 0.01\n",
    "for i in range(1000):\n",
    "    theta -= alpha*delop(theta, 10**-9)\n",
    "print(theta)"
   ]
  },
  {
   "cell_type": "code",
   "execution_count": 4,
   "metadata": {},
   "outputs": [
    {
     "data": {
      "image/png": "[encoded data removed]",
      "text/plain": [
       "<Figure size 432x288 with 1 Axes>"
      ]
     },
     "metadata": {
      "needs_background": "light"
     },
     "output_type": "display_data"
    }
   ],
   "source": [
    "data = pd.read_excel('dat.xlsx')\n",
    "x = np.array(data['x'])\n",
    "x = (x-np.mean(x))/np.std(x)\n",
    "y = np.array(data['y'])\n",
    "plt.scatter(x, y)\n",
    "plt.show()"
   ]
  },
  {
   "cell_type": "code",
   "execution_count": 6,
   "metadata": {},
   "outputs": [
    {
     "name": "stdout",
     "output_type": "stream",
     "text": [
      "(94, 2) (2, 1)\n",
      "[[23.71808011]\n",
      " [-6.86700045]]\n"
     ]
    }
   ],
   "source": [
    "x = np.array([np.ones(len(x)), x]).transpose()\n",
    "y = np.vstack(y)\n",
    "theta = np.vstack([-50.0, 20.9])\n",
    "print(x.shape, theta.shape)\n",
    "\n",
    "alpha = 0.01\n",
    "itr = 1000\n",
    "for i in range(itr):\n",
    "    theta -= alpha*delop(theta, 10**-5)\n",
    "print(theta)"
   ]
  },
  {
   "cell_type": "code",
   "execution_count": 7,
   "metadata": {},
   "outputs": [],
   "source": [
    "def hx(theta, x):\n",
    "    return np.matmul(x, theta)\n",
    "\n",
    "def delop_stochastic(theta0, dx):\n",
    "    theta = np.copy(theta0)\n",
    "    ans = np.zeros(theta0.shape)\n",
    "    sample_indx = rd.randint(0, len(x)-1)\n",
    "    for i in range(len(theta)):\n",
    "        theta[i] += dx\n",
    "        ans[i] = ((hx(theta, x[sample_indx])-y[sample_indx])**2-(hx(theta0, x[sample_indx])-y[sample_indx])**2)/dx\n",
    "        theta[i] -= dx\n",
    "    return ans"
   ]
  },
  {
   "cell_type": "code",
   "execution_count": 8,
   "metadata": {},
   "outputs": [
    {
     "name": "stdout",
     "output_type": "stream",
     "text": [
      "[[23.42906909]\n",
      " [-7.19332671]] 1590.512467920664\n"
     ]
    }
   ],
   "source": [
    "theta = np.vstack([-50.0, 20.9])\n",
    "alpha = 0.01\n",
    "itr = 10000\n",
    "for i in range(itr):\n",
    "    theta -= alpha*delop_stochastic(theta, 10**-9)\n",
    "print(theta, float(fx(theta)))"
   ]
  },
  {
   "cell_type": "code",
   "execution_count": 9,
   "metadata": {},
   "outputs": [],
   "source": [
    "def next_alpha(alpha, theta0, da):\n",
    "    delj = delop(theta0, da**2)\n",
    "    fpxh = (fx(theta0 - (alpha+da)*delj)-fx(theta0 - (alpha)*delj))/da\n",
    "    fpx = (fx(theta0 - (alpha)*delj)-fx(theta0 - (alpha-da)*delj))/da\n",
    "    fppx = (fpxh-fpx)/da\n",
    "    return alpha - (fpx/fppx)"
   ]
  },
  {
   "cell_type": "code",
   "execution_count": 10,
   "metadata": {},
   "outputs": [
    {
     "name": "stdout",
     "output_type": "stream",
     "text": [
      "Convergence in 5 iterations with alpha = 0.005361478836185981!\n",
      "[[23.71803507]\n",
      " [-6.86704553]]\n"
     ]
    }
   ],
   "source": [
    "theta = np.vstack([50.0, 50.0])\n",
    "itr = 10000\n",
    "alpha = 50\n",
    "for i in range(itr):\n",
    "    alpha = next_alpha(alpha, theta, 10**-4)\n",
    "    theta_nxt = theta - alpha*delop(theta, 10**-4)\n",
    "    if sum((theta_nxt-theta)**2) < 10**-10:\n",
    "        print('Convergence in {} iterations with alpha = {}!'.format(i, *alpha))\n",
    "        break\n",
    "    theta = theta_nxt.copy()\n",
    "print(theta)"
   ]
  },
  {
   "cell_type": "code",
   "execution_count": null,
   "metadata": {},
   "outputs": [],
   "source": []
  },
  {
   "cell_type": "code",
   "execution_count": null,
   "metadata": {},
   "outputs": [],
   "source": []
  }
 ],
 "metadata": {
  "kernelspec": {
   "display_name": "Python 3",
   "language": "python",
   "name": "python3"
  },
  "language_info": {
   "codemirror_mode": {
    "name": "ipython",
    "version": 3
   },
   "file_extension": ".py",
   "mimetype": "text/x-python",
   "name": "python",
   "nbconvert_exporter": "python",
   "pygments_lexer": "ipython3",
   "version": "3.6.8"
  }
 },
 "nbformat": 4,
 "nbformat_minor": 4
}
