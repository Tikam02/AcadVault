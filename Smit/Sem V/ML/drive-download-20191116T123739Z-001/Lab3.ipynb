{
 "cells": [
  {
   "cell_type": "code",
   "execution_count": 22,
   "metadata": {},
   "outputs": [],
   "source": [
    "import numpy as np\n",
    "import pandas as pd\n",
    "import matplotlib.pyplot as plt\n",
    "import random as rd"
   ]
  },
  {
   "cell_type": "code",
   "execution_count": 44,
   "metadata": {},
   "outputs": [],
   "source": [
    "data = pd.read_excel('ex2data1.xls')\n",
    "train_data = data.sample(frac = 0.9)\n",
    "test_data = data.drop(train_data.index)\n",
    "\n",
    "x1 = np.array(train_data['x1'])\n",
    "x2 = np.array(train_data['x2'])\n",
    "y = np.array(train_data['y'])\n",
    "m = len(x1)\n",
    "x1_mu = np.mean(x1)\n",
    "x1_st = np.std(x1)\n",
    "x2_mu = np.mean(x2)\n",
    "x2_st = np.std(x2)\n",
    "\n",
    "x1 = (x1-x1_mu)/x1_st\n",
    "x2 = (x2-x2_mu)/x2_st\n",
    "x = np.array([np.ones(m), x1, x2])\n",
    "x = x.transpose()"
   ]
  },
  {
   "cell_type": "code",
   "execution_count": 46,
   "metadata": {},
   "outputs": [],
   "source": [
    "def activation(x, theta):\n",
    "    return np.float(1/(1+np.exp(-np.matmul(x, theta))))\n",
    "\n",
    "def j_loss(theta):\n",
    "    loss = 0\n",
    "    for mi in range(m):\n",
    "        loss += (np.float(y[mi]) - activation(x[mi], theta))**2\n",
    "    return loss/m\n",
    "\n",
    "def delop(theta_init, dx):\n",
    "    theta = np.copy(theta_init)\n",
    "    ans = np.zeros(theta_init.shape)\n",
    "    for i in range(len(theta)):\n",
    "        theta[i] += dx\n",
    "        ans[i] = (j_loss(theta)-j_loss(theta_init))/dx\n",
    "        theta[i] -= dx\n",
    "    return ans"
   ]
  },
  {
   "cell_type": "code",
   "execution_count": 47,
   "metadata": {},
   "outputs": [
    {
     "name": "stdout",
     "output_type": "stream",
     "text": [
      "6946 Iterations Taken..!\n",
      "[[1.35191937]\n",
      " [3.19456623]\n",
      " [2.72261871]]\n"
     ]
    }
   ],
   "source": [
    "theta = np.array([[0.1], [0.1], [0.1]])\n",
    "alpha = 0.1\n",
    "itr = 10000\n",
    "for i in range(itr):\n",
    "    theta_next = theta - alpha*delop(theta, 10**-6)\n",
    "    if sum((theta-theta_next)**2) < 10**-8:\n",
    "        print('{} Iterations Taken..!'.format(i))\n",
    "        break\n",
    "    theta = np.copy(theta_next)\n",
    "print(theta)"
   ]
  },
  {
   "cell_type": "code",
   "execution_count": 48,
   "metadata": {},
   "outputs": [],
   "source": [
    "x1_test = np.array(test_data['x1'])\n",
    "x2_test = np.array(test_data['x2'])\n",
    "y_test = np.array(test_data['y'])\n",
    "m_test = len(x1_test)\n",
    "\n",
    "x1_test = (x1_test-x1_mu)/x1_st\n",
    "x2_test = (x2_test-x2_mu)/x2_st\n",
    "x_test = np.array([np.ones(m_test), x1_test, x2_test])\n",
    "x_test = x_test.transpose()"
   ]
  },
  {
   "cell_type": "code",
   "execution_count": 49,
   "metadata": {},
   "outputs": [
    {
     "name": "stdout",
     "output_type": "stream",
     "text": [
      "predicted class 1 and is actually 1\n",
      "predicted class 1 and is actually 1\n",
      "predicted class 1 and is actually 1\n",
      "predicted class 0 and is actually 0\n",
      "predicted class 1 and is actually 0\n",
      "predicted class 1 and is actually 1\n",
      "predicted class 0 and is actually 0\n",
      "predicted class 1 and is actually 1\n",
      "predicted class 1 and is actually 1\n",
      "predicted class 1 and is actually 0\n",
      "predicted class 0 and is actually 0\n",
      "predicted class 0 and is actually 0\n",
      "predicted class 1 and is actually 1\n",
      "predicted class 0 and is actually 1\n",
      "predicted class 0 and is actually 0\n",
      "predicted class 1 and is actually 1\n",
      "predicted class 1 and is actually 1\n",
      "predicted class 1 and is actually 1\n",
      "predicted class 1 and is actually 1\n",
      "predicted class 1 and is actually 1\n",
      "predicted class 1 and is actually 1\n",
      "predicted class 0 and is actually 0\n",
      "predicted class 1 and is actually 1\n",
      "predicted class 0 and is actually 0\n",
      "predicted class 1 and is actually 0\n",
      "predicted class 1 and is actually 1\n",
      "predicted class 1 and is actually 1\n",
      "predicted class 0 and is actually 0\n",
      "predicted class 1 and is actually 0\n",
      "predicted class 1 and is actually 1\n",
      "predicted class 1 and is actually 0\n",
      "predicted class 0 and is actually 0\n",
      "predicted class 1 and is actually 1\n",
      "predicted class 1 and is actually 1\n",
      "predicted class 1 and is actually 1\n",
      "predicted class 1 and is actually 1\n",
      "predicted class 1 and is actually 1\n",
      "predicted class 0 and is actually 0\n",
      "predicted class 0 and is actually 0\n",
      "predicted class 1 and is actually 1\n",
      "predicted class 1 and is actually 1\n",
      "predicted class 0 and is actually 0\n",
      "predicted class 0 and is actually 0\n",
      "predicted class 0 and is actually 0\n",
      "predicted class 0 and is actually 0\n",
      "predicted class 1 and is actually 1\n",
      "predicted class 1 and is actually 1\n",
      "predicted class 1 and is actually 1\n",
      "predicted class 1 and is actually 1\n",
      "predicted class 1 and is actually 1\n",
      "predicted class 1 and is actually 1\n",
      "predicted class 0 and is actually 0\n",
      "predicted class 0 and is actually 0\n",
      "predicted class 0 and is actually 0\n",
      "predicted class 1 and is actually 1\n",
      "predicted class 1 and is actually 1\n",
      "predicted class 1 and is actually 1\n",
      "predicted class 1 and is actually 1\n",
      "predicted class 1 and is actually 1\n",
      "predicted class 1 and is actually 1\n",
      "predicted class 1 and is actually 1\n",
      "predicted class 0 and is actually 0\n",
      "predicted class 0 and is actually 0\n",
      "predicted class 1 and is actually 1\n",
      "predicted class 1 and is actually 1\n",
      "predicted class 1 and is actually 1\n",
      "predicted class 0 and is actually 1\n",
      "predicted class 0 and is actually 0\n",
      "predicted class 0 and is actually 0\n",
      "predicted class 0 and is actually 0\n",
      "predicted class 1 and is actually 1\n",
      "predicted class 1 and is actually 1\n",
      "predicted class 1 and is actually 1\n",
      "predicted class 0 and is actually 0\n",
      "predicted class 0 and is actually 0\n",
      "predicted class 0 and is actually 0\n",
      "predicted class 0 and is actually 0\n",
      "predicted class 1 and is actually 1\n",
      "predicted class 1 and is actually 1\n",
      "predicted class 1 and is actually 1\n",
      "predicted class 0 and is actually 0\n",
      "predicted class 0 and is actually 1\n",
      "predicted class 0 and is actually 0\n",
      "predicted class 1 and is actually 0\n",
      "predicted class 0 and is actually 0\n",
      "predicted class 1 and is actually 1\n",
      "predicted class 0 and is actually 0\n",
      "predicted class 1 and is actually 1\n",
      "predicted class 0 and is actually 1\n",
      "predicted class 1 and is actually 1\n",
      "Accuracy:  0.8888888888888888\n"
     ]
    }
   ],
   "source": [
    "correct = 0\n",
    "for i in range(m):\n",
    "    if activation(x[i], theta) > 0.5:\n",
    "        print('predicted class 1 and is actually', y[i])\n",
    "        if y[i] == 1: correct += 1\n",
    "    else:\n",
    "        print('predicted class 0 and is actually', y[i])\n",
    "        if y[i] == 0: correct += 1\n",
    "print('Accuracy: ', correct/m)"
   ]
  },
  {
   "cell_type": "code",
   "execution_count": 28,
   "metadata": {},
   "outputs": [
    {
     "name": "stderr",
     "output_type": "stream",
     "text": [
      "c:\\users\\hp\\appdata\\local\\programs\\python\\python37-32\\lib\\site-packages\\ipykernel_launcher.py:4: SettingWithCopyWarning: \n",
      "A value is trying to be set on a copy of a slice from a DataFrame.\n",
      "Try using .loc[row_indexer,col_indexer] = value instead\n",
      "\n",
      "See the caveats in the documentation: http://pandas.pydata.org/pandas-docs/stable/indexing.html#indexing-view-versus-copy\n",
      "  after removing the cwd from sys.path.\n",
      "c:\\users\\hp\\appdata\\local\\programs\\python\\python37-32\\lib\\site-packages\\ipykernel_launcher.py:5: SettingWithCopyWarning: \n",
      "A value is trying to be set on a copy of a slice from a DataFrame.\n",
      "Try using .loc[row_indexer,col_indexer] = value instead\n",
      "\n",
      "See the caveats in the documentation: http://pandas.pydata.org/pandas-docs/stable/indexing.html#indexing-view-versus-copy\n",
      "  \"\"\"\n",
      "c:\\users\\hp\\appdata\\local\\programs\\python\\python37-32\\lib\\site-packages\\ipykernel_launcher.py:7: SettingWithCopyWarning: \n",
      "A value is trying to be set on a copy of a slice from a DataFrame.\n",
      "Try using .loc[row_indexer,col_indexer] = value instead\n",
      "\n",
      "See the caveats in the documentation: http://pandas.pydata.org/pandas-docs/stable/indexing.html#indexing-view-versus-copy\n",
      "  import sys\n",
      "c:\\users\\hp\\appdata\\local\\programs\\python\\python37-32\\lib\\site-packages\\ipykernel_launcher.py:8: SettingWithCopyWarning: \n",
      "A value is trying to be set on a copy of a slice from a DataFrame.\n",
      "Try using .loc[row_indexer,col_indexer] = value instead\n",
      "\n",
      "See the caveats in the documentation: http://pandas.pydata.org/pandas-docs/stable/indexing.html#indexing-view-versus-copy\n",
      "  \n"
     ]
    },
    {
     "data": {
      "image/png": "[encoded data removed]",
      "text/plain": [
       "<Figure size 432x288 with 1 Axes>"
      ]
     },
     "metadata": {
      "needs_background": "light"
     },
     "output_type": "display_data"
    }
   ],
   "source": [
    "class1 = train_data[train_data.y == 0]\n",
    "class2 = train_data[train_data.y == 1]\n",
    "\n",
    "class1['x1'] = (class1['x1']-x1_mu)/x1_st\n",
    "class1['x2'] = (class1['x2']-x2_mu)/x2_st\n",
    "\n",
    "class2['x1'] = (class2['x1']-x1_mu)/x1_st\n",
    "class2['x2'] = (class2['x2']-x2_mu)/x2_st\n",
    "\n",
    "plt.plot(class1['x1'], class1['x2'], 'r*')\n",
    "plt.plot(class2['x1'], class2['x2'], 'b*')\n",
    "\n",
    "t0 = np.float(theta[0])\n",
    "t1 = np.float(theta[1])\n",
    "t2 = np.float(theta[2])\n",
    "plt.plot(x1, (-t0-t1*x1)/t2, 'g')\n",
    "\n",
    "plt.show()"
   ]
  },
  {
   "cell_type": "code",
   "execution_count": 19,
   "metadata": {},
   "outputs": [],
   "source": [
    "##########################################################################################\n",
    "##########################################################################################\n",
    "##########################################################################################\n",
    "##########################################################################################\n",
    "##########################################################################################\n",
    "#########################################################################################\n",
    "#########################################################################################\n",
    "#########################################################################################\n",
    "#########################################################################################"
   ]
  },
  {
   "cell_type": "code",
   "execution_count": 29,
   "metadata": {},
   "outputs": [],
   "source": [
    "data = pd.read_excel('ex2data2.xls')\n",
    "train_data = data.sample(frac = 0.9)\n",
    "test_data = data.drop(train_data.index)\n",
    "\n",
    "x1 = np.array(train_data['x1'])\n",
    "x2 = np.array(train_data['x2'])\n",
    "y = np.array(train_data['y'])\n",
    "m = len(x1)\n",
    "x1_mu = np.mean(x1)\n",
    "x1_st = np.std(x1)\n",
    "x2_mu = np.mean(x2)\n",
    "x2_st = np.std(x2)\n",
    "\n",
    "x1 = (x1-x1_mu)/x1_st\n",
    "x2 = (x2-x2_mu)/x2_st\n",
    "x = np.array([np.ones(m), x1, x2, x1**2, x2**2, x1*x2])\n",
    "x = x.transpose()"
   ]
  },
  {
   "cell_type": "code",
   "execution_count": 30,
   "metadata": {},
   "outputs": [
    {
     "name": "stdout",
     "output_type": "stream",
     "text": [
      "[[ 4.8109338 ]\n",
      " [ 0.24681606]\n",
      " [-0.2233313 ]\n",
      " [-2.55222838]\n",
      " [-2.85196897]\n",
      " [-1.92361918]]\n"
     ]
    }
   ],
   "source": [
    "theta = np.array([[0.1], [0.1], [0.1], [0.1], [0.1], [0.1]])\n",
    "alpha = 0.1\n",
    "itr = 10000\n",
    "for i in range(itr):\n",
    "    theta_next = theta - alpha*delop(theta, 10**-6)\n",
    "    if sum((theta-theta_next)**2) < 10**-8:\n",
    "        print('{} Iterations Taken..!'.format(i))\n",
    "        break\n",
    "    theta = np.copy(theta_next)\n",
    "print(theta)"
   ]
  },
  {
   "cell_type": "code",
   "execution_count": 31,
   "metadata": {},
   "outputs": [],
   "source": [
    "x1_test = np.array(test_data['x1'])\n",
    "x2_test = np.array(test_data['x2'])\n",
    "y_test = np.array(test_data['y'])\n",
    "m_test = len(x1_test)\n",
    "\n",
    "x1_test = (x1_test-x1_mu)/x1_st\n",
    "x2_test = (x2_test-x2_mu)/x2_st\n",
    "x_test = np.array([np.ones(m_test), x1_test, x2_test, x1_test**2, x2_test**2, x1_test*x2_test])\n",
    "x_test = x_test.transpose()"
   ]
  },
  {
   "cell_type": "code",
   "execution_count": 32,
   "metadata": {},
   "outputs": [
    {
     "name": "stdout",
     "output_type": "stream",
     "text": [
      "predicted class 1 and is actually 1\n",
      "predicted class 0 and is actually 1\n",
      "predicted class 0 and is actually 0\n",
      "predicted class 1 and is actually 0\n",
      "predicted class 1 and is actually 0\n",
      "predicted class 1 and is actually 0\n",
      "predicted class 0 and is actually 0\n",
      "predicted class 1 and is actually 1\n",
      "predicted class 0 and is actually 0\n",
      "predicted class 0 and is actually 1\n",
      "predicted class 0 and is actually 0\n",
      "predicted class 0 and is actually 0\n",
      "Accuracy:  0.5833333333333334\n"
     ]
    }
   ],
   "source": [
    "correct = 0\n",
    "for i in range(m_test):\n",
    "    if activation(x_test[i], theta) > 0.5:\n",
    "        print('predicted class 1 and is actually', y[i])\n",
    "        if y[i] == 1: correct += 1\n",
    "    else:\n",
    "        print('predicted class 0 and is actually', y[i])\n",
    "        if y[i] == 0: correct += 1\n",
    "print('Accuracy: ', correct/m_test)"
   ]
  },
  {
   "cell_type": "code",
   "execution_count": 43,
   "metadata": {},
   "outputs": [
    {
     "name": "stderr",
     "output_type": "stream",
     "text": [
      "c:\\users\\hp\\appdata\\local\\programs\\python\\python37-32\\lib\\site-packages\\ipykernel_launcher.py:4: SettingWithCopyWarning: \n",
      "A value is trying to be set on a copy of a slice from a DataFrame.\n",
      "Try using .loc[row_indexer,col_indexer] = value instead\n",
      "\n",
      "See the caveats in the documentation: http://pandas.pydata.org/pandas-docs/stable/indexing.html#indexing-view-versus-copy\n",
      "  after removing the cwd from sys.path.\n",
      "c:\\users\\hp\\appdata\\local\\programs\\python\\python37-32\\lib\\site-packages\\ipykernel_launcher.py:5: SettingWithCopyWarning: \n",
      "A value is trying to be set on a copy of a slice from a DataFrame.\n",
      "Try using .loc[row_indexer,col_indexer] = value instead\n",
      "\n",
      "See the caveats in the documentation: http://pandas.pydata.org/pandas-docs/stable/indexing.html#indexing-view-versus-copy\n",
      "  \"\"\"\n",
      "c:\\users\\hp\\appdata\\local\\programs\\python\\python37-32\\lib\\site-packages\\ipykernel_launcher.py:7: SettingWithCopyWarning: \n",
      "A value is trying to be set on a copy of a slice from a DataFrame.\n",
      "Try using .loc[row_indexer,col_indexer] = value instead\n",
      "\n",
      "See the caveats in the documentation: http://pandas.pydata.org/pandas-docs/stable/indexing.html#indexing-view-versus-copy\n",
      "  import sys\n",
      "c:\\users\\hp\\appdata\\local\\programs\\python\\python37-32\\lib\\site-packages\\ipykernel_launcher.py:8: SettingWithCopyWarning: \n",
      "A value is trying to be set on a copy of a slice from a DataFrame.\n",
      "Try using .loc[row_indexer,col_indexer] = value instead\n",
      "\n",
      "See the caveats in the documentation: http://pandas.pydata.org/pandas-docs/stable/indexing.html#indexing-view-versus-copy\n",
      "  \n",
      "c:\\users\\hp\\appdata\\local\\programs\\python\\python37-32\\lib\\site-packages\\ipykernel_launcher.py:22: RuntimeWarning: invalid value encountered in sqrt\n",
      "c:\\users\\hp\\appdata\\local\\programs\\python\\python37-32\\lib\\site-packages\\ipykernel_launcher.py:23: RuntimeWarning: invalid value encountered in sqrt\n"
     ]
    },
    {
     "data": {
      "image/png": "[encoded data removed]",
      "text/plain": [
       "<Figure size 432x288 with 1 Axes>"
      ]
     },
     "metadata": {
      "needs_background": "light"
     },
     "output_type": "display_data"
    }
   ],
   "source": [
    "class1 = train_data[train_data.y == 0]\n",
    "class2 = train_data[train_data.y == 1]\n",
    "\n",
    "class1['x1'] = (class1['x1']-x1_mu)/x1_st\n",
    "class1['x2'] = (class1['x2']-x2_mu)/x2_st\n",
    "\n",
    "class2['x1'] = (class2['x1']-x1_mu)/x1_st\n",
    "class2['x2'] = (class2['x2']-x2_mu)/x2_st\n",
    "\n",
    "plt.plot(class1['x1'], class1['x2'], 'r*')\n",
    "plt.plot(class2['x1'], class2['x2'], 'b^')\n",
    "\n",
    "t0 = np.float(theta[0])\n",
    "t1 = np.float(theta[1])\n",
    "t2 = np.float(theta[2])\n",
    "t3 = np.float(theta[3])\n",
    "t4 = np.float(theta[4])\n",
    "t5 = np.float(theta[5])\n",
    "\n",
    "bound = np.array(np.arange(-2, 2, 0.01))\n",
    "\n",
    "plt.plot(bound, (-t2-t5*bound+np.sqrt((t2+t5*bound)**2 - 4*t4*(t3*bound**2+t1*bound+t0)))/(2*t4), 'g.')\n",
    "plt.plot(bound, (-t2-t5*bound-np.sqrt((t2+t5*bound)**2 - 4*t4*(t3*bound**2+t1*bound+t0)))/(2*t4), 'g.')\n",
    "\n",
    "plt.show()"
   ]
  },
  {
   "cell_type": "code",
   "execution_count": null,
   "metadata": {},
   "outputs": [],
   "source": []
  },
  {
   "cell_type": "code",
   "execution_count": null,
   "metadata": {},
   "outputs": [],
   "source": []
  }
 ],
 "metadata": {
  "kernelspec": {
   "display_name": "Python 3",
   "language": "python",
   "name": "python3"
  },
  "language_info": {
   "codemirror_mode": {
    "name": "ipython",
    "version": 3
   },
   "file_extension": ".py",
   "mimetype": "text/x-python",
   "name": "python",
   "nbconvert_exporter": "python",
   "pygments_lexer": "ipython3",
   "version": "3.6.8"
  }
 },
 "nbformat": 4,
 "nbformat_minor": 4
}
