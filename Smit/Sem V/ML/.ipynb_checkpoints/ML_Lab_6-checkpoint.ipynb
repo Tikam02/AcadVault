{
  "nbformat": 4,
  "nbformat_minor": 0,
  "metadata": {
    "colab": {
      "name": "ML_Lab_6.ipynb",
      "provenance": []
    },
    "kernelspec": {
      "name": "python3",
      "display_name": "Python 3"
    }
  },
  "cells": [
    {
      "cell_type": "code",
      "metadata": {
        "id": "ey68rFCgsxfF",
        "colab_type": "code",
        "colab": {}
      },
      "source": [
        "import numpy as np\n",
        "import pandas as pd\n",
        "import matplotlib.pyplot as plt\n",
        "import scipy.io\n",
        "import h5py"
      ],
      "execution_count": 0,
      "outputs": []
    },
    {
      "cell_type": "code",
      "metadata": {
        "id": "i-vXksIGs-lt",
        "colab_type": "code",
        "colab": {
          "base_uri": "https://localhost:8080/",
          "height": 104
        },
        "outputId": "8f9a20e6-c6ca-40cd-8c45-1ff81b94849b"
      },
      "source": [
        "face_images = {}\n",
        "with h5py.File('faceimages.mat', 'r') as f:\n",
        "    data = f.keys()\n",
        "    for k, v in f.items():\n",
        "        print(k)\n",
        "        face_images[k] = np.array(v)"
      ],
      "execution_count": 2,
      "outputs": [
        {
          "output_type": "stream",
          "text": [
            "Database_name\n",
            "Record_Name\n",
            "data\n",
            "height\n",
            "width\n"
          ],
          "name": "stdout"
        }
      ]
    },
    {
      "cell_type": "code",
      "metadata": {
        "id": "I6zHXd7Gw8c5",
        "colab_type": "code",
        "colab": {
          "base_uri": "https://localhost:8080/",
          "height": 139
        },
        "outputId": "20510f55-ccd8-41c0-c351-d8dfc2e29bd3"
      },
      "source": [
        "face_data = face_images['data'][:-1]\n",
        "face_data"
      ],
      "execution_count": 3,
      "outputs": [
        {
          "output_type": "execute_result",
          "data": {
            "text/plain": [
              "array([[ 48.,  59.,  40., ..., 121., 118., 122.],\n",
              "       [ 46.,  63.,  50., ..., 122., 118., 123.],\n",
              "       [ 47.,  67.,  51., ..., 123., 118., 124.],\n",
              "       ...,\n",
              "       [ 45.,  34.,  28., ...,  40.,  90.,  34.],\n",
              "       [ 46.,  33.,  27., ...,  39.,  92.,  31.],\n",
              "       [ 47.,  34.,  28., ...,  39.,  89.,  35.]])"
            ]
          },
          "metadata": {
            "tags": []
          },
          "execution_count": 3
        }
      ]
    },
    {
      "cell_type": "code",
      "metadata": {
        "id": "SnChq3pyxOCL",
        "colab_type": "code",
        "colab": {}
      },
      "source": [
        "mean = np.mean(face_data, axis = 0)\n",
        "face_data = face_data - np.mean(face_data, axis = 0)"
      ],
      "execution_count": 0,
      "outputs": []
    },
    {
      "cell_type": "code",
      "metadata": {
        "id": "RVkRRL6WybUF",
        "colab_type": "code",
        "colab": {}
      },
      "source": [
        "face_cov = np.cov(face_data)"
      ],
      "execution_count": 0,
      "outputs": []
    },
    {
      "cell_type": "code",
      "metadata": {
        "id": "UxWQgqmtzkAs",
        "colab_type": "code",
        "colab": {}
      },
      "source": [
        "eigenValues, eigenVectors = np.linalg.eig(face_cov)\n",
        "idx = eigenValues.argsort()[::-1]\n",
        "eigenValues = eigenValues[idx]\n",
        "eigenVectors = eigenVectors[:,idx]"
      ],
      "execution_count": 0,
      "outputs": []
    },
    {
      "cell_type": "code",
      "metadata": {
        "id": "w_dQaPSe0Eb8",
        "colab_type": "code",
        "colab": {}
      },
      "source": [
        "eigenVectors.shape"
      ],
      "execution_count": 0,
      "outputs": []
    },
    {
      "cell_type": "code",
      "metadata": {
        "id": "CPxKIwBw5SXZ",
        "colab_type": "code",
        "colab": {}
      },
      "source": [
        "reconstX50 = np.matmul(eigenVectors[:50, :], "
      ],
      "execution_count": 0,
      "outputs": []
    }
  ]
}