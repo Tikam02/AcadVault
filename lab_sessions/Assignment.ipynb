{
  "nbformat": 4,
  "nbformat_minor": 0,
  "metadata": {
    "colab": {
      "name": "Assignment.ipynb",
      "version": "0.3.2",
      "provenance": [],
      "include_colab_link": true
    },
    "kernelspec": {
      "name": "python3",
      "display_name": "Python 3"
    }
  },
  "cells": [
    {
      "cell_type": "markdown",
      "metadata": {
        "id": "view-in-github",
        "colab_type": "text"
      },
      "source": [
        "<a href=\"https://colab.research.google.com/github/nishi1612/SC374-Computational-and-Numerical-Methods/blob/master/Assignment.ipynb\" target=\"_parent\"><img src=\"https://colab.research.google.com/assets/colab-badge.svg\" alt=\"Open In Colab\"/></a>"
      ]
    },
    {
      "metadata": {
        "id": "b6FmSM5qdyE8",
        "colab_type": "text"
      },
      "cell_type": "markdown",
      "source": [
        "Assignment\n",
        "---\n",
        "\n"
      ]
    },
    {
      "metadata": {
        "id": "ZjD2vKvoD0FQ",
        "colab_type": "code",
        "colab": {}
      },
      "cell_type": "code",
      "source": [
        "import matplotlib.pyplot as plt\n",
        "import math\n",
        "import numpy as np"
      ],
      "execution_count": 0,
      "outputs": []
    },
    {
      "metadata": {
        "id": "y6ojlgYPdvls",
        "colab_type": "text"
      },
      "cell_type": "markdown",
      "source": [
        "**Question 1**"
      ]
    },
    {
      "metadata": {
        "id": "S4N77s56-nM0",
        "colab_type": "code",
        "outputId": "509960a4-af8d-456c-9c13-3e29c693099a",
        "colab": {
          "base_uri": "https://localhost:8080/",
          "height": 382
        }
      },
      "cell_type": "code",
      "source": [
        "p = []\n",
        "i = 0.05\n",
        "while i<1:\n",
        "  p.append(i)\n",
        "  i = i + 0.05\n",
        "  i = round(i,2)\n",
        "I = [-1*(i*math.log(i,2) + (1-i)*math.log(1-i,2)) for i in p]\n",
        "plt.plot(p,I,color='b')\n",
        "plt.xlabel('$P(i)$')\n",
        "plt.ylabel('$I$')\n",
        "plt.title('$P(i)$ v/s $I$')\n",
        "plt.show()"
      ],
      "execution_count": 0,
      "outputs": [
        {
          "output_type": "display_data",
          "data": {
            "image/png": "[encoded data removed]",
            "text/plain": [
              "<matplotlib.figure.Figure at 0x7fb63a9bd6d8>"
            ]
          },
          "metadata": {
            "tags": []
          }
        }
      ]
    },
    {
      "metadata": {
        "id": "DDVKxfWQAdHu",
        "colab_type": "code",
        "outputId": "7b74616f-5abb-483f-987e-7cc977261f1d",
        "colab": {
          "base_uri": "https://localhost:8080/",
          "height": 34
        }
      },
      "cell_type": "code",
      "source": [
        "epsilon = 0.005\n",
        "p = 0.5 + epsilon\n",
        "k = 2\n",
        "i = -1*k*(p*math.log(p,2) + (1-p)*math.log(1-p,2))\n",
        "i , k - (4*epsilon*epsilon*k/math.log(2,math.e))"
      ],
      "execution_count": 0,
      "outputs": [
        {
          "output_type": "execute_result",
          "data": {
            "text/plain": [
              "(1.999855728091323, 1.9997114609918223)"
            ]
          },
          "metadata": {
            "tags": []
          },
          "execution_count": 3
        }
      ]
    },
    {
      "metadata": {
        "id": "X7qubuXpG9Ew",
        "colab_type": "code",
        "outputId": "63f1fba6-eb25-4012-8f75-94f72c2b6d8b",
        "colab": {
          "base_uri": "https://localhost:8080/",
          "height": 739
        }
      },
      "cell_type": "code",
      "source": [
        "epsilon = np.arange(-0.4,0.4,0.0001)\n",
        "  \n",
        "k = 2\n",
        "\n",
        "I = [(-1*k*((0.5+x)*math.log(0.5+x,2) + (0.5-x)*math.log(0.5-x,2))) for x in epsilon]\n",
        "  \n",
        "P = [0.5 + x for x in epsilon]\n",
        "\n",
        "plt.plot(P,I,color='blue',label=\"Value obtained by P(i)\")\n",
        "f = [k - 4*k*x*x/math.log(2,math.e) for x in epsilon]\n",
        "plt.plot(P,f,color='green',label=\"Value obtained by epsilon\")\n",
        "plt.xlabel('$P(i) / epsilon$')\n",
        "plt.ylabel('$I$')\n",
        "plt.legend()\n",
        "plt.title('Comparing Information Content obtained by P(i) and epsilon values')\n",
        "plt.show()\n",
        "\n",
        "err = []\n",
        "for i in range(len(I)):\n",
        "  err.append(I[i]-f[i])\n",
        "\n",
        "plt.plot(epsilon,err,color='b')\n",
        "plt.xlabel('Epsilon')\n",
        "plt.ylabel('Error')\n",
        "plt.title(\"Error v/s Epsilon\")\n",
        "plt.show()"
      ],
      "execution_count": 0,
      "outputs": [
        {
          "output_type": "display_data",
          "data": {
            "image/png": "[encoded data removed]",
            "text/plain": [
              "<matplotlib.figure.Figure at 0x7fb63a88b550>"
            ]
          },
          "metadata": {
            "tags": []
          }
        },
        {
          "output_type": "display_data",
          "data": {
            "image/png": "[encoded data removed]",
            "text/plain": [
              "<matplotlib.figure.Figure at 0x7fb63ac0c4a8>"
            ]
          },
          "metadata": {
            "tags": []
          }
        }
      ]
    },
    {
      "metadata": {
        "id": "Z4CyhflpjMMM",
        "colab_type": "text"
      },
      "cell_type": "markdown",
      "source": [
        "We observe that as value of epsilon goes away from 0 on either side; error increases. 0 error is found when value of epsilon is 0."
      ]
    },
    {
      "metadata": {
        "id": "EXQGTkyWd62C",
        "colab_type": "text"
      },
      "cell_type": "markdown",
      "source": [
        "**Question 2**"
      ]
    },
    {
      "metadata": {
        "id": "RgwQdZldK4oY",
        "colab_type": "code",
        "outputId": "4306fbf9-ede1-4aaf-c7ae-f067da994f27",
        "colab": {
          "base_uri": "https://localhost:8080/",
          "height": 7718
        }
      },
      "cell_type": "code",
      "source": [
        "ra = (10**1.6)*7*(10**8) \n",
        "rb = (10**3.6)*7*(10**8)\n",
        "\n",
        "G = 6.754 * (10**(-11))\n",
        "M = 2* (10**30)\n",
        "n = 2.5\n",
        "cs = 10\n",
        "d = -n*(cs**2)\n",
        "rho = 10**(-21)\n",
        "gamma = 7/5\n",
        "j = n\n",
        "mdot = (math.pi*(G**2)*(M**2)*rho*j)/(cs**3)\n",
        "mudot = (mdot * cs**(2*n))/(rho * 4*math.pi)    \n",
        "\n",
        "def f(v,r):    \n",
        "    c = -G*M/r\n",
        "    b = n * (((mudot/(v*(r**2))))**(1/n))\n",
        "    a = (v**2)/2\n",
        "    return a+b+c+d\n",
        "\n",
        "epsilon = 10**-10\n",
        "\n",
        "def bissection(a,b,r):\n",
        "    c = (a+b)/2;\n",
        "    dist = b-c;\n",
        "    while(dist>epsilon):\n",
        "        ans_a = f(a,r);\n",
        "        ans_b = f(b,r);\n",
        "        ans_c = f(c,r);\n",
        "        if(ans_a*ans_c < 0):\n",
        "            b=c;\n",
        "        else:\n",
        "            a=c;\n",
        "        c = (a+b) / 2\n",
        "        dist = b-c \n",
        "    return (a+b)/2\n",
        "\n",
        "def func_cs(r,v):\n",
        "    print(v/((mdot / (4*math.pi*v*r*r*rho))**(1/5)))\n",
        "    csr = 10 * ((mdot / (4*math.pi*v*r*r*rho))**(1/5))\n",
        "    return csr\n",
        "\n",
        "r = np.arange(ra,rb,10000000000)\n",
        "dv = 0.1\n",
        "va = 0.001\n",
        "vb = 10**5\n",
        "v = np.arange(va,vb,dv)\n",
        "\n",
        "ans_v1 = []\n",
        "ans_v2 = []\n",
        "ans_r = []\n",
        "\n",
        "for ri in r:\n",
        "    flag = 0\n",
        "    scale_r = math.log10(ri/(7.0*10**8))\n",
        "    ans_r.append(scale_r)\n",
        "    print(\"Value of r \" + str(scale_r))\n",
        "    for vj in v:\n",
        "        if( (f(vj,ri) * f(vj+dv,ri)) < 0):\n",
        "            if(flag==0):\n",
        "                v1 = bissection(vj,vj+dv,ri)\n",
        "                ans_v1.append(v1)\n",
        "                flag = 1\n",
        "                print(\"Value of v1 \" + str(ans_v1[len(ans_v1)-1]))\n",
        "            else:\n",
        "                v1 = bissection(vj,vj+dv,ri)\n",
        "                ans_v2.append(v1)\n",
        "                flag=1\n",
        "                print(\"Value of v2 \" + str(ans_v2[len(ans_v2)-1]))\n",
        "    print(\"\\n\")\n",
        "len(ans_r) , len(ans_v1) , len(ans_v2)"
      ],
      "execution_count": 0,
      "outputs": [
        {
          "output_type": "stream",
          "text": [
            "Value of r 1.6\n",
            "Value of v1 0.008871222589164972\n",
            "Value of v2 98385.49274801332\n",
            "\n",
            "\n",
            "Value of r 1.73316861630799\n",
            "Value of v1 0.010341124538332228\n",
            "Value of v2 84392.44860602685\n",
            "\n",
            "\n",
            "Value of r 1.8349427235335622\n",
            "Value of v1 0.011626655351370573\n",
            "Value of v2 75055.02488427347\n",
            "\n",
            "\n",
            "Value of r 1.9173366948525743\n",
            "Value of v1 0.012783558595925571\n",
            "Value of v2 68257.50190268416\n",
            "\n",
            "\n",
            "Value of r 1.9865638239969434\n",
            "Value of v1 0.013844118569046262\n",
            "Value of v2 63024.24226551906\n",
            "\n",
            "\n",
            "Value of r 2.046258202337977\n",
            "Value of v1 0.014829020876437424\n",
            "Value of v2 58834.7250365236\n",
            "\n",
            "\n",
            "Value of r 2.0987302396288374\n",
            "Value of v1 0.015752463344484574\n",
            "Value of v2 55382.553814241226\n",
            "\n",
            "\n",
            "Value of r 2.1455404631092936\n",
            "Value of v1 0.016624690521508452\n",
            "Value of v2 52474.07221963436\n",
            "\n",
            "\n",
            "Value of r 2.1877925811789662\n",
            "Value of v1 0.017453382465988397\n",
            "Value of v2 49980.08444284583\n",
            "\n",
            "\n",
            "Value of r 2.2262960392607\n",
            "Value of v1 0.01824447263404727\n",
            "Value of v2 47810.656522470636\n",
            "\n",
            "\n",
            "Value of r 2.2616621407266693\n",
            "Value of v1 0.019002657685428866\n",
            "Value of v2 45900.997819459364\n",
            "\n",
            "\n",
            "Value of r 2.2943638665387818\n",
            "Value of v1 0.019731731083244088\n",
            "Value of v2 44203.08982690082\n",
            "\n",
            "\n",
            "Value of r 2.3247746959873186\n",
            "Value of v1 0.020434809032827614\n",
            "Value of v2 42680.48737109239\n",
            "\n",
            "\n",
            "Value of r 2.3531946968257165\n",
            "Value of v1 0.021114488434046515\n",
            "Value of v2 41304.96275420777\n",
            "\n",
            "\n",
            "Value of r 2.3798685876619055\n",
            "Value of v1 0.02177296068891884\n",
            "Value of v2 40054.2673863902\n",
            "\n",
            "\n",
            "Value of r 2.4049985656416046\n",
            "Value of v1 0.022412095148116352\n",
            "Value of v2 38910.596180102344\n",
            "\n",
            "\n",
            "Value of r 2.428753620611391\n",
            "Value of v1 0.02303350169584155\n",
            "Value of v2 37859.508001703136\n",
            "\n",
            "\n",
            "Value of r 2.4512764308589285\n",
            "Value of v1 0.023638578247278934\n",
            "Value of v2 36889.1502947978\n",
            "\n",
            "\n",
            "Value of r 2.4726885569079275\n",
            "Value of v1 0.024228548374027013\n",
            "Value of v2 35989.69151666008\n",
            "\n",
            "\n",
            "Value of r 2.4930944138150375\n",
            "Value of v1 0.024804489988833667\n",
            "Value of v2 35152.89861689166\n",
            "\n",
            "\n",
            "Value of r 2.512584351269386\n",
            "Value of v1 0.025367358814924953\n",
            "Value of v2 34371.81769483212\n",
            "\n",
            "\n",
            "Value of r 2.5312370716625283\n",
            "Value of v1 0.025918006267398597\n",
            "Value of v2 33640.52932241627\n",
            "\n",
            "\n",
            "Value of r 2.5491215498682678\n",
            "Value of v1 0.026457195658236746\n",
            "Value of v2 32953.95874084748\n",
            "\n",
            "\n",
            "Value of r 2.566298573089217\n",
            "Value of v1 0.02698561393097043\n",
            "Value of v2 32307.726955922815\n",
            "\n",
            "\n",
            "Value of r 2.5828219875738334\n",
            "Value of v1 0.02750388153269888\n",
            "Value of v2 31698.032708970568\n",
            "\n",
            "\n",
            "Value of r 2.5987397167164046\n",
            "Value of v1 0.02801256209984422\n",
            "Value of v2 31121.558031769397\n",
            "\n",
            "\n",
            "Value of r 2.6140945990725357\n",
            "Value of v1 0.028512168791145084\n",
            "Value of v2 30575.39201118939\n",
            "\n",
            "\n",
            "Value of r 2.6289250832123057\n",
            "Value of v1 0.029003170620650054\n",
            "Value of v2 30056.968754570495\n",
            "\n",
            "\n",
            "Value of r 2.6432658077926043\n",
            "Value of v1 0.029485997114330538\n",
            "Value of v2 29564.01653193117\n",
            "\n",
            "\n",
            "Value of r 2.6571480888752594\n",
            "Value of v1 0.0299610437117517\n",
            "Value of v2 29094.51579052575\n",
            "\n",
            "\n",
            "Value of r 2.670600331738593\n",
            "Value of v1 0.03042867493256926\n",
            "Value of v2 28646.664268688975\n",
            "\n",
            "\n",
            "Value of r 2.6836483808005207\n",
            "Value of v1 0.030889227356761702\n",
            "Value of v2 28218.847832561034\n",
            "\n",
            "\n",
            "Value of r 2.696315818489259\n",
            "Value of v1 0.03134301297739148\n",
            "Value of v2 27809.615958293638\n",
            "\n",
            "\n",
            "Value of r 2.708624221746822\n",
            "Value of v1 0.03179032180830836\n",
            "Value of v2 27417.661009796087\n",
            "\n",
            "\n",
            "Value of r 2.7205933831741054\n",
            "Value of v1 0.03223142337426544\n",
            "Value of v2 27041.800636600077\n",
            "\n",
            "\n",
            "Value of r 2.7322415025098605\n",
            "Value of v1 0.03266656913235783\n",
            "Value of v2 26680.962751415856\n",
            "\n",
            "\n",
            "Value of r 2.7435853530946184\n",
            "Value of v1 0.033095994148403404\n",
            "Value of v2 26334.17265215714\n",
            "\n",
            "\n",
            "Value of r 2.754640427141508\n",
            "Value of v1 0.03351991802826524\n",
            "Value of v2 26000.541935794907\n",
            "\n",
            "\n",
            "Value of r 2.7654210629715372\n",
            "Value of v1 0.03393854696676136\n",
            "Value of v2 25679.258916660525\n",
            "\n",
            "\n",
            "Value of r 2.7759405568353217\n",
            "Value of v1 0.03435207467898726\n",
            "Value of v2 25369.58031372178\n",
            "\n",
            "\n",
            "Value of r 2.78621126150904\n",
            "Value of v1 0.03476068314537407\n",
            "Value of v2 25070.82401288071\n",
            "\n",
            "\n",
            "Value of r 2.796244673498454\n",
            "Value of v1 0.035164543915539984\n",
            "Value of v2 24782.362743765043\n",
            "\n",
            "\n",
            "Value of r 2.8060515103948833\n",
            "Value of v1 0.03556381866708399\n",
            "Value of v2 24503.618537520728\n",
            "\n",
            "\n",
            "Value of r 2.8156417796882844\n",
            "Value of v1 0.03595866032317281\n",
            "Value of v2 24234.057854103034\n",
            "\n",
            "\n",
            "Value of r 2.8250248401451517\n",
            "Value of v1 0.036349213052541025\n",
            "Value of v2 23973.187285541673\n",
            "\n",
            "\n",
            "Value of r 2.8342094566949094\n",
            "Value of v1 0.03673561375960708\n",
            "Value of v2 23720.54975640859\n",
            "\n",
            "\n",
            "Value of r 2.8432038496316423\n",
            "Value of v1 0.03711799227073788\n",
            "Value of v2 23475.72115489219\n",
            "\n",
            "\n",
            "Value of r 2.852015738823366\n",
            "Value of v1 0.037496471520513296\n",
            "Value of v2 23238.307337971528\n",
            "\n",
            "\n",
            "Value of r 2.8606523835246587\n",
            "Value of v1 0.037871168483048695\n",
            "Value of v2 23007.941462560862\n",
            "\n",
            "\n",
            "Value of r 2.869120618307151\n",
            "Value of v1 0.03824219417199493\n",
            "Value of v2 22784.281601513103\n",
            "\n",
            "\n",
            "Value of r 2.8774268855534353\n",
            "Value of v1 0.03860965457186103\n",
            "Value of v2 22567.00860922814\n",
            "\n",
            "\n",
            "Value of r 2.885577264901453\n",
            "Value of v1 0.038973650451749574\n",
            "Value of v2 22355.824206560217\n",
            "\n",
            "\n",
            "Value of r 2.893577499976463\n",
            "Value of v1 0.03933427792415022\n",
            "Value of v2 22150.44925888323\n",
            "\n",
            "\n",
            "Value of r 2.9014330227050227\n",
            "Value of v1 0.0396916290037334\n",
            "Value of v2 21950.62222470429\n",
            "\n",
            "\n",
            "Value of r 2.90914897546878\n",
            "Value of v1 0.04004579123482108\n",
            "Value of v2 21756.097755213945\n",
            "\n",
            "\n",
            "Value of r 2.916730231324368\n",
            "Value of v1 0.04039684862270953\n",
            "Value of v2 21566.64542772148\n",
            "\n",
            "\n",
            "Value of r 2.924181412488516\n",
            "Value of v1 0.04074488144740463\n",
            "Value of v2 21382.048598106507\n",
            "\n",
            "\n",
            "Value of r 2.93150690726397\n",
            "Value of v1 0.04108996626362205\n",
            "Value of v2 21202.10335929015\n",
            "\n",
            "\n",
            "Value of r 2.9387108855614232\n",
            "Value of v1 0.0414321770183742\n",
            "Value of v2 21026.617594343545\n",
            "\n",
            "\n",
            "Value of r 2.9457973131549418\n",
            "Value of v1 0.04177158430591227\n",
            "Value of v2 20855.4101142335\n",
            "\n",
            "\n",
            "Value of r 2.9527699647928918\n",
            "Value of v1 0.04210825592651964\n",
            "Value of v2 20688.309871410325\n",
            "\n",
            "\n",
            "Value of r 2.9596324362728983\n",
            "Value of v1 0.042442256886512035\n",
            "Value of v2 20525.155241475193\n",
            "\n",
            "\n",
            "Value of r 2.966388155577538\n",
            "Value of v1 0.0427736497707665\n",
            "Value of v2 20365.793366072627\n",
            "\n",
            "\n",
            "Value of r 2.9730403931571\n",
            "Value of v1 0.04310249474272131\n",
            "Value of v2 20210.079550932096\n",
            "\n",
            "\n",
            "Value of r 2.979592271436623\n",
            "Value of v1 0.04342884973064066\n",
            "Value of v2 20057.876713673148\n",
            "\n",
            "\n",
            "Value of r 2.9860467736164016\n",
            "Value of v1 0.04375277042761446\n",
            "Value of v2 19909.054876583556\n",
            "\n",
            "\n",
            "Value of r 2.992406751828033\n",
            "Value of v1 0.044074310477823016\n",
            "Value of v2 19763.49070010383\n",
            "\n",
            "\n",
            "Value of r 2.998674934701837\n",
            "Value of v1 0.044393521662801506\n",
            "Value of v2 19621.067053214203\n",
            "\n",
            "\n",
            "Value of r 3.00485393439589\n",
            "Value of v1 0.044710453715175395\n",
            "Value of v2 19481.67261732214\n",
            "\n",
            "\n",
            "Value of r 3.0109462531319964\n",
            "Value of v1 0.04502515506371856\n",
            "Value of v2 19345.201520606992\n",
            "\n",
            "\n",
            "Value of r 3.016954289279533\n",
            "Value of v1 0.04533767190203072\n",
            "Value of v2 19211.553000092434\n",
            "\n",
            "\n",
            "Value of r 3.022880343024178\n",
            "Value of v1 0.04564804911985993\n",
            "Value of v2 19080.63108899325\n",
            "\n",
            "\n",
            "Value of r 3.0287266216550646\n",
            "Value of v1 0.04595633011683823\n",
            "Value of v2 18952.34432713699\n",
            "\n",
            "\n",
            "Value of r 3.034495244500761\n",
            "Value of v1 0.04626255698874594\n",
            "Value of v2 18826.60549246941\n",
            "\n",
            "\n",
            "Value of r 3.040188247541718\n",
            "Value of v1 0.0465667697824538\n",
            "Value of v2 18703.331351856446\n",
            "\n",
            "\n",
            "Value of r 3.04580758772428\n",
            "Value of v1 0.04686900817230344\n",
            "Value of v2 18582.4424295652\n",
            "\n",
            "\n",
            "Value of r 3.0513551469991564\n",
            "Value of v1 0.04716930996999145\n",
            "Value of v2 18463.86279195652\n",
            "\n",
            "\n",
            "Value of r 3.0568327361051915\n",
            "Value of v1 0.04746771186962725\n",
            "Value of v2 18347.519847070544\n",
            "\n",
            "\n",
            "Value of r 3.0622420981174754\n",
            "Value of v1 0.04776424963399768\n",
            "Value of v2 18233.344157897234\n",
            "\n",
            "\n",
            "Value of r 3.067584911777194\n",
            "Value of v1 0.04805895753577352\n",
            "Value of v2 18121.269268244243\n",
            "\n",
            "\n",
            "Value of r 3.072862794619127\n",
            "Value of v1 0.04835186910256744\n",
            "Value of v2 18011.23154020973\n",
            "\n",
            "\n",
            "Value of r 3.0780773059113824\n",
            "Value of v1 0.048643016930669546\n",
            "Value of v2 17903.17000235591\n",
            "\n",
            "\n",
            "Value of r 3.0832299494207245\n",
            "Value of v1 0.04893243231251836\n",
            "Value of v2 17797.026207760457\n",
            "\n",
            "\n",
            "Value of r 3.0883221760157733\n",
            "Value of v1 0.049220145981758834\n",
            "Value of v2 17692.74410119738\n",
            "\n",
            "\n",
            "Value of r 3.0933553861193492\n",
            "Value of v1 0.04950618755444885\n",
            "Value of v2 17590.269894757977\n",
            "\n",
            "\n",
            "Value of r 3.0983309320203274\n",
            "Value of v1 0.0497905857153237\n",
            "Value of v2 17489.551951288915\n",
            "\n",
            "\n",
            "Value of r 3.10325012005456\n",
            "Value of v1 0.05007336859032511\n",
            "Value of v2 17390.540675070253\n",
            "\n",
            "\n",
            "Value of r 3.1081142126636574\n",
            "Value of v1 0.05035456337407233\n",
            "Value of v2 17293.188409209928\n",
            "\n",
            "\n",
            "Value of r 3.1129244303397465\n",
            "Value of v1 0.05063419670239092\n",
            "Value of v2 17197.44933927182\n",
            "\n",
            "\n",
            "Value of r 3.1176819534637104\n",
            "Value of v1 0.05091229390725494\n",
            "Value of v2 17103.279402694032\n",
            "\n",
            "\n",
            "Value of r 3.1223879240438195\n",
            "Value of v1 0.05118888032063842\n",
            "Value of v2 17010.63620359164\n"
          ],
          "name": "stdout"
        }
      ]
    },
    {
      "metadata": {
        "id": "tg-7cIbaYD9B",
        "colab_type": "code",
        "outputId": "4b42649c-6346-49bc-ddd8-cf43ff61b6e6",
        "colab": {
          "base_uri": "https://localhost:8080/",
          "height": 347
        }
      },
      "cell_type": "code",
      "source": [
        "plt.plot(ans_r,ans_v1)\n",
        "plt.plot(ans_r,ans_v2)\n",
        "plt.show()"
      ],
      "execution_count": 0,
      "outputs": [
        {
          "output_type": "display_data",
          "data": {
            "image/png": "[encoded data removed]",
            "text/plain": [
              "<matplotlib.figure.Figure at 0x7f2d28bb7e10>"
            ]
          },
          "metadata": {
            "tags": []
          }
        }
      ]
    },
    {
      "metadata": {
        "id": "uoxW_s9TZ9hM",
        "colab_type": "code",
        "outputId": "8768d32c-6434-43d1-b978-8b75132ffab3",
        "colab": {
          "base_uri": "https://localhost:8080/",
          "height": 34
        }
      },
      "cell_type": "code",
      "source": [
        "coeff = [1,-2,-4,3]\n",
        "ans = np.roots(coeff)\n",
        "print(ans)()"
      ],
      "execution_count": 0,
      "outputs": [
        {
          "output_type": "stream",
          "text": [
            "[ 3.         -1.61803399  0.61803399]\n"
          ],
          "name": "stdout"
        }
      ]
    },
    {
      "metadata": {
        "id": "AT_kde5sfZXW",
        "colab_type": "code",
        "outputId": "c8f6fe82-0a7b-4682-d89d-e53bdecca8d1",
        "colab": {
          "base_uri": "https://localhost:8080/",
          "height": 364
        }
      },
      "cell_type": "code",
      "source": [
        "B = 2\n",
        "R = np.arange(2,0.7254,-0.0001)\n",
        "vals1 = []\n",
        "vals2 = []\n",
        "x1 = []\n",
        "x2 = []\n",
        "for r in R:\n",
        "  coeff = [r**4, 0, -B*(r**4), -4*(r**2), 3]\n",
        "  roots = np.roots(coeff)\n",
        "#   print(r)\n",
        "  [y1, y2] = np.real(roots[np.imag(roots)==0])\n",
        "  x1.append((r**-2)*(y1**-1))\n",
        "  x2.append((r**-2)*(y2**-1))\n",
        "  vals1.append(y1)\n",
        "  vals2.append(y2)\n",
        "\n",
        "vals1 = np.array(vals1)\n",
        "vals2 = np.array(vals2)\n",
        "x1 = np.array(x1)\n",
        "x2 = np.array(x2)\n",
        "plt.plot(R, vals1,color='green')\n",
        "plt.plot(R, vals2,color='green')\n",
        "plt.plot(R, (x1*((3*x1) - 2))**0.5,color='red')\n",
        "plt.plot(R, (x2*((3*x2) - 2))**0.5,color='red')\n",
        "plt.show()"
      ],
      "execution_count": 0,
      "outputs": [
        {
          "output_type": "stream",
          "text": [
            "/usr/local/lib/python3.6/dist-packages/ipykernel_launcher.py:23: RuntimeWarning: invalid value encountered in sqrt\n"
          ],
          "name": "stderr"
        },
        {
          "output_type": "display_data",
          "data": {
            "image/png": "[encoded data removed]",
            "text/plain": [
              "<matplotlib.figure.Figure at 0x7effeb332320>"
            ]
          },
          "metadata": {
            "tags": []
          }
        }
      ]
    },
    {
      "metadata": {
        "id": "9aFV0ssBmiie",
        "colab_type": "text"
      },
      "cell_type": "markdown",
      "source": [
        "**Question 4 :**"
      ]
    },
    {
      "metadata": {
        "id": "hJ7T9Fz0fSv6",
        "colab_type": "code",
        "outputId": "756c0afd-0722-4caf-b549-f6a930a06eb1",
        "colab": {
          "base_uri": "https://localhost:8080/",
          "height": 364
        }
      },
      "cell_type": "code",
      "source": [
        "h = []\n",
        "x = np.arange(0,1,0.0001)\n",
        "for i in range(len(x)):\n",
        "  coeff = [1,0,0,-4,3*x[i]]\n",
        "  ans = np.roots(coeff)\n",
        "  x1 = np.real(ans[np.imag(ans)==0])\n",
        "  h.append(x1[1])\n",
        "\n",
        "plt.plot(x,h)\n",
        "\n",
        "h = []\n",
        "x = np.arange(1.0001,2,0.0001)\n",
        "for i in range(len(x)):\n",
        "  coeff = [1,0,0,-4,3*x[i]-3]\n",
        "  ans = np.roots(coeff)\n",
        "  x1 = np.real(ans[np.imag(ans)==0])\n",
        "  h.append(x1[0])\n",
        "\n",
        "plt.plot(x,h)"
      ],
      "execution_count": 0,
      "outputs": [
        {
          "output_type": "execute_result",
          "data": {
            "text/plain": [
              "[<matplotlib.lines.Line2D at 0x7effeb32e240>]"
            ]
          },
          "metadata": {
            "tags": []
          },
          "execution_count": 4
        },
        {
          "output_type": "display_data",
          "data": {
            "image/png": "[encoded data removed]",
            "text/plain": [
              "<matplotlib.figure.Figure at 0x7efff91ae240>"
            ]
          },
          "metadata": {
            "tags": []
          }
        }
      ]
    }
  ]
}