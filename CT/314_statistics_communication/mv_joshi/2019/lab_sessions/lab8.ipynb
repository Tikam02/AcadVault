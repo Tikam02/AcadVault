{
  "nbformat": 4,
  "nbformat_minor": 0,
  "metadata": {
    "colab": {
      "name": "lab8.ipynb",
      "version": "0.3.2",
      "provenance": []
    },
    "language_info": {
      "codemirror_mode": {
        "name": "ipython",
        "version": 3
      },
      "file_extension": ".py",
      "mimetype": "text/x-python",
      "name": "python",
      "nbconvert_exporter": "python",
      "pygments_lexer": "ipython3",
      "version": "3.7.1"
    },
    "kernelspec": {
      "display_name": "Python 3",
      "language": "python",
      "name": "python3"
    }
  },
  "cells": [
    {
      "metadata": {
        "colab_type": "code",
        "id": "waNNfLT_T-lv",
        "colab": {}
      },
      "cell_type": "code",
      "source": [
        "%matplotlib inline\n",
        "import numpy as np\n",
        "import matplotlib.pyplot as plt\n",
        "from scipy import misc\n",
        "from scipy.io import wavfile\n",
        "from numpy import linalg as la\n",
        "import matplotlib.image as mpimg\n",
        "import glob\n",
        "from numpy import linalg as LA\n",
        "import scipy.io as sio"
      ],
      "execution_count": 0,
      "outputs": []
    },
    {
      "metadata": {
        "colab_type": "text",
        "id": "EouDgG_YyD_q"
      },
      "cell_type": "markdown",
      "source": [
        "## <font color='red'> 1. Experimentally prove weak law of large numbers. $$\\lim_{n\\to \\infty} P[\\vert M_n-m_x\\vert>\\epsilon]=0$$ Where, $M_n$ is the sample mean, $m_x$ is the actual mean, $\\epsilon$ is a small positive number and $n$ is the number of sample points.<font>"
      ]
    },
    {
      "metadata": {
        "colab_type": "code",
        "id": "-3b9txWwdPKq",
        "outputId": "62e0c776-2c07-4924-d188-287031d15c33",
        "colab": {
          "base_uri": "https://localhost:8080/",
          "height": 34
        }
      },
      "cell_type": "code",
      "source": [
        "#Law of weak numbers\n",
        "#write code here\n",
        "#sample = np.random.normal(0, 1, 1000)\n",
        "#p= np.zeros(sample.shape)\n",
        "#for i in range(0,9999):\n",
        "#p[i]=np.sum(sample[0:i])/(i+1)\n",
        "count=0\n",
        "for i in range (1,1000):\n",
        "    sample = np.random.normal(0, 1, 1000) #n=1000\n",
        "    meanv= np.mean(sample)\n",
        "    if meanv<0.1: #epsilon\n",
        "        count+=1\n",
        "count=float(count/1000)\n",
        "print(count)\n",
        "    "
      ],
      "execution_count": 9,
      "outputs": [
        {
          "output_type": "stream",
          "text": [
            "0.997\n"
          ],
          "name": "stdout"
        }
      ]
    },
    {
      "metadata": {
        "colab_type": "text",
        "id": "hKMJRDFlzwzJ"
      },
      "cell_type": "markdown",
      "source": [
        "## <font color='red'> 2. Experimentally prove strong law of large numbers. $$P[\\lim_{n\\to \\infty} M_n=m_x]=1,$$ Where, $M_n$ is the sample mean, $m_x$ is the actual mean, and $n$ is the number of sample points.<font>"
      ]
    },
    {
      "metadata": {
        "colab_type": "code",
        "id": "21MajmRmacR5",
        "outputId": "978bed27-f4cd-45b8-fdff-54d192978eef",
        "colab": {
          "base_uri": "https://localhost:8080/",
          "height": 547
        }
      },
      "cell_type": "code",
      "source": [
        "#Law of strong numbers\n",
        "#write code here\n",
        "itr=np.arange(10000)\n",
        "actual_mean=np.zeros(10000)\n",
        "sample = np.random.normal(0, 1, 10000)\n",
        "Mn= np.zeros(sample.shape)\n",
        "for i in range(0,9999):\n",
        "    Mn[i]=np.sum(sample[0:i])/(i+1)\n",
        "plt.figure()\n",
        "plt.plot(itr,actual_mean,label='actual_mean')\n",
        "plt.plot(itr,Mn,label='Mn')\n",
        "plt.legend()\n",
        "plt.figure()\n",
        "plt.plot(itr,Mn-actual_mean,label='error')\n",
        "plt.figure()\n"
      ],
      "execution_count": 0,
      "outputs": [
        {
          "output_type": "execute_result",
          "data": {
            "text/plain": [
              "<Figure size 432x288 with 0 Axes>"
            ]
          },
          "metadata": {
            "tags": []
          },
          "execution_count": 36
        },
        {
          "output_type": "display_data",
          "data": {
            "image/png": "[encoded data removed]",
            "text/plain": [
              "<Figure size 432x288 with 1 Axes>"
            ]
          },
          "metadata": {
            "tags": [],
            "needs_background": "light"
          }
        },
        {
          "output_type": "display_data",
          "data": {
            "image/png": "[encoded data removed]",
            "text/plain": [
              "<Figure size 432x288 with 1 Axes>"
            ]
          },
          "metadata": {
            "tags": [],
            "needs_background": "light"
          }
        },
        {
          "output_type": "display_data",
          "data": {
            "text/plain": [
              "<Figure size 432x288 with 0 Axes>"
            ]
          },
          "metadata": {
            "tags": []
          }
        }
      ]
    },
    {
      "metadata": {
        "colab_type": "text",
        "id": "naVsJJPe7U4A"
      },
      "cell_type": "markdown",
      "source": [
        "## <font color='red'> 3. Experimentally prove central limit theorem. $$\\frac{S_N-E[S_N]}{\\sqrt{var(S_N)}}=\\frac{\\sum_{i=1}^{N}{X_i}-\\sum_{i=1}^{N}{E[X_i]}}{\\sqrt{\\sum_{i=1}^{N}{var[X_i]}}}\\to N(0,1)$$,Where, $X_1, X_2, . . , X_N$ are  random variables with mean $E[X_i]$ and variance $var[X_i]$, $i=1,2,…, N$. <font>"
      ]
    },
    {
      "metadata": {
        "colab_type": "code",
        "id": "cOZDJSCJAQSr",
        "outputId": "a17aefd1-e6ed-4420-c9c0-6908c864c8bb",
        "colab": {
          "base_uri": "https://localhost:8080/",
          "height": 605
        }
      },
      "cell_type": "code",
      "source": [
        "N=100 \n",
        "M=10000\n",
        "x = np.zeros([M,N])\n",
        "#write code here\n",
        "x=np.random.uniform(0,10,[M,N])\n",
        "plt.hist(x[:,0],normed=True)\n",
        "plt.figure()\n",
        "Sn=np.sum(x,0)\n",
        "Sn_mean=np.mean(Sn)\n",
        "sig=np.var(Sn)\n",
        "lim=(Sn-Sn_mean)/np.sqrt(sig)\n",
        "\n",
        "#write code here\n",
        "plt.figure()\n",
        "plt.hist(lim,normed=True)\n",
        "\n",
        "x=np.linspace(-4,4,1000)\n",
        "fx=(1/(np.sqrt(2*np.pi)))*np.exp((-x**2)/2);\n",
        "plt.plot(x,fx)"
      ],
      "execution_count": 10,
      "outputs": [
        {
          "output_type": "stream",
          "text": [
            "/usr/local/lib/python3.6/dist-packages/matplotlib/axes/_axes.py:6521: MatplotlibDeprecationWarning: \n",
            "The 'normed' kwarg was deprecated in Matplotlib 2.1 and will be removed in 3.1. Use 'density' instead.\n",
            "  alternative=\"'density'\", removal=\"3.1\")\n"
          ],
          "name": "stderr"
        },
        {
          "output_type": "execute_result",
          "data": {
            "text/plain": [
              "[<matplotlib.lines.Line2D at 0x7f2e74fd8780>]"
            ]
          },
          "metadata": {
            "tags": []
          },
          "execution_count": 10
        },
        {
          "output_type": "display_data",
          "data": {
            "image/png": "[encoded data removed]",
            "text/plain": [
              "<Figure size 432x288 with 1 Axes>"
            ]
          },
          "metadata": {
            "tags": []
          }
        },
        {
          "output_type": "display_data",
          "data": {
            "text/plain": [
              "<Figure size 432x288 with 0 Axes>"
            ]
          },
          "metadata": {
            "tags": []
          }
        },
        {
          "output_type": "display_data",
          "data": {
            "image/png": "[encoded data removed]",
            "text/plain": [
              "<Figure size 432x288 with 1 Axes>"
            ]
          },
          "metadata": {
            "tags": []
          }
        }
      ]
    },
    {
      "metadata": {
        "colab_type": "code",
        "id": "fKS0BN55BpNh",
        "colab": {}
      },
      "cell_type": "code",
      "source": [
        ""
      ],
      "execution_count": 0,
      "outputs": []
    },
    {
      "metadata": {
        "id": "ZWTjuQ1--qRO",
        "colab_type": "code",
        "colab": {}
      },
      "cell_type": "code",
      "source": [
        ""
      ],
      "execution_count": 0,
      "outputs": []
    }
  ]
}