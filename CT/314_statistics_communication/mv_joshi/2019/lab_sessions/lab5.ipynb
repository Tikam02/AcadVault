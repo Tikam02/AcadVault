{
  "nbformat": 4,
  "nbformat_minor": 0,
  "metadata": {
    "colab": {
      "name": "lab5.ipynb",
      "version": "0.3.2",
      "provenance": [],
      "collapsed_sections": []
    },
    "kernelspec": {
      "display_name": "Python 3",
      "language": "python",
      "name": "python3"
    },
    "accelerator": "GPU"
  },
  "cells": [
    {
      "metadata": {
        "colab_type": "code",
        "id": "6MOcNluBHUd4",
        "colab": {}
      },
      "cell_type": "code",
      "source": [
        "%matplotlib inline\n",
        "import numpy as np\n",
        "import matplotlib.pyplot as plt\n",
        "from mpl_toolkits.mplot3d import Axes3D\n",
        "from matplotlib import cm\n",
        "import matplotlib.image as mpimg"
      ],
      "execution_count": 0,
      "outputs": []
    },
    {
      "metadata": {
        "colab_type": "text",
        "id": "rHoCkPksS_eG"
      },
      "cell_type": "markdown",
      "source": [
        "## Three different Gaussian random variables, i.e., $X1$, $X2$ and $X3$ with $0$ mean and $1$ variance. "
      ]
    },
    {
      "metadata": {
        "colab_type": "code",
        "id": "k3aRQUlwITVQ",
        "outputId": "23fb6057-d846-4435-86d0-cf92239187b2",
        "colab": {
          "base_uri": "https://localhost:8080/",
          "height": 136
        }
      },
      "cell_type": "code",
      "source": [
        "M = 2000\n",
        "X1 = np.random.normal(0,1,M) #write code her e\n",
        "X2 = np.random.normal(0,1,M) #write code here\n",
        "X3 = np.random.normal(0,1,M) #write code here\n",
        "X = np.transpose(np.reshape(np.array([X1,X2,X3]),[3,M]))\n",
        "print(X)"
      ],
      "execution_count": 0,
      "outputs": [
        {
          "output_type": "stream",
          "text": [
            "[[-0.13913385 -1.64526429 -0.11452404]\n",
            " [-0.04225529 -0.86446776  0.94217882]\n",
            " [ 0.7402306   0.08670056  1.85771212]\n",
            " ...\n",
            " [ 0.79849614  0.74890498 -0.79642913]\n",
            " [ 1.3238204  -1.82004281 -0.14445735]\n",
            " [ 1.27999406  1.98390484 -0.01894798]]\n"
          ],
          "name": "stdout"
        }
      ]
    },
    {
      "metadata": {
        "colab_type": "text",
        "id": "grSpBhjFS_ei"
      },
      "cell_type": "markdown",
      "source": [
        "## <font color='red'>1. Compute the covariance matrix of  $X1$, $X2$ and $X3$. Covariance matrix (CV) $$CV = \\begin{bmatrix} cov(X1,X1) & cov(X1,X2)& cov(X1,X3)\\\\cov(X2,X1) & cov(X2,X2)& cov(X2,X3)\\\\cov(X3,X1) & cov(X3,X2)& cov(X3,X3)\\end{bmatrix}.$$ Here, $$cov(X,Y)=E[XY]-E[X]E[Y]$$</font> \n"
      ]
    },
    {
      "metadata": {
        "colab_type": "code",
        "id": "AjP3K-UmDKf5",
        "colab": {}
      },
      "cell_type": "code",
      "source": [
        "def covmat(data_mat):\n",
        "    \n",
        "    mean = data_mat.mean(0)\n",
        "    [rows,cols]=np.shape(data_mat)\n",
        "    idt = np.ones((rows,1))\n",
        "    mean= np.reshape(mean,(1,cols))\n",
        "    minus = np.matmul(idt,mean)\n",
        "    #print(minus)\n",
        "    data_mat=data_mat-minus\n",
        "    XT = np.transpose(data_mat)\n",
        "    CV = np.matmul(XT,data_mat)\n",
        "    #write code here      \n",
        "    return CV"
      ],
      "execution_count": 0,
      "outputs": []
    },
    {
      "metadata": {
        "colab_type": "code",
        "id": "vTI0tis2DKgA",
        "outputId": "b7d80c8e-3de8-41d9-fbb0-45a04bc5381b",
        "colab": {}
      },
      "cell_type": "code",
      "source": [
        "CV = covmat(X)\n",
        "fig=plt.figure()\n",
        "plt.imshow(CV)\n",
        "plt.colorbar()"
      ],
      "execution_count": 0,
      "outputs": [
        {
          "output_type": "execute_result",
          "data": {
            "text/plain": [
              "<matplotlib.colorbar.Colorbar at 0x7f2de77f6860>"
            ]
          },
          "metadata": {
            "tags": []
          },
          "execution_count": 67
        },
        {
          "output_type": "display_data",
          "data": {
            "image/png": "[encoded data removed]",
            "text/plain": [
              "<Figure size 432x288 with 2 Axes>"
            ]
          },
          "metadata": {
            "tags": [],
            "needs_background": "light"
          }
        }
      ]
    },
    {
      "metadata": {
        "colab_type": "text",
        "id": "TgcyZLsoDKgJ"
      },
      "cell_type": "markdown",
      "source": [
        "## <font color='red'>2. Generate three random variables as $X1$, $X2$ and $X1+X2$. Compute the covariance matrix</font> "
      ]
    },
    {
      "metadata": {
        "colab_type": "code",
        "id": "JTXX_TsuDaLX",
        "outputId": "6c132713-d38a-4573-d310-41655b855fd2",
        "colab": {}
      },
      "cell_type": "code",
      "source": [
        "X1 = np.random.normal(0,1,M) #write code here\n",
        "X2 = np.random.normal(0,1,M) #write code here\n",
        "X3 = X1+X2 #write code here\n",
        "X = np.transpose(np.reshape(np.array([X1,X2,X3]),[3,M])) #write code here\n",
        "CV = covmat(X)\n",
        "print(CV)\n",
        "fig=plt.figure()\n",
        "plt.imshow(CV)\n",
        "plt.colorbar()"
      ],
      "execution_count": 0,
      "outputs": [
        {
          "output_type": "stream",
          "text": [
            "[[1963.88838101   42.90241249 2006.7907935 ]\n",
            " [  42.90241249 1971.76576106 2014.66817355]\n",
            " [2006.7907935  2014.66817355 4021.45896705]]\n"
          ],
          "name": "stdout"
        },
        {
          "output_type": "execute_result",
          "data": {
            "text/plain": [
              "<matplotlib.colorbar.Colorbar at 0x7f2de6b73dd8>"
            ]
          },
          "metadata": {
            "tags": []
          },
          "execution_count": 111
        },
        {
          "output_type": "display_data",
          "data": {
            "image/png": "[encoded data removed]",
            "text/plain": [
              "<Figure size 432x288 with 2 Axes>"
            ]
          },
          "metadata": {
            "tags": [],
            "needs_background": "light"
          }
        }
      ]
    },
    {
      "metadata": {
        "colab_type": "text",
        "id": "W2UR5Hn2DKgP"
      },
      "cell_type": "markdown",
      "source": [
        "## <font color='red'>3. Generate covariance matrix of correlated data. Take face images as the data.</font> "
      ]
    },
    {
      "metadata": {
        "colab_type": "code",
        "id": "Fi4E7jO9DKgR",
        "outputId": "2b4a984d-f72c-4c9a-df31-bb2ad04b6e6f",
        "colab": {}
      },
      "cell_type": "code",
      "source": [
        "X1 = mpimg.imread('f1.pgm')\n",
        "plt.imshow(X1)\n",
        "plt.colorbar()\n",
        "[m,n]=np.shape(X1)\n",
        "X1 = X1.flatten()\n",
        "X2 = mpimg.imread('f2.pgm').flatten()\n",
        "X3 = mpimg.imread('f3.pgm').flatten() #write code here\n",
        "X4 = mpimg.imread('f4.pgm').flatten() #write code here\n",
        "X5 = mpimg.imread('f5.pgm').flatten() #write code here\n",
        "X6 = mpimg.imread('f6.pgm').flatten() #write code here\n",
        "\n",
        "X = np.transpose(np.reshape(np.array([X1,X2,X3,X4,X5,X6]),[6,m*n])) #write code here\n",
        "CV = covmat(X)\n",
        "print(CV)\n",
        "fig=plt.figure()\n",
        "plt.imshow(CV)\n",
        "plt.colorbar()"
      ],
      "execution_count": 0,
      "outputs": [
        {
          "output_type": "stream",
          "text": [
            "[[29287512.30968557 18259642.66061723 13357674.10025233 14839068.31017081\n",
            "   7685017.80590062  6844268.96739131]\n",
            " [18259642.66061723 24165344.56434394  9744982.97913432  9564898.42818323\n",
            "   6122288.97360249  2449746.61956522]\n",
            " [13357674.10025233  9744982.97913432 20632412.6078222  12938533.61529503\n",
            "   8194226.98291926  7584307.98913044]\n",
            " [14839068.31017081  9564898.42818323 12938533.61529503 22646188.95496894\n",
            "   9451539.08074534  7206785.86956522]\n",
            " [ 7685017.80590062  6122288.97360249  8194226.98291926  9451539.08074534\n",
            "  14506774.0621118   4643936.13043478]\n",
            " [ 6844268.96739131  2449746.61956522  7584307.98913044  7206785.86956522\n",
            "   4643936.13043478 17681212.17391304]]\n"
          ],
          "name": "stdout"
        },
        {
          "output_type": "execute_result",
          "data": {
            "text/plain": [
              "<matplotlib.colorbar.Colorbar at 0x7f2de74d7b70>"
            ]
          },
          "metadata": {
            "tags": []
          },
          "execution_count": 70
        },
        {
          "output_type": "display_data",
          "data": {
            "image/png": "[encoded data removed]",
            "text/plain": [
              "<Figure size 432x288 with 2 Axes>"
            ]
          },
          "metadata": {
            "tags": [],
            "needs_background": "light"
          }
        },
        {
          "output_type": "display_data",
          "data": {
            "image/png": "[encoded data removed]",
            "text/plain": [
              "<Figure size 432x288 with 2 Axes>"
            ]
          },
          "metadata": {
            "tags": [],
            "needs_background": "light"
          }
        }
      ]
    },
    {
      "metadata": {
        "colab_type": "text",
        "id": "tZ4hd5nuDKgh"
      },
      "cell_type": "markdown",
      "source": [
        "## <font color='red'>4. Show that data and noise are uncorrelated. Take Image files as your data and standard gaussian noise.</font> "
      ]
    },
    {
      "metadata": {
        "colab_type": "code",
        "id": "fkY_DbQeDKgl",
        "outputId": "0a778e26-a017-40e1-d963-223406fb90ad",
        "colab": {}
      },
      "cell_type": "code",
      "source": [
        "X1 = (X1-np.mean(X1))/np.std(X1) # FOR NORMALIZATION TO ZERO MEAN ONE VARIANCE\n",
        "X2 = (X2-np.mean(X2))/np.std(X2) #write code here\n",
        "X3 = (X3-np.mean(X3))/np.std(X3) #write code here\n",
        "X4 = (X4-np.mean(X4))/np.std(X4)#write code here\n",
        "X5 = (X5-np.mean(X5))/np.std(X5)#write code here\n",
        "X6 = (X6-np.mean(X6))/np.std(X6)#write code here\n",
        "\n",
        "XN = np.random.normal(0,1,m*n) #write code here\n",
        "X = np.transpose(np.reshape(np.array([X1,X2,X3,X4,X5,X6,XN]),[7,m*n])) #write code here\n",
        "CV = covmat(X)\n",
        "print(CV)\n",
        "fig=plt.figure()\n",
        "plt.imshow(CV)\n",
        "plt.colorbar()"
      ],
      "execution_count": 0,
      "outputs": [
        {
          "output_type": "stream",
          "text": [
            "[[10304.          7072.29530041  5599.12862269  5937.09063245\n",
            "   3841.70543895  3099.10048706    20.94044296]\n",
            " [ 7072.29530041 10304.          4496.92279837  4213.00673332\n",
            "   3369.28505071  1221.16543532    65.40884878]\n",
            " [ 5599.12862269  4496.92279837 10304.          6167.63036677\n",
            "   4880.37742123  4091.5775392    150.21374043]\n",
            " [ 5937.09063245  4213.00673332  6167.63036677 10304.\n",
            "   5373.1058662   3711.02506087   211.84423082]\n",
            " [ 3841.70543895  3369.28505071  4880.37742123  5373.1058662\n",
            "  10304.          2987.793972     204.06797237]\n",
            " [ 3099.10048706  1221.16543532  4091.5775392   3711.02506087\n",
            "   2987.793972   10304.           170.71096987]\n",
            " [   20.94044296    65.40884878   150.21374043   211.84423082\n",
            "    204.06797237   170.71096987 10261.80620826]]\n"
          ],
          "name": "stdout"
        },
        {
          "output_type": "execute_result",
          "data": {
            "text/plain": [
              "<matplotlib.colorbar.Colorbar at 0x7f2de7430c18>"
            ]
          },
          "metadata": {
            "tags": []
          },
          "execution_count": 71
        },
        {
          "output_type": "display_data",
          "data": {
            "image/png": "[encoded data removed]",
            "text/plain": [
              "<Figure size 432x288 with 2 Axes>"
            ]
          },
          "metadata": {
            "tags": [],
            "needs_background": "light"
          }
        }
      ]
    },
    {
      "metadata": {
        "colab_type": "text",
        "id": "S8wJd5UFDKgx"
      },
      "cell_type": "markdown",
      "source": [
        "## Consider $X1$,$X2$ and $X3$ uniform random variables"
      ]
    },
    {
      "metadata": {
        "colab_type": "code",
        "id": "oIm-4YKJDKg3",
        "outputId": "32e128c8-bf93-41d5-ee9f-b3bc397ca872",
        "colab": {}
      },
      "cell_type": "code",
      "source": [
        "X1 = np.random.uniform(0,1,M) #write code here\n",
        "X2 = np.random.uniform(0,1,M) #write code here\n",
        "X3 = np.random.uniform(0,1,M) #write code here\n",
        "X = np.transpose(np.reshape(np.array([X1,X2,X3]),[3,M])) #write code here\n",
        "\n",
        "CV = covmat(X)\n",
        "print(CV)\n",
        "fig=plt.figure()\n",
        "plt.imshow(CV)\n",
        "plt.colorbar()"
      ],
      "execution_count": 0,
      "outputs": [
        {
          "output_type": "stream",
          "text": [
            "[[166.46640116   0.38503901   1.17313507]\n",
            " [  0.38503901 171.98314179   3.23520906]\n",
            " [  1.17313507   3.23520906 168.44189725]]\n"
          ],
          "name": "stdout"
        },
        {
          "output_type": "execute_result",
          "data": {
            "text/plain": [
              "<matplotlib.colorbar.Colorbar at 0x7f2de754fcc0>"
            ]
          },
          "metadata": {
            "tags": []
          },
          "execution_count": 72
        },
        {
          "output_type": "display_data",
          "data": {
            "image/png": "[encoded data removed]",
            "text/plain": [
              "<Figure size 432x288 with 2 Axes>"
            ]
          },
          "metadata": {
            "tags": [],
            "needs_background": "light"
          }
        }
      ]
    },
    {
      "metadata": {
        "colab_type": "text",
        "id": "eKF1iWVVDKhE"
      },
      "cell_type": "markdown",
      "source": [
        "## <font color='red'>5. Verify the properties of the covariance matrix.</font>"
      ]
    },
    {
      "metadata": {
        "colab_type": "text",
        "id": "6Z1l5uMUDKhF"
      },
      "cell_type": "markdown",
      "source": [
        "### <font color='red'> a) Symmetric,i.e.,$C_X = C_X^T.$ </font> "
      ]
    },
    {
      "metadata": {
        "colab_type": "code",
        "id": "10EhLQRRDKhI",
        "outputId": "a2b2002d-0273-4728-a50b-b84a2dc7f3c5",
        "colab": {}
      },
      "cell_type": "code",
      "source": [
        "print(CV)\n",
        "print(np.transpose(CV))"
      ],
      "execution_count": 0,
      "outputs": [
        {
          "output_type": "stream",
          "text": [
            "[[166.46640116   0.38503901   1.17313507]\n",
            " [  0.38503901 171.98314179   3.23520906]\n",
            " [  1.17313507   3.23520906 168.44189725]]\n",
            "[[166.46640116   0.38503901   1.17313507]\n",
            " [  0.38503901 171.98314179   3.23520906]\n",
            " [  1.17313507   3.23520906 168.44189725]]\n"
          ],
          "name": "stdout"
        }
      ]
    },
    {
      "metadata": {
        "colab_type": "text",
        "id": "Jh1FrgEMDKhP"
      },
      "cell_type": "markdown",
      "source": [
        "### <font color='red'> b) Its eigenvalues are greater than equal to zero</font>"
      ]
    },
    {
      "metadata": {
        "colab_type": "code",
        "id": "pcksP2TJDKhQ",
        "outputId": "7d0a82cc-5400-489a-f2d8-db1a2f704fd4",
        "colab": {}
      },
      "cell_type": "code",
      "source": [
        "from numpy import linalg as LA\n",
        "[w, v]=LA.eig(CV)\n",
        "print(w)"
      ],
      "execution_count": 0,
      "outputs": [
        {
          "output_type": "stream",
          "text": [
            "[174.0163178  165.62630777 167.24881463]\n"
          ],
          "name": "stdout"
        }
      ]
    },
    {
      "metadata": {
        "colab_type": "text",
        "id": "dRLagLuCDKha"
      },
      "cell_type": "markdown",
      "source": [
        "### <font color='red'> c) It is positive semi-definite, i.e., for any real valued vector $a$,$$a^TC_Xa\\geq0$$ </font>"
      ]
    },
    {
      "metadata": {
        "colab_type": "code",
        "id": "Ah-EQiD8DKhc",
        "outputId": "87190f13-3518-4d26-f040-bc5f7c9a203c",
        "colab": {}
      },
      "cell_type": "code",
      "source": [
        "a = np.random.rand(np.size(CV,0),1)\n",
        "x = np.matmul(np.transpose(a),np.matmul(CV,a))\n",
        "print(x)"
      ],
      "execution_count": 0,
      "outputs": [
        {
          "output_type": "stream",
          "text": [
            "[[2169.56187112]]\n"
          ],
          "name": "stdout"
        }
      ]
    },
    {
      "metadata": {
        "colab_type": "text",
        "id": "n3d1lr5LDKhk"
      },
      "cell_type": "markdown",
      "source": [
        "## <font color='red'>6. Compute correlation coefficient matrix.</font>\n",
        "Hint: you may require np.mean,np.prod,and np.std"
      ]
    },
    {
      "metadata": {
        "colab_type": "code",
        "id": "TU-e6i50DKhm",
        "colab": {}
      },
      "cell_type": "code",
      "source": [
        "def corr(data_mat):\n",
        "    mean = data_mat.mean(0)\n",
        "    [rows,cols]=np.shape(data_mat)\n",
        "    idt = np.ones((rows,1))\n",
        "    mean= np.reshape(mean,(1,cols))\n",
        "    minus = np.matmul(idt,mean)\n",
        "    \n",
        "    std = np.std(data_mat, axis=0)\n",
        "    std= np.reshape(std,(1,cols))\n",
        "    divide= np.matmul(idt, std)\n",
        "    \n",
        "    data_mat=(data_mat-minus)/divide\n",
        "    XT = np.transpose(data_mat)\n",
        "    CR = np.matmul(XT,data_mat)\n",
        "    CR=CR/2000\n",
        "    return CR"
      ],
      "execution_count": 0,
      "outputs": []
    },
    {
      "metadata": {
        "colab_type": "code",
        "id": "q1SS-febDKhr",
        "outputId": "89047005-03f5-4d14-c6c6-1d20a63758c7",
        "colab": {}
      },
      "cell_type": "code",
      "source": [
        "CR = corr(X)\n",
        "print(CR)\n",
        "fig=plt.figure()\n",
        "plt.imshow(CR)\n",
        "plt.colorbar()"
      ],
      "execution_count": 0,
      "outputs": [
        {
          "output_type": "stream",
          "text": [
            "[[1.         0.02180197 0.71408824]\n",
            " [0.02180197 1.         0.71545784]\n",
            " [0.71408824 0.71545784 1.        ]]\n"
          ],
          "name": "stdout"
        },
        {
          "output_type": "execute_result",
          "data": {
            "text/plain": [
              "<matplotlib.colorbar.Colorbar at 0x7f2de6a90a58>"
            ]
          },
          "metadata": {
            "tags": []
          },
          "execution_count": 112
        },
        {
          "output_type": "display_data",
          "data": {
            "image/png": "[encoded data removed]",
            "text/plain": [
              "<Figure size 432x288 with 2 Axes>"
            ]
          },
          "metadata": {
            "tags": [],
            "needs_background": "light"
          }
        }
      ]
    },
    {
      "metadata": {
        "id": "-s7vdNV7Wfbl",
        "colab_type": "code",
        "colab": {}
      },
      "cell_type": "code",
      "source": [
        ""
      ],
      "execution_count": 0,
      "outputs": []
    },
    {
      "metadata": {
        "id": "EaAMrNHdWfbo",
        "colab_type": "code",
        "colab": {}
      },
      "cell_type": "code",
      "source": [
        ""
      ],
      "execution_count": 0,
      "outputs": []
    }
  ]
}