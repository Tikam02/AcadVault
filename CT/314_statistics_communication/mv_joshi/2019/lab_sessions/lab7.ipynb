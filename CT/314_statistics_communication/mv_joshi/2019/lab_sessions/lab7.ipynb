{
  "nbformat": 4,
  "nbformat_minor": 0,
  "metadata": {
    "colab": {
      "name": "lab7.ipynb",
      "version": "0.3.2",
      "provenance": [],
      "collapsed_sections": []
    },
    "kernelspec": {
      "display_name": "Python 3",
      "language": "python",
      "name": "python3"
    }
  },
  "cells": [
    {
      "metadata": {
        "colab_type": "code",
        "id": "WlNXziqzB_tf",
        "colab": {}
      },
      "cell_type": "code",
      "source": [
        "%matplotlib inline\n",
        "import numpy as np\n",
        "import matplotlib.pyplot as plt\n",
        "from scipy import misc\n",
        "from scipy.io import wavfile\n",
        "from numpy import linalg as la\n",
        "import matplotlib.image as mpimg\n",
        "import glob\n",
        "from numpy import linalg as LA\n",
        "import scipy.io as sio \n"
      ],
      "execution_count": 0,
      "outputs": []
    },
    {
      "metadata": {
        "colab_type": "text",
        "id": "AClEH4SlB_tk"
      },
      "cell_type": "markdown",
      "source": [
        "## <font color='red'> 1. Let Y is true and X is observed random variables. Estimate $\\hat{Y}$ as constant $b$. Verify $b=E[Y]$ give minimum MMSE.<font>"
      ]
    },
    {
      "metadata": {
        "colab_type": "code",
        "id": "NXg-K2JbB_tl",
        "outputId": "1904a8cc-3d2d-4af6-9148-c76d33d0cf4d",
        "colab": {
          "base_uri": "https://localhost:8080/",
          "height": 302
        }
      },
      "cell_type": "code",
      "source": [
        "Y = np.random.uniform(0,1,10000)\n",
        "y = np.linspace(np.min(Y),np.max(Y),10000)\n",
        "YE = np.ones(np.shape(Y))\n",
        "arrayy=np.zeros(11)\n",
        "for i in range(0,11):\n",
        "    arrayy[i]=np.mean((Y-(YE*i*0.1))**2)\n",
        "print(\"MMSE between Y and YE\",np.mean((Y-YE*0.5)**2))#\"\"\"\n",
        "plt.plot(arrayy)\n",
        "#0.08375853899279184"
      ],
      "execution_count": 3,
      "outputs": [
        {
          "output_type": "stream",
          "text": [
            "MMSE between Y and YE 0.0843305705140693\n"
          ],
          "name": "stdout"
        },
        {
          "output_type": "execute_result",
          "data": {
            "text/plain": [
              "[<matplotlib.lines.Line2D at 0x7ff97aeb4390>]"
            ]
          },
          "metadata": {
            "tags": []
          },
          "execution_count": 3
        },
        {
          "output_type": "display_data",
          "data": {
            "image/png": "[encoded data removed]",
            "text/plain": [
              "<Figure size 432x288 with 1 Axes>"
            ]
          },
          "metadata": {
            "tags": []
          }
        }
      ]
    },
    {
      "metadata": {
        "colab_type": "text",
        "id": "LxOydmaUB_tr"
      },
      "cell_type": "markdown",
      "source": [
        "## Y>>>>> channel/Model >>>>> X \n",
        "## <font color='red'> 2.1 Generating correlated two random variables.Consider one variable as true and another as observed. Find the linear MMSE estimate of X given Y. <font>\n",
        "Hint: $$Y=AX$$ $$C_Y=AC_XA^T$$ Digonalize $$C_Y=U\\Sigma U^{-1}$$ So, $$U\\Sigma^{\\frac{1}{2}}\\Sigma^{\\frac{1}{2}} U^{-1}=AC_XA^T$$ If, $X$ is uncorrelated then $C_X$ must be identity\n",
        "\n",
        "Hint for Code: Use np.linalg.eig,np.diag,np.matmul,np.cov"
      ]
    },
    {
      "metadata": {
        "colab_type": "code",
        "id": "Wqhjl5VLB_ts",
        "colab": {}
      },
      "cell_type": "code",
      "source": [
        "def corrrv(n_samp,correlation):\n",
        "    x1 = np.random.randn(n_samp)\n",
        "    x2 = np.random.randn(n_samp)\n",
        "    X = np.concatenate((np.array([x1]),np.array([x2])),axis=0)\n",
        "    Cx = np.cov(X)\n",
        "    cr = correlation # correlation \n",
        "    Cy = np.array([[1 , cr ],\n",
        "                   [cr , 1 ]])\n",
        "    #write code here\n",
        "    w,U=la.eig(Cy)\n",
        "    A=np.matmul(U,np.diag(np.sqrt(w)))\n",
        "    Y = np.matmul(A,X)\n",
        "    X = Y[0,:]\n",
        "    Y = Y[1,:]\n",
        "    return Y,X"
      ],
      "execution_count": 0,
      "outputs": []
    },
    {
      "metadata": {
        "colab_type": "code",
        "id": "MGkw-pK4B_tv",
        "outputId": "d1aaad45-987e-41e3-cabb-f950709eb587",
        "colab": {
          "base_uri": "https://localhost:8080/",
          "height": 50
        }
      },
      "cell_type": "code",
      "source": [
        "Y,X = corrrv(10000,0.6)\n",
        "print(np.cov(Y,X))\n",
        "#[[0.99234052 0.58169852]\n",
        "#[0.58169852 0.98326963]]"
      ],
      "execution_count": 6,
      "outputs": [
        {
          "output_type": "stream",
          "text": [
            "[[1.01440868 0.6185874 ]\n",
            " [0.6185874  1.00530017]]\n"
          ],
          "name": "stdout"
        }
      ]
    },
    {
      "metadata": {
        "colab_type": "text",
        "id": "vEgkyw2tB_tz"
      },
      "cell_type": "markdown",
      "source": [
        "## <font color='red'> 2.2 Consider one variable as true and another as observed. Find the linear MMSE estimate of X given Y. <font>\n",
        "Hint : Let Y=Y[0,:] and X= Y[1,:] \n",
        " $$\\hat{Y}=aX+b$$\n",
        " $$a = \\frac{COV(X,Y)}{VAR(X)}$$\n",
        " $$b = E[Y-aX]$$"
      ]
    },
    {
      "metadata": {
        "colab_type": "code",
        "id": "7ptUWq4mB_t0",
        "colab": {}
      },
      "cell_type": "code",
      "source": [
        "def LMMSEP(Y,X):\n",
        "    \n",
        "    x=X-np.mean(X)\n",
        "    y=Y-np.mean(Y)\n",
        "    xyc=np.matmul(np.transpose(x),(y))\n",
        "    Cov=xyc/10000\n",
        "    varx=np.mean((x)**2)\n",
        "    a=Cov/varx\n",
        "    b=np.mean(Y-a*X)\n",
        "\n",
        "    return a,b"
      ],
      "execution_count": 0,
      "outputs": []
    },
    {
      "metadata": {
        "colab_type": "code",
        "id": "stHSTxF-B_t2",
        "outputId": "7563a3fd-03f3-4c0f-c921-e12daacb3c83",
        "colab": {
          "base_uri": "https://localhost:8080/",
          "height": 50
        }
      },
      "cell_type": "code",
      "source": [
        "a,b = LMMSEP(Y,X)\n",
        "YE = a*X+b\n",
        "print(\"MMSE between Y and YE\",np.mean((Y-YE)**2))\n",
        "print(\"MMSE between Y and X\",np.mean((Y-X)**2))\n",
        "#MMSE between Y and YE 0.648145097633885\n",
        "#MMSE between Y and X 0.8121419641098492"
      ],
      "execution_count": 8,
      "outputs": [
        {
          "output_type": "stream",
          "text": [
            "MMSE between Y and YE 0.6337123469019419\n",
            "MMSE between Y and X 0.7824820731542962\n"
          ],
          "name": "stdout"
        }
      ]
    },
    {
      "metadata": {
        "colab_type": "text",
        "id": "pLvs2l97B_t5"
      },
      "cell_type": "markdown",
      "source": [
        "## <font color='red'> 2.3 Generate another set of correlated random variable with same correlation. Estimate $\\hat{Y}$ using already estimated parameters.<font>\n",
        "    "
      ]
    },
    {
      "metadata": {
        "colab_type": "code",
        "id": "gL39OLE-B_t6",
        "outputId": "08de82d1-b2f2-47d4-aaa7-2dbf211a8fd3",
        "colab": {
          "base_uri": "https://localhost:8080/",
          "height": 50
        }
      },
      "cell_type": "code",
      "source": [
        "Y,X = corrrv(10000,0.2)\n",
        "YE=a*X+b\n",
        "print(\"MMSE between Y and YE\",np.mean((Y-YE)**2))\n",
        "print(\"MMSE between Y and X\",np.mean((Y-X)**2))"
      ],
      "execution_count": 9,
      "outputs": [
        {
          "output_type": "stream",
          "text": [
            "MMSE between Y and YE 1.1263313835366338\n",
            "MMSE between Y and X 1.5891192510967267\n"
          ],
          "name": "stdout"
        }
      ]
    },
    {
      "metadata": {
        "colab_type": "text",
        "id": "SFgR1UcSB_t9"
      },
      "cell_type": "markdown",
      "source": [
        "## <font color='red'> 3. Repeate 2.1 and 2.2 for different random variables with different values of correlations.<font>"
      ]
    },
    {
      "metadata": {
        "colab_type": "code",
        "id": "iGsd3oYzB_t-",
        "outputId": "60dd9a12-5ae1-4f91-9ae0-220f79848cc7",
        "colab": {
          "base_uri": "https://localhost:8080/",
          "height": 286
        }
      },
      "cell_type": "code",
      "source": [
        "crr = np.linspace(0,1,100)\n",
        "MMSE = np.zeros(shape=(100,1))\n",
        "for i in range(0,100):\n",
        "        Y,X=corrrv(10000,crr[i])\n",
        "        a,b = LMMSEP(Y,X)\n",
        "        YE=a*X+b\n",
        "        MMSE[i] = np.mean((Y-YE)**2)\n",
        "plt.plot(crr,MMSE)"
      ],
      "execution_count": 10,
      "outputs": [
        {
          "output_type": "execute_result",
          "data": {
            "text/plain": [
              "[<matplotlib.lines.Line2D at 0x7ff97adcdb00>]"
            ]
          },
          "metadata": {
            "tags": []
          },
          "execution_count": 10
        },
        {
          "output_type": "display_data",
          "data": {
            "image/png": "[encoded data removed]",
            "text/plain": [
              "<Figure size 432x288 with 1 Axes>"
            ]
          },
          "metadata": {
            "tags": []
          }
        }
      ]
    },
    {
      "metadata": {
        "id": "fO1TxkgAacq3",
        "colab_type": "code",
        "colab": {}
      },
      "cell_type": "code",
      "source": [
        ""
      ],
      "execution_count": 0,
      "outputs": []
    },
    {
      "metadata": {
        "id": "z4sXqD1Iacq5",
        "colab_type": "code",
        "colab": {}
      },
      "cell_type": "code",
      "source": [
        ""
      ],
      "execution_count": 0,
      "outputs": []
    },
    {
      "metadata": {
        "id": "JTNEzfYtacq8",
        "colab_type": "code",
        "colab": {}
      },
      "cell_type": "code",
      "source": [
        ""
      ],
      "execution_count": 0,
      "outputs": []
    }
  ]
}