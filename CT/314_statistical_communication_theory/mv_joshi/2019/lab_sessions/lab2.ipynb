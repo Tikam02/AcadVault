{
  "nbformat": 4,
  "nbformat_minor": 0,
  "metadata": {
    "colab": {
      "name": "lab2.ipynb",
      "version": "0.3.2",
      "provenance": [],
      "collapsed_sections": []
    },
    "kernelspec": {
      "display_name": "Python 3",
      "language": "python",
      "name": "python3"
    },
    "accelerator": "GPU"
  },
  "cells": [
    {
      "metadata": {
        "colab_type": "code",
        "id": "1ZiZTj17e_r2",
        "colab": {}
      },
      "cell_type": "code",
      "source": [
        "%matplotlib inline\n",
        "import numpy as np\n",
        "import matplotlib.pyplot as plt"
      ],
      "execution_count": 0,
      "outputs": []
    },
    {
      "metadata": {
        "colab_type": "text",
        "id": "5VMlIYpgkfdd"
      },
      "cell_type": "markdown",
      "source": [
        "##Histogram\n",
        "A histogram is an accurate representation of the distribution of numerical data.\n",
        "\n",
        "Example: \n",
        "Data $x = [1,2,3,4,2,3,4,3,4,4]$\n",
        "\n",
        "Number of bins $= 4$\n",
        "\n"
      ]
    },
    {
      "metadata": {
        "colab_type": "code",
        "id": "pzTtLmIenr7w",
        "outputId": "0d25ac8c-cece-4909-f1cf-6206f76e7c6d",
        "colab": {
          "base_uri": "https://localhost:8080/",
          "height": 1071
        }
      },
      "cell_type": "code",
      "source": [
        "x = np.array([1,2,3,2,3,3])\n",
        "bins = np.linspace(1,4,4)\n",
        "freq = np.array([1,2,3])\n",
        "no_samples = 10\n",
        "plt.bar(bins,freq)"
      ],
      "execution_count": 0,
      "outputs": [
        {
          "output_type": "error",
          "ename": "ValueError",
          "evalue": "ignored",
          "traceback": [
            "\u001b[0;31m---------------------------------------------------------------------------\u001b[0m",
            "\u001b[0;31mValueError\u001b[0m                                Traceback (most recent call last)",
            "\u001b[0;32m<ipython-input-7-16d66391ac6d>\u001b[0m in \u001b[0;36m<module>\u001b[0;34m()\u001b[0m\n\u001b[1;32m      3\u001b[0m \u001b[0mfreq\u001b[0m \u001b[0;34m=\u001b[0m \u001b[0mnp\u001b[0m\u001b[0;34m.\u001b[0m\u001b[0marray\u001b[0m\u001b[0;34m(\u001b[0m\u001b[0;34m[\u001b[0m\u001b[0;36m1\u001b[0m\u001b[0;34m,\u001b[0m\u001b[0;36m2\u001b[0m\u001b[0;34m,\u001b[0m\u001b[0;36m3\u001b[0m\u001b[0;34m]\u001b[0m\u001b[0;34m)\u001b[0m\u001b[0;34m\u001b[0m\u001b[0;34m\u001b[0m\u001b[0m\n\u001b[1;32m      4\u001b[0m \u001b[0mno_samples\u001b[0m \u001b[0;34m=\u001b[0m \u001b[0;36m10\u001b[0m\u001b[0;34m\u001b[0m\u001b[0;34m\u001b[0m\u001b[0m\n\u001b[0;32m----> 5\u001b[0;31m \u001b[0mplt\u001b[0m\u001b[0;34m.\u001b[0m\u001b[0mbar\u001b[0m\u001b[0;34m(\u001b[0m\u001b[0mbins\u001b[0m\u001b[0;34m,\u001b[0m\u001b[0mfreq\u001b[0m\u001b[0;34m)\u001b[0m\u001b[0;34m\u001b[0m\u001b[0;34m\u001b[0m\u001b[0m\n\u001b[0m",
            "\u001b[0;32m/usr/local/lib/python3.6/dist-packages/matplotlib/pyplot.py\u001b[0m in \u001b[0;36mbar\u001b[0;34m(x, height, width, bottom, align, data, **kwargs)\u001b[0m\n\u001b[1;32m   2455\u001b[0m     return gca().bar(\n\u001b[1;32m   2456\u001b[0m         \u001b[0mx\u001b[0m\u001b[0;34m,\u001b[0m \u001b[0mheight\u001b[0m\u001b[0;34m,\u001b[0m \u001b[0mwidth\u001b[0m\u001b[0;34m=\u001b[0m\u001b[0mwidth\u001b[0m\u001b[0;34m,\u001b[0m \u001b[0mbottom\u001b[0m\u001b[0;34m=\u001b[0m\u001b[0mbottom\u001b[0m\u001b[0;34m,\u001b[0m \u001b[0malign\u001b[0m\u001b[0;34m=\u001b[0m\u001b[0malign\u001b[0m\u001b[0;34m,\u001b[0m\u001b[0;34m\u001b[0m\u001b[0;34m\u001b[0m\u001b[0m\n\u001b[0;32m-> 2457\u001b[0;31m         **({\"data\": data} if data is not None else {}), **kwargs)\n\u001b[0m\u001b[1;32m   2458\u001b[0m \u001b[0;34m\u001b[0m\u001b[0m\n\u001b[1;32m   2459\u001b[0m \u001b[0;34m\u001b[0m\u001b[0m\n",
            "\u001b[0;32m/usr/local/lib/python3.6/dist-packages/matplotlib/__init__.py\u001b[0m in \u001b[0;36minner\u001b[0;34m(ax, data, *args, **kwargs)\u001b[0m\n\u001b[1;32m   1808\u001b[0m                         \u001b[0;34m\"the Matplotlib list!)\"\u001b[0m \u001b[0;34m%\u001b[0m \u001b[0;34m(\u001b[0m\u001b[0mlabel_namer\u001b[0m\u001b[0;34m,\u001b[0m \u001b[0mfunc\u001b[0m\u001b[0;34m.\u001b[0m\u001b[0m__name__\u001b[0m\u001b[0;34m)\u001b[0m\u001b[0;34m,\u001b[0m\u001b[0;34m\u001b[0m\u001b[0;34m\u001b[0m\u001b[0m\n\u001b[1;32m   1809\u001b[0m                         RuntimeWarning, stacklevel=2)\n\u001b[0;32m-> 1810\u001b[0;31m             \u001b[0;32mreturn\u001b[0m \u001b[0mfunc\u001b[0m\u001b[0;34m(\u001b[0m\u001b[0max\u001b[0m\u001b[0;34m,\u001b[0m \u001b[0;34m*\u001b[0m\u001b[0margs\u001b[0m\u001b[0;34m,\u001b[0m \u001b[0;34m**\u001b[0m\u001b[0mkwargs\u001b[0m\u001b[0;34m)\u001b[0m\u001b[0;34m\u001b[0m\u001b[0;34m\u001b[0m\u001b[0m\n\u001b[0m\u001b[1;32m   1811\u001b[0m \u001b[0;34m\u001b[0m\u001b[0m\n\u001b[1;32m   1812\u001b[0m         inner.__doc__ = _add_data_doc(inner.__doc__,\n",
            "\u001b[0;32m/usr/local/lib/python3.6/dist-packages/matplotlib/axes/_axes.py\u001b[0m in \u001b[0;36mbar\u001b[0;34m(self, x, height, width, bottom, align, **kwargs)\u001b[0m\n\u001b[1;32m   2249\u001b[0m         x, height, width, y, linewidth = np.broadcast_arrays(\n\u001b[1;32m   2250\u001b[0m             \u001b[0;31m# Make args iterable too.\u001b[0m\u001b[0;34m\u001b[0m\u001b[0;34m\u001b[0m\u001b[0;34m\u001b[0m\u001b[0m\n\u001b[0;32m-> 2251\u001b[0;31m             np.atleast_1d(x), height, width, y, linewidth)\n\u001b[0m\u001b[1;32m   2252\u001b[0m \u001b[0;34m\u001b[0m\u001b[0m\n\u001b[1;32m   2253\u001b[0m         \u001b[0;31m# Now that units have been converted, set the tick locations.\u001b[0m\u001b[0;34m\u001b[0m\u001b[0;34m\u001b[0m\u001b[0;34m\u001b[0m\u001b[0m\n",
            "\u001b[0;32m/usr/local/lib/python3.6/dist-packages/numpy/lib/stride_tricks.py\u001b[0m in \u001b[0;36mbroadcast_arrays\u001b[0;34m(*args, **kwargs)\u001b[0m\n\u001b[1;32m    257\u001b[0m     \u001b[0margs\u001b[0m \u001b[0;34m=\u001b[0m \u001b[0;34m[\u001b[0m\u001b[0mnp\u001b[0m\u001b[0;34m.\u001b[0m\u001b[0marray\u001b[0m\u001b[0;34m(\u001b[0m\u001b[0m_m\u001b[0m\u001b[0;34m,\u001b[0m \u001b[0mcopy\u001b[0m\u001b[0;34m=\u001b[0m\u001b[0;32mFalse\u001b[0m\u001b[0;34m,\u001b[0m \u001b[0msubok\u001b[0m\u001b[0;34m=\u001b[0m\u001b[0msubok\u001b[0m\u001b[0;34m)\u001b[0m \u001b[0;32mfor\u001b[0m \u001b[0m_m\u001b[0m \u001b[0;32min\u001b[0m \u001b[0margs\u001b[0m\u001b[0;34m]\u001b[0m\u001b[0;34m\u001b[0m\u001b[0;34m\u001b[0m\u001b[0m\n\u001b[1;32m    258\u001b[0m \u001b[0;34m\u001b[0m\u001b[0m\n\u001b[0;32m--> 259\u001b[0;31m     \u001b[0mshape\u001b[0m \u001b[0;34m=\u001b[0m \u001b[0m_broadcast_shape\u001b[0m\u001b[0;34m(\u001b[0m\u001b[0;34m*\u001b[0m\u001b[0margs\u001b[0m\u001b[0;34m)\u001b[0m\u001b[0;34m\u001b[0m\u001b[0;34m\u001b[0m\u001b[0m\n\u001b[0m\u001b[1;32m    260\u001b[0m \u001b[0;34m\u001b[0m\u001b[0m\n\u001b[1;32m    261\u001b[0m     \u001b[0;32mif\u001b[0m \u001b[0mall\u001b[0m\u001b[0;34m(\u001b[0m\u001b[0marray\u001b[0m\u001b[0;34m.\u001b[0m\u001b[0mshape\u001b[0m \u001b[0;34m==\u001b[0m \u001b[0mshape\u001b[0m \u001b[0;32mfor\u001b[0m \u001b[0marray\u001b[0m \u001b[0;32min\u001b[0m \u001b[0margs\u001b[0m\u001b[0;34m)\u001b[0m\u001b[0;34m:\u001b[0m\u001b[0;34m\u001b[0m\u001b[0;34m\u001b[0m\u001b[0m\n",
            "\u001b[0;32m/usr/local/lib/python3.6/dist-packages/numpy/lib/stride_tricks.py\u001b[0m in \u001b[0;36m_broadcast_shape\u001b[0;34m(*args)\u001b[0m\n\u001b[1;32m    191\u001b[0m     \u001b[0;31m# use the old-iterator because np.nditer does not handle size 0 arrays\u001b[0m\u001b[0;34m\u001b[0m\u001b[0;34m\u001b[0m\u001b[0;34m\u001b[0m\u001b[0m\n\u001b[1;32m    192\u001b[0m     \u001b[0;31m# consistently\u001b[0m\u001b[0;34m\u001b[0m\u001b[0;34m\u001b[0m\u001b[0;34m\u001b[0m\u001b[0m\n\u001b[0;32m--> 193\u001b[0;31m     \u001b[0mb\u001b[0m \u001b[0;34m=\u001b[0m \u001b[0mnp\u001b[0m\u001b[0;34m.\u001b[0m\u001b[0mbroadcast\u001b[0m\u001b[0;34m(\u001b[0m\u001b[0;34m*\u001b[0m\u001b[0margs\u001b[0m\u001b[0;34m[\u001b[0m\u001b[0;34m:\u001b[0m\u001b[0;36m32\u001b[0m\u001b[0;34m]\u001b[0m\u001b[0;34m)\u001b[0m\u001b[0;34m\u001b[0m\u001b[0;34m\u001b[0m\u001b[0m\n\u001b[0m\u001b[1;32m    194\u001b[0m     \u001b[0;31m# unfortunately, it cannot handle 32 or more arguments directly\u001b[0m\u001b[0;34m\u001b[0m\u001b[0;34m\u001b[0m\u001b[0;34m\u001b[0m\u001b[0m\n\u001b[1;32m    195\u001b[0m     \u001b[0;32mfor\u001b[0m \u001b[0mpos\u001b[0m \u001b[0;32min\u001b[0m \u001b[0mrange\u001b[0m\u001b[0;34m(\u001b[0m\u001b[0;36m32\u001b[0m\u001b[0;34m,\u001b[0m \u001b[0mlen\u001b[0m\u001b[0;34m(\u001b[0m\u001b[0margs\u001b[0m\u001b[0;34m)\u001b[0m\u001b[0;34m,\u001b[0m \u001b[0;36m31\u001b[0m\u001b[0;34m)\u001b[0m\u001b[0;34m:\u001b[0m\u001b[0;34m\u001b[0m\u001b[0;34m\u001b[0m\u001b[0m\n",
            "\u001b[0;31mValueError\u001b[0m: shape mismatch: objects cannot be broadcast to a single shape"
          ]
        },
        {
          "output_type": "display_data",
          "data": {
            "image/png": "[encoded data removed]",
            "text/plain": [
              "<Figure size 432x288 with 1 Axes>"
            ]
          },
          "metadata": {
            "tags": []
          }
        }
      ]
    },
    {
      "metadata": {
        "colab_type": "code",
        "id": "kfXCPCKd1BbJ",
        "colab": {}
      },
      "cell_type": "code",
      "source": [
        "#PDF\n",
        "plt.bar(bins,freq/(no_samples))"
      ],
      "execution_count": 0,
      "outputs": []
    },
    {
      "metadata": {
        "colab_type": "text",
        "id": "v4Knr5MmFg0x"
      },
      "cell_type": "markdown",
      "source": [
        "##<font color='red'>1.Create hist function to plot PDF.</font> "
      ]
    },
    {
      "metadata": {
        "colab_type": "code",
        "id": "0dY5akx-iVqm",
        "colab": {}
      },
      "cell_type": "code",
      "source": [
        "%matplotlib inline\n",
        "import numpy as np\n",
        "import matplotlib.pyplot as plt\n",
        "def hist(x,no_bins):\n",
        "  xmin=min(x)\n",
        "  xmax=max(x)\n",
        "  binsi=np.linspace(xmin,xmax,no_bins)\n",
        "  freq=np.zeros(no_bins)\n",
        "  for y in x:\n",
        "        for i in range(0,no_bins-1):\n",
        "            if y>binsi[i] and y<=binsi[i+1]:\n",
        "                freq[i]=freq[i]+1\n",
        "                break\n",
        "  plt.figure()\n",
        "  sz=np.size(x)\n",
        "  print(np.sum(freq))\n",
        "  factor=sz*(binsi[1]-binsi[0])\n",
        "  plt.bar(binsi,freq/factor)\n",
        "  return binsi,freq/factor"
      ],
      "execution_count": 0,
      "outputs": []
    },
    {
      "metadata": {
        "colab_type": "code",
        "id": "Gl9fdGJ66L_N",
        "outputId": "1e3d1aaa-f621-456e-ddcf-48eaafee9c22",
        "colab": {
          "base_uri": "https://localhost:8080/",
          "height": 287
        }
      },
      "cell_type": "code",
      "source": [
        "import numpy as np\n",
        "x= np.random.normal(0,1,1000)\n",
        "bins=20\n",
        "[bins,freq]=hist(x,bins)"
      ],
      "execution_count": 0,
      "outputs": [
        {
          "output_type": "stream",
          "text": [
            "999.0\n"
          ],
          "name": "stdout"
        },
        {
          "output_type": "display_data",
          "data": {
            "image/png": "[encoded data removed]",
            "text/plain": [
              "<Figure size 432x288 with 1 Axes>"
            ]
          },
          "metadata": {
            "tags": []
          }
        }
      ]
    },
    {
      "metadata": {
        "colab_type": "text",
        "id": "jvmf3e6q3MIH"
      },
      "cell_type": "markdown",
      "source": [
        "#### Gaussian random variable\n",
        "The probability density of the normal distribution is\n",
        "$$f(x|\\mu,\\sigma)=\\frac{1}{\\sqrt{2\\pi\\sigma^2}}e^{\\frac{(x-\\mu)^2}{2\\sigma^2}}$$\n",
        "where,\n",
        "\n",
        "$\\mu$  is the mean or expectation of the distribution (and also its median and mode),\n",
        "\n",
        "$\\sigma$  is the standard deviation, and\n",
        "\n",
        "$\\sigma ^{2}$ is the variance.\n",
        "\n",
        "range of variable is approximately $\\mu-3\\sigma$ to $\\mu+3\\sigma$"
      ]
    },
    {
      "metadata": {
        "colab_type": "text",
        "id": "ybW4XrQT6cOn"
      },
      "cell_type": "markdown",
      "source": [
        "##<font color='red'>2. Plot Gaussian PDF using above formula with $\\mu=0$ and $\\sigma=1$.</font> "
      ]
    },
    {
      "metadata": {
        "colab_type": "code",
        "id": "N5yVl44EjLm-",
        "outputId": "4f46d8b9-baaf-43ce-934c-ed355947d34d",
        "colab": {
          "base_uri": "https://localhost:8080/",
          "height": 269
        }
      },
      "cell_type": "code",
      "source": [
        "mu = 0\n",
        "sigma = 1\n",
        "x1 = np.linspace(-3,3,100)\n",
        "var = np.exp(-1*(x1**2)/2)/np.sqrt(2*np.pi)\n",
        "plt.plot(x1,var)\n",
        "plt.show()"
      ],
      "execution_count": 0,
      "outputs": [
        {
          "output_type": "display_data",
          "data": {
            "image/png": "[encoded data removed]",
            "text/plain": [
              "<Figure size 432x288 with 1 Axes>"
            ]
          },
          "metadata": {
            "tags": []
          }
        }
      ]
    },
    {
      "metadata": {
        "colab_type": "text",
        "id": "VoQRYnjo5VoU"
      },
      "cell_type": "markdown",
      "source": [
        "###Draw random samples from a normal (Gaussian) distribution.\n",
        "numpy.random.normal($\\mu$, $\\sigma$, number of samples)\n",
        "\n",
        "https://docs.scipy.org/doc/numpy-1.15.0/reference/generated/numpy.random.normal.html"
      ]
    },
    {
      "metadata": {
        "colab_type": "text",
        "id": "15kHygw8_Nb6"
      },
      "cell_type": "markdown",
      "source": [
        "##<font color='red'>3. Genarate gaussian random variable (M=1000 samples) with $\\mu=0$ and $\\sigma=1$.  Plot the PDF using hist function and compare with PDF generated using above formula. Repeat for $\\mu=4$ and $\\sigma=4$. </font> "
      ]
    },
    {
      "metadata": {
        "colab_type": "code",
        "id": "YnsRn8IKe_r9",
        "outputId": "ed076adf-7122-431e-8f6f-a27c85dd2e56",
        "colab": {
          "base_uri": "https://localhost:8080/",
          "height": 287
        }
      },
      "cell_type": "code",
      "source": [
        "mu = 0\n",
        "sigma = 1\n",
        "M = 1000\n",
        "no_bins = 30\n",
        "x = np.random.normal(mu,sigma,M)\n",
        "[bins,freq]=hist(x,no_bins)\n",
        "\n",
        "\n",
        "x1 = np.linspace(-3,3,100)\n",
        "var = np.exp(-1*(x1**2)/2)/np.sqrt(2*np.pi)\n",
        "plt.plot(x1,var,'r-*')\n",
        "#plt.plot(x1,mlab.normpdf(x1, mu, sigma),'r-*')\n",
        "plt.show()\n"
      ],
      "execution_count": 0,
      "outputs": [
        {
          "output_type": "stream",
          "text": [
            "999.0\n"
          ],
          "name": "stdout"
        },
        {
          "output_type": "display_data",
          "data": {
            "image/png": "[encoded data removed]",
            "text/plain": [
              "<Figure size 432x288 with 1 Axes>"
            ]
          },
          "metadata": {
            "tags": []
          }
        }
      ]
    },
    {
      "metadata": {
        "colab_type": "text",
        "id": "kdtOuYDoBBfl"
      },
      "cell_type": "markdown",
      "source": [
        "##<font color='red'>3. Plot CDF for above random variables. </font> "
      ]
    },
    {
      "metadata": {
        "colab_type": "code",
        "id": "3boaAehUe_sB",
        "colab": {}
      },
      "cell_type": "code",
      "source": [
        "#CDF\n",
        "def CDF(bins,freq):\n",
        "  cdf = np.zeros(bins.shape)\n",
        "  #write code here\n",
        "  sz=np.size(freq)\n",
        "  cdf[0]=freq[0]\n",
        "  for vr in range (1,sz):\n",
        "    cdf[vr]=freq[vr]+cdf[vr-1]\n",
        "  cdf=cdf*(bins[1]-bins[0])\n",
        "  plt.figure()\n",
        "  plt.plot(bins,cdf)\n",
        "  plt.show()"
      ],
      "execution_count": 0,
      "outputs": []
    },
    {
      "metadata": {
        "colab_type": "code",
        "id": "seNxrp6_CahF",
        "outputId": "53c93cc6-9f6d-450f-bb23-7238af3855fd",
        "colab": {
          "base_uri": "https://localhost:8080/",
          "height": 539
        }
      },
      "cell_type": "code",
      "source": [
        "mu = 0\n",
        "sigma = 1\n",
        "M = 1000\n",
        "no_bins = 30\n",
        "x = np.random.normal(mu,sigma,M)\n",
        "[bins,freq]=hist(x,no_bins)\n",
        "\n",
        "CDF(bins,freq)"
      ],
      "execution_count": 0,
      "outputs": [
        {
          "output_type": "stream",
          "text": [
            "999.0\n"
          ],
          "name": "stdout"
        },
        {
          "output_type": "display_data",
          "data": {
            "image/png": "[encoded data removed]",
            "text/plain": [
              "<Figure size 432x288 with 1 Axes>"
            ]
          },
          "metadata": {
            "tags": []
          }
        },
        {
          "output_type": "display_data",
          "data": {
            "image/png": "[encoded data removed]",
            "text/plain": [
              "<Figure size 432x288 with 1 Axes>"
            ]
          },
          "metadata": {
            "tags": []
          }
        }
      ]
    },
    {
      "metadata": {
        "colab_type": "text",
        "id": "9FxjyJWpB0cp"
      },
      "cell_type": "markdown",
      "source": [
        "##<font color='red'>4. For a random variable $X$ following normal distribution, show the PDF for a transformed random variable $X^2$. Find the mean and compare it with true mean. Use different values of M. </font> "
      ]
    },
    {
      "metadata": {
        "colab_type": "code",
        "id": "BYj5Cxrde_sJ",
        "outputId": "6fed68e1-fb05-4b6b-ea5d-97b0e3e37c1c",
        "colab": {
          "base_uri": "https://localhost:8080/",
          "height": 591
        }
      },
      "cell_type": "code",
      "source": [
        "mu = 0\n",
        "sigma = 1\n",
        "M = 1000\n",
        "no_bins = 30\n",
        "x = np.random.normal(mu,sigma,M) #write code here\n",
        "\n",
        "x2 = np.zeros(shape=(M))\n",
        "x2=x**2\n",
        "#write code here\n",
        "\n",
        "[bins,freq]=hist(x,no_bins)    \n",
        "[bins,freq]=hist(x2,no_bins)\n",
        "\n",
        "print(\"Mean of x is %f\"%(x.mean()))\n",
        "print(\"Mean of x^2 is %f\"%(x2.mean()))"
      ],
      "execution_count": 0,
      "outputs": [
        {
          "output_type": "stream",
          "text": [
            "999.0\n",
            "999.0\n",
            "Mean of x is -0.002539\n",
            "Mean of x^2 is 1.060571\n"
          ],
          "name": "stdout"
        },
        {
          "output_type": "display_data",
          "data": {
            "image/png": "[encoded data removed]",
            "text/plain": [
              "<Figure size 432x288 with 1 Axes>"
            ]
          },
          "metadata": {
            "tags": []
          }
        },
        {
          "output_type": "display_data",
          "data": {
            "image/png": "[encoded data removed]",
            "text/plain": [
              "<Figure size 432x288 with 1 Axes>"
            ]
          },
          "metadata": {
            "tags": []
          }
        }
      ]
    },
    {
      "metadata": {
        "colab_type": "text",
        "id": "oSHF1JCFFjiS"
      },
      "cell_type": "markdown",
      "source": [
        "## Uniform random variable\n",
        "The probability density of the uniform distribution is\n",
        "$$f(x|a,b)=\\begin{cases}\n",
        "    \\frac{1}{b-a},& \\text{if } a \\leq x\\leq b\\\\\n",
        "    0,              & \\text{otherwise}\n",
        "\\end{cases}$$\n",
        "\n",
        "\n",
        "##Draw samples from a uniform distribution.\n",
        "numpy.random.uniform(a,b,number of samples)\n",
        "\n",
        "https://docs.scipy.org/doc/numpy-1.15.0/reference/generated/numpy.random.uniform.html"
      ]
    },
    {
      "metadata": {
        "colab_type": "text",
        "id": "6VWZLiTtECun"
      },
      "cell_type": "markdown",
      "source": [
        "##<font color='red'>5. Genarate Uniform random variable with $a= 1$ and $b=2$. Plot the PDF and CDF.<font> "
      ]
    },
    {
      "metadata": {
        "colab_type": "code",
        "id": "_aH7HdAye_sN",
        "outputId": "8755ac91-caed-4be2-c6e4-16b273d083fb",
        "colab": {
          "base_uri": "https://localhost:8080/",
          "height": 574
        }
      },
      "cell_type": "code",
      "source": [
        "a=1\n",
        "b=2\n",
        "M = 1000\n",
        "no_bins = 30\n",
        "x_uniform = np.random.uniform(a,b,M)#write code here\n",
        "[bins,freq]=hist(x_uniform,no_bins)\n",
        "\n",
        "#CDF\n",
        "CDF(bins,freq)\n",
        "\n",
        "print(\"Mean of x_uniform is %f\"%(x_uniform.mean()))\n",
        "print(\"Variance of x_uniform is %f\"%(x_uniform.var()))\n"
      ],
      "execution_count": 0,
      "outputs": [
        {
          "output_type": "stream",
          "text": [
            "999.0\n"
          ],
          "name": "stdout"
        },
        {
          "output_type": "display_data",
          "data": {
            "image/png": "[encoded data removed]",
            "text/plain": [
              "<Figure size 432x288 with 1 Axes>"
            ]
          },
          "metadata": {
            "tags": []
          }
        },
        {
          "output_type": "display_data",
          "data": {
            "image/png": "[encoded data removed]",
            "text/plain": [
              "<Figure size 432x288 with 1 Axes>"
            ]
          },
          "metadata": {
            "tags": []
          }
        },
        {
          "output_type": "stream",
          "text": [
            "Mean of x_uniform is 1.504353\n",
            "Variance of x_uniform is 0.081171\n"
          ],
          "name": "stdout"
        }
      ]
    },
    {
      "metadata": {
        "colab_type": "text",
        "id": "irmS_vBDEZ7j"
      },
      "cell_type": "markdown",
      "source": [
        "##<font color='red'>6. Consider the transformed random variable Y=pX+q, where X is uniform random variable between 1 and 2. Take p=4 and q=5 and plot PDF and CDF for Y. Also find the mean and variance of Y.</font> "
      ]
    },
    {
      "metadata": {
        "colab_type": "code",
        "id": "MEppAxpzBKM_",
        "outputId": "24e93f14-631b-4423-f282-82e5fcda1006",
        "colab": {
          "base_uri": "https://localhost:8080/",
          "height": 574
        }
      },
      "cell_type": "code",
      "source": [
        "a=1\n",
        "b=2\n",
        "M = 1000\n",
        "no_bins = 30\n",
        "x_uniform = np.random.uniform(a,b,M)\n",
        "p = 4\n",
        "q = 5\n",
        "y = x_uniform*p +q #write code here\n",
        "\n",
        "[bins,freq]=hist(y,no_bins)\n",
        "CDF(bins,freq)\n",
        "print(\"Mean of y is %f\"%(y.mean()))\n",
        "print(\"Variance of y is %f\"%(y.var()))"
      ],
      "execution_count": 0,
      "outputs": [
        {
          "output_type": "stream",
          "text": [
            "999.0\n"
          ],
          "name": "stdout"
        },
        {
          "output_type": "display_data",
          "data": {
            "image/png": "[encoded data removed]",
            "text/plain": [
              "<Figure size 432x288 with 1 Axes>"
            ]
          },
          "metadata": {
            "tags": []
          }
        },
        {
          "output_type": "display_data",
          "data": {
            "image/png": "[encoded data removed]",
            "text/plain": [
              "<Figure size 432x288 with 1 Axes>"
            ]
          },
          "metadata": {
            "tags": []
          }
        },
        {
          "output_type": "stream",
          "text": [
            "Mean of y is 10.934257\n",
            "Variance of y is 1.310410\n"
          ],
          "name": "stdout"
        }
      ]
    }
  ]
}