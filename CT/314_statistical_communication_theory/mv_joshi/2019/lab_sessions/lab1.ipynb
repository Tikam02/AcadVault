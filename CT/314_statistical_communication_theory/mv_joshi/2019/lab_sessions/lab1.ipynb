{
  "nbformat": 4,
  "nbformat_minor": 0,
  "metadata": {
    "colab": {
      "name": "lab1.ipynb",
      "version": "0.3.2",
      "provenance": [],
      "collapsed_sections": []
    },
    "kernelspec": {
      "display_name": "Python 3",
      "language": "python",
      "name": "python3"
    },
    "accelerator": "GPU"
  },
  "cells": [
    {
      "metadata": {
        "colab_type": "text",
        "id": "SC8rZl_fnw1d"
      },
      "cell_type": "markdown",
      "source": [
        "## Basic of Numbers in python"
      ]
    },
    {
      "metadata": {
        "colab_type": "text",
        "id": "wATXf9zrnw1e"
      },
      "cell_type": "markdown",
      "source": [
        "Integers and floats work as you would expect from other languages:"
      ]
    },
    {
      "metadata": {
        "colab_type": "code",
        "id": "Rr8W2uMznw1g",
        "colab": {
          "base_uri": "https://localhost:8080/",
          "height": 34
        },
        "outputId": "766b4c05-c855-4cf7-9ab7-bdee6d5280fc"
      },
      "cell_type": "code",
      "source": [
        "x = 3\n",
        "print (x, type(x))"
      ],
      "execution_count": 1,
      "outputs": [
        {
          "output_type": "stream",
          "text": [
            "3 <class 'int'>\n"
          ],
          "name": "stdout"
        }
      ]
    },
    {
      "metadata": {
        "colab_type": "code",
        "id": "SJouww7Inw1p",
        "colab": {
          "base_uri": "https://localhost:8080/",
          "height": 84
        },
        "outputId": "0a830540-e066-4371-abbb-9223d93aa944"
      },
      "cell_type": "code",
      "source": [
        "print (x + 1)   # Addition;\n",
        "print (x - 1)   # Subtraction;\n",
        "print (x * 2)   # Multiplication;\n",
        "print (x ** 2)  # Exponentiation;"
      ],
      "execution_count": 2,
      "outputs": [
        {
          "output_type": "stream",
          "text": [
            "4\n",
            "2\n",
            "6\n",
            "9\n"
          ],
          "name": "stdout"
        }
      ]
    },
    {
      "metadata": {
        "colab_type": "code",
        "id": "nj14uZF2nw1z",
        "colab": {
          "base_uri": "https://localhost:8080/",
          "height": 51
        },
        "outputId": "72c5d1d1-0e43-429c-83b6-35dab6ac1316"
      },
      "cell_type": "code",
      "source": [
        "x += 1\n",
        "print (x)  # Prints \"4\"\n",
        "x *= 2\n",
        "print (x)  # Prints \"8\""
      ],
      "execution_count": 3,
      "outputs": [
        {
          "output_type": "stream",
          "text": [
            "4\n",
            "8\n"
          ],
          "name": "stdout"
        }
      ]
    },
    {
      "metadata": {
        "colab_type": "code",
        "id": "gUMeY7ILnw16",
        "colab": {
          "base_uri": "https://localhost:8080/",
          "height": 51
        },
        "outputId": "4fb27f91-c21c-420d-9c67-2a346bc1dfd2"
      },
      "cell_type": "code",
      "source": [
        "y = 2.5\n",
        "print (type(y) )# Prints \"<type 'float'>\"\n",
        "print (y, y + 1, y * 2, y ** 2) # Prints \"2.5 3.5 5.0 6.25\""
      ],
      "execution_count": 4,
      "outputs": [
        {
          "output_type": "stream",
          "text": [
            "<class 'float'>\n",
            "2.5 3.5 5.0 6.25\n"
          ],
          "name": "stdout"
        }
      ]
    },
    {
      "metadata": {
        "colab_type": "text",
        "id": "qxvvHiItnw2H"
      },
      "cell_type": "markdown",
      "source": [
        "Note that unlike many languages, Python does not have unary increment (x++) or decrement (x--) operators.\n",
        "\n",
        "Python also has built-in types for long integers and complex numbers; you can find all of the details in the [documentation](https://docs.python.org/2/library/stdtypes.html#numeric-types-int-float-long-complex)."
      ]
    },
    {
      "metadata": {
        "colab_type": "text",
        "id": "EPF5FeiybxYi"
      },
      "cell_type": "markdown",
      "source": [
        "## Numpy \n",
        "Numpy is the core library for scientific computing in Python. It provides a high-performance multidimensional array object, and tools for working with these arrays. If you are already familiar with MATLAB,"
      ]
    },
    {
      "metadata": {
        "colab_type": "code",
        "id": "zzuw0IDlb4uY",
        "colab": {}
      },
      "cell_type": "code",
      "source": [
        "import numpy as np"
      ],
      "execution_count": 0,
      "outputs": []
    },
    {
      "metadata": {
        "colab_type": "text",
        "id": "UjZvGRYzb6xp"
      },
      "cell_type": "markdown",
      "source": [
        "Find details of mathemetical function in numpy  at https://docs.scipy.org/doc/numpy-1.15.0/reference/routines.math.html"
      ]
    },
    {
      "metadata": {
        "colab_type": "text",
        "id": "WM95q6CkXwv6"
      },
      "cell_type": "markdown",
      "source": [
        "##<font color='red'>1. Evaluate the expression $a^3+\\sqrt{bd}-4c$, where $a=1.2, b=2.3, c=4.5$ and $d=4$.</font> "
      ]
    },
    {
      "metadata": {
        "colab_type": "code",
        "id": "3CI1OWaFYsyg",
        "outputId": "b9c4c3f7-1478-4f8d-e520-85236d743acf",
        "colab": {
          "base_uri": "https://localhost:8080/",
          "height": 34
        }
      },
      "cell_type": "code",
      "source": [
        "#Write your code\n",
        "import numpy as np\n",
        "a=1.2\n",
        "b=2.3\n",
        "c=4.5\n",
        "d=4\n",
        "x=(a**3)+np.sqrt(b*d)-4*c\n",
        "print(x)"
      ],
      "execution_count": 6,
      "outputs": [
        {
          "output_type": "stream",
          "text": [
            "-13.23884982237938\n"
          ],
          "name": "stdout"
        }
      ]
    },
    {
      "metadata": {
        "colab_type": "text",
        "id": "e_J4a3YEfe6P"
      },
      "cell_type": "markdown",
      "source": [
        "##Numpy array indexing and array operations\n",
        "Help to create Numpy array: https://docs.scipy.org/doc/numpy-1.15.0/reference/generated/numpy.array.html#numpy.array\n",
        "\n",
        "Help to create Numpy array indexing:https://docs.scipy.org/doc/numpy-1.15.0/reference/arrays.indexing.html\n",
        "\n",
        "Help to create Numpy for matlab user:https://docs.scipy.org/doc/numpy/user/numpy-for-matlab-users.html\n"
      ]
    },
    {
      "metadata": {
        "colab_type": "text",
        "id": "3IPVZYK9dkxa"
      },
      "cell_type": "markdown",
      "source": [
        "##<font color='red'>2. Consider the two matrices: $$A=\\begin{bmatrix}4 & -6 \\\\6 & 10\n",
        "\\end{bmatrix}B=\\begin{bmatrix}6 & -13 \\\\3.4 & 16\n",
        "\\end{bmatrix}$$</font> \n",
        "##<font color='red'>Find: (a) $A+B$ (b) $B^2$ (c) $AB$ (d) $B^TA^T$ (e) Replace the second column of $A$ with that of $B$.</font> "
      ]
    },
    {
      "metadata": {
        "colab_type": "code",
        "id": "w-nnu6l4gIY6",
        "outputId": "877f89c8-1286-4505-9c36-610949448eb7",
        "colab": {}
      },
      "cell_type": "code",
      "source": [
        "#write your code\n",
        "import numpy as np\n",
        "A=np.array([[4,-6],[6,10]])\n",
        "B=np.array([[6,-13],[3.4,16]])\n",
        "x=A+B\n",
        "y=B**2\n",
        "z=A*B\n",
        "p=B.transpose()*A.transpose()\n",
        "A[:,1]=B[:,1]\n",
        "print(A)"
      ],
      "execution_count": 0,
      "outputs": [
        {
          "output_type": "stream",
          "text": [
            "[[  4 -13]\n",
            " [  6  16]]\n"
          ],
          "name": "stdout"
        }
      ]
    },
    {
      "metadata": {
        "colab_type": "text",
        "id": "AaDe3HVi-mgV"
      },
      "cell_type": "markdown",
      "source": [
        "## Numpy : Linear *algebra*\n",
        "https://docs.scipy.org/doc/numpy-1.15.0/reference/routines.linalg.html"
      ]
    },
    {
      "metadata": {
        "colab_type": "text",
        "id": "QyptrBW578Se"
      },
      "cell_type": "markdown",
      "source": [
        "##<font color='red'>3. Find the solution of the following set of linear algebraic equations:}$$5x+6y+10z=4$$ $$-3x+14z=10$$ $$-7y+21z=0$$</font> "
      ]
    },
    {
      "metadata": {
        "colab_type": "code",
        "id": "F6Ta5w348idj",
        "outputId": "8786d439-5256-4f32-f277-bd6d23fd413b",
        "colab": {}
      },
      "cell_type": "code",
      "source": [
        "import numpy as np\n",
        "a=np.array([[5,6,10],[-3,0,14],[0,-7,21]])\n",
        "b=np.array([4,10,0])\n",
        "x=np.linalg.solve(a,b)\n",
        "print(x)"
      ],
      "execution_count": 0,
      "outputs": [
        {
          "output_type": "stream",
          "text": [
            "[-1.45454545  1.20779221  0.4025974 ]\n"
          ],
          "name": "stdout"
        }
      ]
    },
    {
      "metadata": {
        "colab_type": "text",
        "id": "zhGD6rIYCJ8i"
      },
      "cell_type": "markdown",
      "source": [
        "##<font color='red'>4. Find the solution of the following set of linear algebraic equations such that $\\Vert Ax-b\\Vert^2_2$is minimized:$$5x+6y+10z=4$$ $$-3x+14z=10$$ $$-7y+21z=0$$$$2x-y+45z=16$$</font> "
      ]
    },
    {
      "metadata": {
        "colab_type": "code",
        "id": "HyVZ5bHKC6Lr",
        "outputId": "f717b1df-7a95-4cf8-efbe-6a7188ee37dd",
        "colab": {}
      },
      "cell_type": "code",
      "source": [
        "import numpy as np\n",
        "a=np.array([[5,6,10],[-3,0,14],[0,-7,21],[2,-1,45]])\n",
        "b=np.array([4,10,0,16])\n",
        "x=np.linalg.lstsq(a,b,None)\n",
        "print(x)"
      ],
      "execution_count": 0,
      "outputs": [
        {
          "output_type": "stream",
          "text": [
            "(array([-1.46103896,  1.2393321 ,  0.43692022]), array([1.]), 3, array([52.64886072,  9.83706621,  4.1628828 ]))\n"
          ],
          "name": "stdout"
        }
      ]
    },
    {
      "metadata": {
        "colab_type": "text",
        "id": "3B34NIubEbA-"
      },
      "cell_type": "markdown",
      "source": [
        "##<font color='red'>5. create following two arrays:\n",
        "(a) Array of ones with 10 elements \n",
        "(b) Array a[1] = 2; a[2] = 3 and a[3] to a[10] are zero</font> "
      ]
    },
    {
      "metadata": {
        "colab_type": "code",
        "id": "iu6GxTFAFZFP",
        "outputId": "695baba4-b3d2-4a5d-fa04-69afb31eca25",
        "colab": {}
      },
      "cell_type": "code",
      "source": [
        "import numpy as np\n",
        "s = np.zeros((1,10))\n",
        "s[0][0]=2\n",
        "s[0][1]=3\n",
        "print(s)"
      ],
      "execution_count": 0,
      "outputs": [
        {
          "output_type": "stream",
          "text": [
            "[[2. 3. 0. 0. 0. 0. 0. 0. 0. 0.]]\n"
          ],
          "name": "stdout"
        }
      ]
    },
    {
      "metadata": {
        "colab_type": "text",
        "id": "OnPJvy9GH1H4"
      },
      "cell_type": "markdown",
      "source": [
        "##Numpy: Statistics\n",
        "https://docs.scipy.org/doc/numpy-1.15.1/reference/routines.statistics.html\n",
        "\n",
        "For random sampling : https://docs.scipy.org/doc/numpy-1.15.0/reference/routines.random.html"
      ]
    },
    {
      "metadata": {
        "colab_type": "text",
        "id": "C_ODKpdbF758"
      },
      "cell_type": "markdown",
      "source": [
        "##<font color='red'>6. Create two arrays indicating marks of students in two subjects. Get average vector of them.</font> "
      ]
    },
    {
      "metadata": {
        "colab_type": "code",
        "id": "g-ndczyOGJdc",
        "outputId": "46d61198-18df-43b4-d6a1-3d3608134ad1",
        "colab": {}
      },
      "cell_type": "code",
      "source": [
        "import numpy as np\n",
        "a=np.array([1,2])\n",
        "b=np.array([2,3])\n",
        "c=(a+b)/2\n",
        "print(c)"
      ],
      "execution_count": 0,
      "outputs": [
        {
          "output_type": "stream",
          "text": [
            "[1.5 2.5]\n"
          ],
          "name": "stdout"
        }
      ]
    },
    {
      "metadata": {
        "colab_type": "text",
        "id": "3p0ybKFWbbZO"
      },
      "cell_type": "markdown",
      "source": [
        "## Matplotlib: For Plot\n",
        "https://matplotlib.org/tutorials/introductory/pyplot.html#sphx-glr-tutorials-introductory-pyplot-py"
      ]
    },
    {
      "metadata": {
        "colab_type": "code",
        "id": "5onZQOXoJDbZ",
        "colab": {}
      },
      "cell_type": "code",
      "source": [
        "import matplotlib.pyplot as plt\n",
        "%matplotlib inline\n"
      ],
      "execution_count": 0,
      "outputs": []
    },
    {
      "metadata": {
        "colab_type": "text",
        "id": "Q8aC6tu_IQGE"
      },
      "cell_type": "markdown",
      "source": [
        "##<font color='red'>7. Plot the following functions:\n",
        "\n",
        "1.   $y=\\sin{(x)} $ from $0\\le x\\le 2\\pi$ \n",
        "2.   $y=x^2-2x+15 $ from $0\\le x\\le 10$\n",
        "1.   $h[n] = {1, 2, 3, 4, 5}$\n",
        "4.   $h[n] = {1, 2, 3, 4, 5}$, with $n= -2$ to $2$\n",
        "<font>\n"
      ]
    },
    {
      "metadata": {
        "colab_type": "code",
        "id": "3BPpQrpZnw-q",
        "outputId": "1576bd0a-6ba6-47dd-d7cb-882ea1e67996",
        "colab": {}
      },
      "cell_type": "code",
      "source": [
        "import numpy as np\n",
        "import matplotlib.pyplot as plt\n",
        "%matplotlib inline\n",
        "x=np.arange(0.0,2*np.pi,0.01)\n",
        "s=np.sin(x)\n",
        "line, = plt.plot(x, s, lw=2)"
      ],
      "execution_count": 0,
      "outputs": [
        {
          "output_type": "display_data",
          "data": {
            "image/png": "[encoded data removed]",
            "text/plain": [
              "<Figure size 432x288 with 1 Axes>"
            ]
          },
          "metadata": {
            "tags": [],
            "needs_background": "light"
          }
        }
      ]
    },
    {
      "metadata": {
        "colab_type": "code",
        "id": "4i-cG2VKKBUN",
        "outputId": "3ef5bbdc-c956-4d0d-a388-f0341e199c52",
        "colab": {}
      },
      "cell_type": "code",
      "source": [
        "import numpy as np\n",
        "import matplotlib.pyplot as plt\n",
        "%matplotlib inline\n",
        "x=np.arange(0.0,10,0.01)\n",
        "s=x**2-2*x+15\n",
        "line, = plt.plot(x, s, lw=2)\n"
      ],
      "execution_count": 0,
      "outputs": [
        {
          "output_type": "display_data",
          "data": {
            "image/png": "[encoded data removed]",
            "text/plain": [
              "<Figure size 432x288 with 1 Axes>"
            ]
          },
          "metadata": {
            "tags": [],
            "needs_background": "light"
          }
        }
      ]
    },
    {
      "metadata": {
        "colab_type": "code",
        "id": "07HnsfnSdjqk",
        "outputId": "2219c66d-9cdd-41d8-e8f8-852becc5902e",
        "colab": {}
      },
      "cell_type": "code",
      "source": [
        "import numpy as np\n",
        "import matplotlib.pyplot as plt\n",
        "%matplotlib inline\n",
        "plt.plot([1,2,3,4,5],[1,2,3,4,5],'ro')"
      ],
      "execution_count": 0,
      "outputs": [
        {
          "output_type": "execute_result",
          "data": {
            "text/plain": [
              "[<matplotlib.lines.Line2D at 0x7f533d7b42b0>]"
            ]
          },
          "metadata": {
            "tags": []
          },
          "execution_count": 34
        },
        {
          "output_type": "display_data",
          "data": {
            "image/png": "[encoded data removed]",
            "text/plain": [
              "<Figure size 432x288 with 1 Axes>"
            ]
          },
          "metadata": {
            "tags": [],
            "needs_background": "light"
          }
        }
      ]
    },
    {
      "metadata": {
        "colab_type": "code",
        "id": "zH53q0TcdkPv",
        "outputId": "b5dc4413-cc1e-4db4-fdc1-c86c4d343f62",
        "colab": {}
      },
      "cell_type": "code",
      "source": [
        "import numpy as np\n",
        "import matplotlib.pyplot as plt\n",
        "%matplotlib inline\n",
        "plt.plot([-2,-1,0,1,2],[1,2,3,4,5],'ro')\n"
      ],
      "execution_count": 0,
      "outputs": [
        {
          "output_type": "execute_result",
          "data": {
            "text/plain": [
              "[<matplotlib.lines.Line2D at 0x7f5364b79160>]"
            ]
          },
          "metadata": {
            "tags": []
          },
          "execution_count": 35
        },
        {
          "output_type": "display_data",
          "data": {
            "image/png": "[encoded data removed]",
            "text/plain": [
              "<Figure size 432x288 with 1 Axes>"
            ]
          },
          "metadata": {
            "tags": [],
            "needs_background": "light"
          }
        }
      ]
    },
    {
      "metadata": {
        "colab_type": "text",
        "id": "GobP2IePGThL"
      },
      "cell_type": "markdown",
      "source": [
        "##<font color='red'>8. Write MATLAB code to verify whether the given vectors are linearly independent or not.\n",
        "v1 = [6 0 3 1 4 2];\n",
        "v2 = [0 -1 2 7 0 5];\n",
        "v3 = [12 3 0 -19 8 -11].</font> \n",
        "\n",
        "Hint: You can use matrix rank or rref form with help of numpy.linalg library "
      ]
    },
    {
      "metadata": {
        "colab_type": "code",
        "id": "hYOPaUUqG0-Y",
        "outputId": "5592519f-2dd8-4182-8762-0b137b3462ca",
        "colab": {
          "base_uri": "https://localhost:8080/",
          "height": 34
        }
      },
      "cell_type": "code",
      "source": [
        "import numpy as np\n",
        "v=np.matrix('6 0 3 1 4 2; 0 -1 2 7 0 5; 12 3 0 -19 8 -11')\n",
        "print(np.linalg.matrix_rank(v))\n"
      ],
      "execution_count": 0,
      "outputs": [
        {
          "output_type": "stream",
          "text": [
            "2\n"
          ],
          "name": "stdout"
        }
      ]
    },
    {
      "metadata": {
        "colab_type": "text",
        "id": "dHjk5I0QM3S0"
      },
      "cell_type": "markdown",
      "source": [
        "##<font color='red'>9. For real symmetric matrix\n",
        "1.   Find the Eigen values and eigan vectors\n",
        "2.   Verify properties of Eigen values and Eigen vector.<font>\n",
        "\n"
      ]
    },
    {
      "metadata": {
        "colab_type": "code",
        "id": "pIwy4pqQN1cn",
        "outputId": "c071cc79-0c5f-4a7b-e085-5e56592a0851",
        "colab": {
          "base_uri": "https://localhost:8080/",
          "height": 84
        }
      },
      "cell_type": "code",
      "source": [
        "import numpy as np\n",
        "v=np.matrix('4 1 2 3 ; 1 -1 1 1 ; 2 1 2 0 ; 3 1 0 1')\n",
        "print(np.linalg.eig(v))"
      ],
      "execution_count": 0,
      "outputs": [
        {
          "output_type": "stream",
          "text": [
            "(array([ 6.85576439, -1.82768097, -0.77613641,  1.74805299]), matrix([[ 0.79262597,  0.26558618,  0.52840549, -0.14830945],\n",
            "        [ 0.20392542,  0.72824765, -0.64927393,  0.08070411],\n",
            "        [ 0.36846461, -0.32902951, -0.14680008,  0.85698491],\n",
            "        [ 0.44089945, -0.53931338, -0.5269542 , -0.48689631]]))\n"
          ],
          "name": "stdout"
        }
      ]
    },
    {
      "metadata": {
        "colab_type": "text",
        "id": "167i2Ni7X1oZ"
      },
      "cell_type": "markdown",
      "source": [
        "## Python Function:\n",
        "https://www.tutorialspoint.com/python/python_functions.htm"
      ]
    },
    {
      "metadata": {
        "colab_type": "text",
        "id": "iauUBzH2SKPk"
      },
      "cell_type": "markdown",
      "source": [
        "##<font color='red'>10. Write code for the following:\n",
        "  \n",
        "\n",
        "1.   Create a column vector with 10 values of temperature in degree centigrade $C^\\circ$\n",
        "2.   Convert each of the temperature values in degree Fahrenheit using the formula $$F^\\circ=\\frac{9}{2}C^\\circ+32$$\n",
        "1.   Make the final matrix with temperature values in $C^\\circ$ as the first column and in F as the second column.\n",
        "<font>\n",
        "\n"
      ]
    },
    {
      "metadata": {
        "colab_type": "code",
        "id": "RDtWZvYuTsPS",
        "colab": {}
      },
      "cell_type": "code",
      "source": [
        "def ctof(c):\n",
        "  #write code here to convert c to f\n",
        "  f=9*c/5 +32  \n",
        "  return f"
      ],
      "execution_count": 0,
      "outputs": []
    },
    {
      "metadata": {
        "colab_type": "code",
        "id": "DqwYVjmWUz4H",
        "colab": {}
      },
      "cell_type": "code",
      "source": [
        "import numpy as np\n",
        "c= np.matrix('12; 15 ; 18 ;21; 25; 29; 31; 36; 40; 60')"
      ],
      "execution_count": 0,
      "outputs": []
    },
    {
      "metadata": {
        "colab_type": "code",
        "id": "--ytBr4EYEL_",
        "outputId": "88b3fa77-ec24-40e9-b983-022a484c5000",
        "colab": {
          "base_uri": "https://localhost:8080/",
          "height": 185
        }
      },
      "cell_type": "code",
      "source": [
        "fa = ctof(c)\n",
        "print(fa)\n"
      ],
      "execution_count": 0,
      "outputs": [
        {
          "output_type": "stream",
          "text": [
            "[[ 53.6]\n",
            " [ 59. ]\n",
            " [ 64.4]\n",
            " [ 69.8]\n",
            " [ 77. ]\n",
            " [ 84.2]\n",
            " [ 87.8]\n",
            " [ 96.8]\n",
            " [104. ]\n",
            " [140. ]]\n"
          ],
          "name": "stdout"
        }
      ]
    },
    {
      "metadata": {
        "colab_type": "code",
        "id": "jHbry5XnYNpN",
        "colab": {}
      },
      "cell_type": "code",
      "source": [
        "#write code for 3\n"
      ],
      "execution_count": 0,
      "outputs": []
    },
    {
      "metadata": {
        "colab_type": "text",
        "id": "7R2JhXrrY9-2"
      },
      "cell_type": "markdown",
      "source": [
        "## Python : Control statements\n",
        "if else: https://www.w3schools.com/python/python_conditions.asp\n",
        "\n",
        "while loop : https://www.w3schools.com/python/python_while_loops.asp\n",
        "\n",
        "for loop : https://www.w3schools.com/python/python_for_loops.asp"
      ]
    },
    {
      "metadata": {
        "colab_type": "text",
        "id": "ER-fUvoFYir-"
      },
      "cell_type": "markdown",
      "source": [
        "##<font color='red'>12. Determine the probability of 3 heads in 4 tosses of a coin with probability of head being $p=0.75$. Use a relative frequency interpretation of probability to yield the result."
      ]
    },
    {
      "metadata": {
        "colab_type": "code",
        "id": "80ti1ZQTY8UF",
        "outputId": "044eb8ec-f333-47fa-a900-09f36c2e3d8f",
        "colab": {
          "base_uri": "https://localhost:8080/",
          "height": 51
        }
      },
      "cell_type": "code",
      "source": [
        "import numpy as np\n",
        "count=0\n",
        "for x in range(0,999):\n",
        "  tc=0\n",
        "  for y in range(0,3):\n",
        "    temp=np.random.normal()\n",
        "    if temp<0.75:\n",
        "      tc=tc+1\n",
        "  if tc==3:\n",
        "    count=count+1\n",
        "print(count/1000)\n",
        "print(4*(0.75**3)*0.25)\n",
        "    \n",
        "\n",
        "       "
      ],
      "execution_count": 16,
      "outputs": [
        {
          "output_type": "stream",
          "text": [
            "0.442\n",
            "0.421875\n"
          ],
          "name": "stdout"
        }
      ]
    },
    {
      "metadata": {
        "colab_type": "text",
        "id": "uqQyo3jNd3Df"
      },
      "cell_type": "markdown",
      "source": [
        "##<font color='red'>13. Write a program that will add all the numbers corresponding to the even indices of an array. Use that program to find the sum of all even integers from 1 to 1000.<font>"
      ]
    },
    {
      "metadata": {
        "colab_type": "code",
        "id": "JzmE6DJJeYvH",
        "colab": {}
      },
      "cell_type": "code",
      "source": [
        "#hint: Write your program as follows: where x is the input vector, and y is the sum of all the numbers corresponding to the even indices of x. \n",
        "def addeven(x):\n",
        "  s=np.prod(x.shape)\n",
        "  sum=0\n",
        "  for i in range (0,int((s+1)/2)):\n",
        "    sum=sum+x[2*i]\n",
        "  return sum"
      ],
      "execution_count": 0,
      "outputs": []
    },
    {
      "metadata": {
        "colab_type": "code",
        "id": "swRSzjrUeu3D",
        "colab": {
          "base_uri": "https://localhost:8080/",
          "height": 34
        },
        "outputId": "bde31d6d-5638-4730-845c-8fa27a775eea"
      },
      "cell_type": "code",
      "source": [
        "#\n",
        "a=np.arange(1001)\n",
        "addeven(a)"
      ],
      "execution_count": 35,
      "outputs": [
        {
          "output_type": "execute_result",
          "data": {
            "text/plain": [
              "250500"
            ]
          },
          "metadata": {
            "tags": []
          },
          "execution_count": 35
        }
      ]
    }
  ]
}