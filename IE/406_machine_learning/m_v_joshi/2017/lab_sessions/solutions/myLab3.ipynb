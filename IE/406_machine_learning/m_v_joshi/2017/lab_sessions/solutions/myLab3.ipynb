{
 "cells": [
  {
   "cell_type": "code",
   "execution_count": 1,
   "metadata": {},
   "outputs": [],
   "source": [
    "import pandas as pd\n",
    "import matplotlib.pyplot as plt\n",
    "import numpy as np\n",
    "from sklearn.model_selection import train_test_split\n"
   ]
  },
  {
   "cell_type": "code",
   "execution_count": 5,
   "metadata": {},
   "outputs": [],
   "source": [
    "class LogisticRegression:\n",
    "    def __init__(self, lr=0.01, num_iter=100000):\n",
    "        self.lr = lr\n",
    "        self.num_iter = num_iter\n",
    "        \n",
    "    def __sigmoid(self, z):\n",
    "        return 1 / (1 + np.exp(-z))  \n",
    "    \n",
    "    def __loss(self, h, y):\n",
    "        return (-y * np.log(h) - (1 - y) * np.log(1 - h)).mean()\n",
    "    \n",
    "    def fit(self, X, y):\n",
    "\n",
    "        self.theta = np.zeros(X.shape[1])\n",
    "        for i in range(self.num_iter):\n",
    "            z = np.dot(X, self.theta)\n",
    "            h = self.__sigmoid(z)\n",
    "            gradient = np.dot(X.T, (h - y)) / y.size\n",
    "            self.theta -= self.lr * gradient\n",
    "\n",
    "    def predict_prob(self, X):\n",
    "        return self.__sigmoid(np.dot(X, self.theta))\n",
    "    \n",
    "    def predict(self, X, threshold):\n",
    "        return self.predict_prob(X) >= threshold"
   ]
  },
  {
   "cell_type": "code",
   "execution_count": 4,
   "metadata": {},
   "outputs": [],
   "source": [
    "data_xls = pd.read_excel('ex2data1-logistic.xls', index_col=None)\n",
    "data_xls.to_csv('data1.csv', encoding='utf-8')\n",
    "data1 = pd.read_csv(\"data1.csv\") \n",
    "\n",
    "x1 = data1['x1']\n",
    "x2 = data1['x2']\n",
    "y = data1['y']\n",
    "\n",
    "x1 = (x1 - np.mean(x1))/np.std(x1)\n",
    "x2 = (x2 - np.mean(x2))/np.std(x2)"
   ]
  },
  {
   "cell_type": "code",
   "execution_count": 6,
   "metadata": {},
   "outputs": [],
   "source": [
    "model = LogisticRegression(lr=0.1, num_iter=100)\n",
    "\n",
    "x_input = np.c_[np.ones((len(x1),1)),x1,x2]\n",
    "\n",
    "xTrain, xTest, yTrain, yTest = train_test_split(x_input, y, test_size = 0.1, random_state = 0)\n",
    "theta = np.zeros((x_input.shape[1], 1))\n",
    "model.fit(xTrain, yTrain)"
   ]
  },
  {
   "cell_type": "code",
   "execution_count": 7,
   "metadata": {},
   "outputs": [
    {
     "data": {
      "image/png": "[encoded data removed]",
      "text/plain": [
       "<Figure size 432x288 with 1 Axes>"
      ]
     },
     "metadata": {
      "needs_background": "light"
     },
     "output_type": "display_data"
    }
   ],
   "source": [
    "t = model.theta\n",
    "\n",
    "xval = np.linspace(-2,2,1000)\n",
    "yval = ((-t[0] - t[1]*xval)/t[2])  \n",
    "\n",
    "plt.plot(xval,yval,'black')\n",
    "\n",
    "for i in range(len(x1)):\n",
    "    if(y[i]==1):\n",
    "        plt.scatter(x1[i],x2[i],color='red')\n",
    "    else:\n",
    "        plt.scatter(x1[i],x2[i],color='blue')"
   ]
  },
  {
   "cell_type": "code",
   "execution_count": 8,
   "metadata": {},
   "outputs": [
    {
     "name": "stdout",
     "output_type": "stream",
     "text": [
      "Accuracy on Train Dataset: 90.0 %\n",
      "Accuracy on Test Dataset : 80.0 %\n"
     ]
    }
   ],
   "source": [
    "preds = model.predict(xTrain,0.5)\n",
    "print(\"Accuracy on Train Dataset:\",(preds == yTrain).mean()*100,\"%\")\n",
    "\n",
    "preds = model.predict(xTest,0.5)\n",
    "print(\"Accuracy on Test Dataset :\",(preds == yTest).mean()*100,\"%\")\n"
   ]
  },
  {
   "cell_type": "code",
   "execution_count": 9,
   "metadata": {},
   "outputs": [],
   "source": [
    "data_xls = pd.read_excel('ex2data2-logistic.xls', index_col=None)\n",
    "data_xls.to_csv('data2.csv', encoding='utf-8')\n",
    "data2 = pd.read_csv(\"data2.csv\") \n",
    "\n",
    "x1 = data2['x1']\n",
    "x2 = data2['x2']\n",
    "y = data2['y']\n",
    "\n",
    "x1 = (x1 - np.mean(x1))/np.std(x1)\n",
    "x2 = (x2 - np.mean(x2))/np.std(x2)"
   ]
  },
  {
   "cell_type": "code",
   "execution_count": 10,
   "metadata": {},
   "outputs": [],
   "source": [
    "model = LogisticRegression(lr=0.1, num_iter=100)\n",
    "\n",
    "x_input = np.c_[np.ones((len(x1),1)),x1,x2,x1**2,x2**2, x1*x2]\n",
    "\n",
    "xTrain, xTest, yTrain, yTest = train_test_split(x_input, y, test_size = 0.1, random_state = 0)\n",
    "\n",
    "theta = np.zeros((x_input.shape[1], 1))\n",
    "model.fit(x_input, y)"
   ]
  },
  {
   "cell_type": "code",
   "execution_count": 11,
   "metadata": {},
   "outputs": [
    {
     "name": "stderr",
     "output_type": "stream",
     "text": [
      "/home/jui/anaconda3/lib/python3.7/site-packages/ipykernel_launcher.py:8: RuntimeWarning: invalid value encountered in sqrt\n",
      "  \n",
      "/home/jui/anaconda3/lib/python3.7/site-packages/ipykernel_launcher.py:9: RuntimeWarning: invalid value encountered in sqrt\n",
      "  if __name__ == '__main__':\n"
     ]
    }
   ],
   "source": [
    "t = model.theta\n",
    "\n",
    "xval = np.linspace(-2,2,1000)\n",
    "c = t[0] + t[2]*xval + t[4]*xval*xval\n",
    "b = t[1]*(1 + xval)\n",
    "a = t[3]\n",
    "D = (b*b) - (4*a*c)\n",
    "yval1 = (-b + (D)**(0.5))/(2*a)\n",
    "yval2 = (-b - (D)**(0.5))/(2*a)"
   ]
  },
  {
   "cell_type": "code",
   "execution_count": 12,
   "metadata": {},
   "outputs": [
    {
     "data": {
      "image/png": "[encoded data removed]",
      "text/plain": [
       "<Figure size 432x288 with 1 Axes>"
      ]
     },
     "metadata": {
      "needs_background": "light"
     },
     "output_type": "display_data"
    }
   ],
   "source": [
    "plt.plot(xval,yval1,'black')\n",
    "plt.plot(xval,yval2,'black')\n",
    "\n",
    "for i in range(len(x1)):\n",
    "    if(y[i]==1):\n",
    "        plt.scatter(x1[i],x2[i],color='red')\n",
    "    else:\n",
    "        plt.scatter(x1[i],x2[i],color='blue')\n",
    "        "
   ]
  },
  {
   "cell_type": "code",
   "execution_count": 13,
   "metadata": {},
   "outputs": [
    {
     "name": "stdout",
     "output_type": "stream",
     "text": [
      "Accuracy on Train Dataset: 80.18867924528303 %\n",
      "Accuracy on Test Dataset : 83.33333333333334 %\n"
     ]
    }
   ],
   "source": [
    "preds = model.predict(xTrain,0.4)\n",
    "print(\"Accuracy on Train Dataset:\",(preds == yTrain).mean()*100,\"%\")\n",
    "\n",
    "preds = model.predict(xTest,0.4)\n",
    "print(\"Accuracy on Test Dataset :\",(preds == yTest).mean()*100,\"%\")\n"
   ]
  },
  {
   "cell_type": "code",
   "execution_count": null,
   "metadata": {},
   "outputs": [],
   "source": []
  }
 ],
 "metadata": {
  "kernelspec": {
   "display_name": "Python 3",
   "language": "python",
   "name": "python3"
  },
  "language_info": {
   "codemirror_mode": {
    "name": "ipython",
    "version": 3
   },
   "file_extension": ".py",
   "mimetype": "text/x-python",
   "name": "python",
   "nbconvert_exporter": "python",
   "pygments_lexer": "ipython3",
   "version": "3.7.4"
  }
 },
 "nbformat": 4,
 "nbformat_minor": 2
}
