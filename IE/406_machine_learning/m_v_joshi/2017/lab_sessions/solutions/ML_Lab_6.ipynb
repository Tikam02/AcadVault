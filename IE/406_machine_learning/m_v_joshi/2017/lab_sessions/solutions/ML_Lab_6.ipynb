{
  "nbformat": 4,
  "nbformat_minor": 0,
  "metadata": {
    "colab": {
      "name": "ML_Lab_6.ipynb",
      "provenance": [],
      "collapsed_sections": []
    },
    "kernelspec": {
      "name": "python3",
      "display_name": "Python 3"
    }
  },
  "cells": [
    {
      "cell_type": "code",
      "metadata": {
        "id": "ey68rFCgsxfF",
        "colab_type": "code",
        "colab": {}
      },
      "source": [
        "import numpy as np\n",
        "import pandas as pd\n",
        "import matplotlib.pyplot as plt\n",
        "import scipy.io\n",
        "import h5py"
      ],
      "execution_count": 0,
      "outputs": []
    },
    {
      "cell_type": "code",
      "metadata": {
        "id": "i-vXksIGs-lt",
        "colab_type": "code",
        "outputId": "0bebd651-3a5c-4206-f071-b9bc5356aba1",
        "colab": {
          "base_uri": "https://localhost:8080/",
          "height": 104
        }
      },
      "source": [
        "face_images = {}\n",
        "with h5py.File('faceimages.mat', 'r') as f:\n",
        "    data = f.keys()\n",
        "    for k, v in f.items():\n",
        "        print(k)\n",
        "        face_images[k] = np.array(v)"
      ],
      "execution_count": 0,
      "outputs": [
        {
          "output_type": "stream",
          "text": [
            "Database_name\n",
            "Record_Name\n",
            "data\n",
            "height\n",
            "width\n"
          ],
          "name": "stdout"
        }
      ]
    },
    {
      "cell_type": "code",
      "metadata": {
        "id": "I6zHXd7Gw8c5",
        "colab_type": "code",
        "colab": {}
      },
      "source": [
        "face_data = face_images['data'][:-1]\n",
        "face_data"
      ],
      "execution_count": 0,
      "outputs": []
    },
    {
      "cell_type": "code",
      "metadata": {
        "id": "SnChq3pyxOCL",
        "colab_type": "code",
        "colab": {}
      },
      "source": [
        "mean = np.mean(face_data, axis = 0)\n",
        "face_data = face_data - np.mean(face_data, axis = 0)"
      ],
      "execution_count": 0,
      "outputs": []
    },
    {
      "cell_type": "code",
      "metadata": {
        "id": "RVkRRL6WybUF",
        "colab_type": "code",
        "colab": {}
      },
      "source": [
        "face_cov = np.cov(face_data)"
      ],
      "execution_count": 0,
      "outputs": []
    },
    {
      "cell_type": "code",
      "metadata": {
        "id": "UxWQgqmtzkAs",
        "colab_type": "code",
        "colab": {}
      },
      "source": [
        "eigenValues, eigenVectors = np.linalg.eig(face_cov)\n",
        "idx = eigenValues.argsort()[::-1]\n",
        "eigenValues = eigenValues[idx]\n",
        "eigenVectors = eigenVectors[:,idx]"
      ],
      "execution_count": 0,
      "outputs": []
    },
    {
      "cell_type": "code",
      "metadata": {
        "id": "CPxKIwBw5SXZ",
        "colab_type": "code",
        "colab": {}
      },
      "source": [
        "Y = np.matmul(eigenVectors.T, face_data)"
      ],
      "execution_count": 0,
      "outputs": []
    },
    {
      "cell_type": "code",
      "metadata": {
        "id": "6Bh6Pp0M-huV",
        "colab_type": "code",
        "colab": {}
      },
      "source": [
        "recX50 = np.matmul(eigenVectors[:, :50], Y[:50, 0])"
      ],
      "execution_count": 0,
      "outputs": []
    },
    {
      "cell_type": "code",
      "metadata": {
        "id": "bxoGnY47-90m",
        "colab_type": "code",
        "outputId": "b3b3877f-bd6a-446f-c4f2-b70ed0a2e145",
        "colab": {
          "base_uri": "https://localhost:8080/",
          "height": 34
        }
      },
      "source": [
        "np.sqrt(np.sum((recX50-face_data[:,0])**2))"
      ],
      "execution_count": 0,
      "outputs": [
        {
          "output_type": "execute_result",
          "data": {
            "text/plain": [
              "(1842.562426360095+0j)"
            ]
          },
          "metadata": {
            "tags": []
          },
          "execution_count": 34
        }
      ]
    },
    {
      "cell_type": "code",
      "metadata": {
        "id": "ZXnsGc8jErpx",
        "colab_type": "code",
        "outputId": "5aba8241-b9fb-4ca1-994a-183f19ec6c61",
        "colab": {
          "base_uri": "https://localhost:8080/",
          "height": 34
        }
      },
      "source": [
        "recX100 = np.matmul(eigenVectors[:, :100], Y[:100, 0])\n",
        "np.sqrt(np.sum((recX100-face_data[:,0])**2))"
      ],
      "execution_count": 0,
      "outputs": [
        {
          "output_type": "execute_result",
          "data": {
            "text/plain": [
              "(1495.07426010281+0j)"
            ]
          },
          "metadata": {
            "tags": []
          },
          "execution_count": 35
        }
      ]
    },
    {
      "cell_type": "code",
      "metadata": {
        "id": "JxI170FDGsku",
        "colab_type": "code",
        "outputId": "2cb914a6-42e0-4e10-fce5-a9e6d5016c41",
        "colab": {
          "base_uri": "https://localhost:8080/",
          "height": 34
        }
      },
      "source": [
        "recX300 = np.matmul(eigenVectors[:, :300], Y[:300, 0])\n",
        "np.sqrt(np.sum((recX300-face_data[:,0])**2))"
      ],
      "execution_count": 0,
      "outputs": [
        {
          "output_type": "execute_result",
          "data": {
            "text/plain": [
              "(500.9446220045028+0j)"
            ]
          },
          "metadata": {
            "tags": []
          },
          "execution_count": 36
        }
      ]
    },
    {
      "cell_type": "code",
      "metadata": {
        "id": "zdTLzIbdGyle",
        "colab_type": "code",
        "colab": {}
      },
      "source": [
        ""
      ],
      "execution_count": 0,
      "outputs": []
    }
  ]
}