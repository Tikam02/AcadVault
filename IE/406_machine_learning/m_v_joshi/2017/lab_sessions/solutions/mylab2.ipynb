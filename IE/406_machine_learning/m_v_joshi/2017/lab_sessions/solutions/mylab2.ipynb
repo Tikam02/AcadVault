{
 "cells": [
  {
   "cell_type": "code",
   "execution_count": 1,
   "metadata": {
    "colab": {},
    "colab_type": "code",
    "id": "G7lSZPmC4GsY"
   },
   "outputs": [],
   "source": [
    "import numpy as np\n",
    "import pandas as pd\n",
    "def cost(theta):\n",
    "\n",
    "  l_theta=theta**2\n",
    "  return l_theta"
   ]
  },
  {
   "cell_type": "code",
   "execution_count": 2,
   "metadata": {
    "colab": {},
    "colab_type": "code",
    "id": "RnsHTkFW4N3A"
   },
   "outputs": [],
   "source": [
    "def cost_diff(theta_curr):\n",
    "\n",
    "  return 2*theta_curr"
   ]
  },
  {
   "cell_type": "code",
   "execution_count": 3,
   "metadata": {
    "colab": {},
    "colab_type": "code",
    "id": "fXjXMCua4ekc"
   },
   "outputs": [],
   "source": [
    "def step(x_new,x_old,learning_rate):\n",
    "\n",
    "  while abs(x_new-x_old)>0.00001:\n",
    "    x_old=x_new\n",
    "    d_x=-cost_diff(x_old)\n",
    "    x_new=x_old+learning_rate*d_x\n",
    "  \n",
    "  \n",
    "  print(x_new)\n",
    "  \n",
    "  \n"
   ]
  },
  {
   "cell_type": "code",
   "execution_count": 4,
   "metadata": {
    "colab": {
     "base_uri": "https://localhost:8080/",
     "height": 34
    },
    "colab_type": "code",
    "id": "eXcKVIk-45Rn",
    "outputId": "09588e58-57cf-463b-ba2a-ad757c4c5fe5"
   },
   "outputs": [
    {
     "name": "stdout",
     "output_type": "stream",
     "text": [
      "0\n"
     ]
    }
   ],
   "source": [
    "step(0,1,1)\n"
   ]
  },
  {
   "cell_type": "code",
   "execution_count": 5,
   "metadata": {
    "colab": {},
    "colab_type": "code",
    "id": "mnOCNPIm5p0s"
   },
   "outputs": [],
   "source": [
    "def cost2_diff(theta_curr):\n",
    "  return 2*theta_curr"
   ]
  },
  {
   "cell_type": "code",
   "execution_count": 6,
   "metadata": {
    "colab": {},
    "colab_type": "code",
    "id": "KIITkSOz58NA"
   },
   "outputs": [],
   "source": [
    "theta0_old=1;\n",
    "theta1_old=1;\n",
    "learning_rate=0.01\n",
    "\n",
    "def step2(theta0_new,theta0_old,theta1_new,theta1_old,learning_rate):\n",
    "  \n",
    "  while abs(theta0_new-theta0_old)>0.00001 and abs(theta1_new-theta1_old)>0.00001:\n",
    "    theta0_old=theta0_new\n",
    "    d_1=-cost2_diff(theta0_old)\n",
    "    theta1_new=theta0_old+learning_rate*d_1\n",
    "  \n",
    "    theta1_old=theta1_new\n",
    "    d_2=-cost2_diff(theta1_old)\n",
    "    theta1_new=theta1_old+learning_rate*d_2\n",
    " \n",
    "\n",
    "\n",
    "  print(theta0_new)\n",
    "  print(theta1_new)\n",
    "  \n",
    "   \n"
   ]
  },
  {
   "cell_type": "code",
   "execution_count": 7,
   "metadata": {
    "colab": {
     "base_uri": "https://localhost:8080/",
     "height": 51
    },
    "colab_type": "code",
    "id": "vK4SilfG9DQu",
    "outputId": "14152c9e-a464-41cf-8e00-1ecce7654f6f"
   },
   "outputs": [
    {
     "name": "stdout",
     "output_type": "stream",
     "text": [
      "0\n",
      "0.0\n"
     ]
    }
   ],
   "source": [
    "step2(0,1,0,1,0.01)"
   ]
  },
  {
   "cell_type": "code",
   "execution_count": 8,
   "metadata": {
    "colab": {
     "base_uri": "https://localhost:8080/",
     "height": 34
    },
    "colab_type": "code",
    "id": "pDKhBhWQ9ze4",
    "outputId": "9876cfbe-f60a-43dc-9ed2-31dafc94ac35"
   },
   "outputs": [
    {
     "name": "stdout",
     "output_type": "stream",
     "text": [
      "1.0\n"
     ]
    }
   ],
   "source": [
    "import numpy as np\n",
    "\n",
    "t0=1\n",
    "alpha=0.1\n",
    "while 1:\n",
    "  t1=t0-2*(t0-1)*alpha\n",
    "  if(t1-t0)**2<0.00001:\n",
    "    break\n",
    "  t0=t1\n",
    "  \n",
    "print(t1)"
   ]
  },
  {
   "cell_type": "code",
   "execution_count": 9,
   "metadata": {
    "colab": {
     "base_uri": "https://localhost:8080/",
     "height": 34
    },
    "colab_type": "code",
    "id": "q3z4AUoOgvVm",
    "outputId": "001e176a-6078-4298-9001-b1b84c93e9de"
   },
   "outputs": [
    {
     "name": "stdout",
     "output_type": "stream",
     "text": [
      "1.0 1\n"
     ]
    }
   ],
   "source": [
    "import numpy as np\n",
    "\n",
    "t00 = 1\n",
    "t10 = 1\n",
    "alpha = 0.1\n",
    "while 1:\n",
    "  t01 = t00 - 4*alpha*(t00-1)\n",
    "  t11 = t10 - 2*alpha*(t10-1)\n",
    "  \n",
    "  if (t01-t00)**2 + (t11 - t10)**2 < 0.01:\n",
    "    break\n",
    "  t00 = t01\n",
    "  t11 = t10\n",
    "  \n",
    "print(t01, t10)"
   ]
  },
  {
   "cell_type": "code",
   "execution_count": 10,
   "metadata": {
    "colab": {},
    "colab_type": "code",
    "id": "lUBnc2YaxIds"
   },
   "outputs": [],
   "source": [
    "def  cal_cost(theta,X,y):\n",
    "   \n",
    "    \n",
    "    m = len(y)\n",
    "    \n",
    "    predictions = X.dot(theta)\n",
    "    cost = (1/2*m) * np.sum(np.square(predictions-y))\n",
    "    return cost"
   ]
  },
  {
   "cell_type": "code",
   "execution_count": 11,
   "metadata": {
    "colab": {},
    "colab_type": "code",
    "id": "pFcHgbyXzf0b"
   },
   "outputs": [],
   "source": [
    "def gradient_descent(X,Y,theta,learning_rate=0.01,iterations=100):\n",
    "   \n",
    "    m = len(Y)\n",
    "    Y = Y.to_numpy().reshape(m,1)\n",
    "    #cost_history = np.zeros(iterations)\n",
    "    #theta_history = np.zeros((iterations,2))\n",
    "    for it in range(iterations):\n",
    "        \n",
    "        prediction = np.dot(X,theta)\n",
    "        \n",
    "        theta = theta -(1/m)*learning_rate*( X.T.dot((prediction - Y)))\n",
    "        \n",
    "        #cost_history[it]  = cal_cost(theta,X,y)\n",
    "        \n",
    "    return theta"
   ]
  },
  {
   "cell_type": "code",
   "execution_count": 12,
   "metadata": {
    "colab": {
     "base_uri": "https://localhost:8080/",
     "height": 51
    },
    "colab_type": "code",
    "id": "aJYG3ZdFzjSq",
    "outputId": "117b72c3-3b98-4e0e-d037-26cbabf83911",
    "scrolled": true
   },
   "outputs": [
    {
     "name": "stdout",
     "output_type": "stream",
     "text": [
      "[[23.71706365]\n",
      " [-6.86672194]]\n"
     ]
    }
   ],
   "source": [
    "df = pd.read_csv(\"data.csv\") \n",
    "X = df.x\n",
    "Y = df.y\n",
    "\n",
    "X = (X-np.mean(X))/np.std(X)\n",
    "lr =0.01\n",
    "n_iter = 1000\n",
    "\n",
    "\n",
    "\n",
    "theta = np.random.randn(2,1)\n",
    "\n",
    "X_b = np.c_[np.ones((len(X),1)),X]\n",
    "theta = gradient_descent(X_b,Y,theta,lr,n_iter)\n",
    "\n",
    "print(theta)"
   ]
  },
  {
   "cell_type": "code",
   "execution_count": 13,
   "metadata": {
    "colab": {},
    "colab_type": "code",
    "id": "FCSQx6aLyV_E"
   },
   "outputs": [],
   "source": [
    "#question 2\n",
    "\n",
    "def stochastic_gradient_descent(X, Y, theta, lrate=0.01, n_iter=100):\n",
    "  m = len(Y)\n",
    "  cost_history = np.zeros(n_iter)\n",
    "  Y = Y.to_numpy().reshape(m,1)\n",
    "  #print(Y.shape)\n",
    "  #Y = Y.reshape(m,1)\n",
    "  for it in range(n_iter):\n",
    "    cost = 0.0\n",
    "    for i in range(m):\n",
    "      rand_ind = np.random.randint(0,m)\n",
    "      X_i = X[rand_ind, :].reshape(1, X.shape[1])\n",
    "      \n",
    "      Y_i = Y[rand_ind, :].reshape(1,1)\n",
    "      \n",
    "      prediction = np.dot(X_i, theta)\n",
    "      theta = theta - lrate*(X_i.T.dot(prediction - Y_i))\n",
    "      cost += cal_cost(theta, X_i, Y_i)\n",
    "    cost_history[it] = cost\n",
    "  return theta, cost_history"
   ]
  },
  {
   "cell_type": "code",
   "execution_count": 14,
   "metadata": {
    "colab": {
     "base_uri": "https://localhost:8080/",
     "height": 51
    },
    "colab_type": "code",
    "id": "LZQNA2wEyzJB",
    "outputId": "1946a95c-5e0c-418d-91c3-b9bbaf893e0d"
   },
   "outputs": [
    {
     "name": "stdout",
     "output_type": "stream",
     "text": [
      "[[23.74522185]\n",
      " [-6.79031234]] 840.8423792848323\n"
     ]
    }
   ],
   "source": [
    "df = pd.read_csv(\"data.csv\") \n",
    "X = df.x\n",
    "Y = df.y\n",
    "\n",
    "X = (X-np.mean(X))/np.std(X)\n",
    "\n",
    "n_iterations = 1000;\n",
    "lrate = 0.01\n",
    "\n",
    "theta = np.random.rand(2,1)*100\n",
    "#print(theta)\n",
    "X_b = np.c_[np.ones((len(X),1)), X]\n",
    "theta, cost_history = stochastic_gradient_descent(X_b, Y, theta, lrate, n_iterations)\n",
    "\n",
    "print(theta, cost_history[n_iterations-1])"
   ]
  },
  {
   "cell_type": "code",
   "execution_count": 15,
   "metadata": {
    "colab": {},
    "colab_type": "code",
    "id": "A1_9Y-7ID1cB"
   },
   "outputs": [],
   "source": [
    "def J(X, Y, theta):\n",
    "  cost = np.sum(np.square(Y-(X.dot(theta))))\n",
    "  return cost"
   ]
  },
  {
   "cell_type": "code",
   "execution_count": 16,
   "metadata": {
    "colab": {},
    "colab_type": "code",
    "id": "LtkiRcXgSMqw"
   },
   "outputs": [],
   "source": [
    "def J1(theta):\n",
    "  return theta*theta"
   ]
  },
  {
   "cell_type": "code",
   "execution_count": 20,
   "metadata": {
    "colab": {},
    "colab_type": "code",
    "id": "94s8inrAEpqc"
   },
   "outputs": [],
   "source": [
    "def delta_J(X, Y, theta):\n",
    "    prediction = np.dot(X,theta)\n",
    "    return X.T.dot((prediction-Y))"
   ]
  },
  {
   "cell_type": "code",
   "execution_count": 21,
   "metadata": {
    "colab": {},
    "colab_type": "code",
    "id": "hRZQGDN_SwQp"
   },
   "outputs": [],
   "source": [
    "def delta_J1(theta):\n",
    "  return 2*theta\n"
   ]
  },
  {
   "cell_type": "code",
   "execution_count": 22,
   "metadata": {
    "colab": {
     "base_uri": "https://localhost:8080/",
     "height": 34
    },
    "colab_type": "code",
    "id": "_WSNVSdMUn2Y",
    "outputId": "2976f32b-ee45-43c1-f043-a83ad7971796"
   },
   "outputs": [
    {
     "name": "stdout",
     "output_type": "stream",
     "text": [
      "0.0\n"
     ]
    }
   ],
   "source": [
    "#wrong answer check\n",
    "alpha0=0.01\n",
    "alpha_prev=0.01\n",
    "precision=0.000001\n",
    "theta_0=0\n",
    "df =lambda x:2*x\n",
    "prev=theta_0\n",
    "count =0\n",
    "while count<100000:\n",
    "  \n",
    "  alpha_curr=alpha_prev-df(alpha_prev)/2\n",
    "  curr=prev-alpha_curr*df(prev)\n",
    "  count=count+1\n",
    "  alpha_prev=alpha_curr\n",
    "  prev=curr\n",
    "  \n",
    "print(prev)"
   ]
  },
  {
   "cell_type": "code",
   "execution_count": 23,
   "metadata": {
    "colab": {},
    "colab_type": "code",
    "id": "aaUunq_414S7"
   },
   "outputs": [],
   "source": [
    "#question 3\n",
    "import numpy as np\n",
    "import matplotlib.pyplot as plt \n",
    "from mpl_toolkits.mplot3d import Axes3D\n",
    "import pandas as pd \n",
    "from sympy import *\n",
    "\n",
    "\n",
    "def steepest_descent(X, Y, theta, lrate=0.01, n_iter=1000):\n",
    "  cost_history = np.zeros(n_iter)\n",
    "  alpha_history = np.zeros(n_iter)\n",
    "  m = len(Y)\n",
    "  Y = Y.to_numpy().reshape(m,1)\n",
    "  #lrate_history = np.zeros(n_iter)\n",
    "  \n",
    "  alpha = Symbol('alpha')\n",
    "  phi = J(X, Y, theta - alpha*delta_J(X,Y,theta))\n",
    "  \n",
    "  old_a = np.random.randn()\n",
    "  #print(phi)\n",
    "  for it in range(n_iter):\n",
    "    diff_phi = phi.diff(alpha)\n",
    "    new_a = old_a - (diff_phi.subs(alpha, old_a)/diff_phi.diff(alpha).subs(alpha, old_a))\n",
    "    prediction = np.dot(X, theta)\n",
    "    theta = theta - new_a*(X.T.dot(prediction - Y))\n",
    "    cost_history[it] = cal_cost(theta, X, Y)\n",
    "    alpha_history[it] = old_a\n",
    "    old_a = new_a\n",
    "  \n",
    "  return theta, cost_history, alpha_history"
   ]
  },
  {
   "cell_type": "code",
   "execution_count": null,
   "metadata": {
    "colab": {},
    "colab_type": "code",
    "id": "WUUbmVV4Dwpv"
   },
   "outputs": [],
   "source": []
  },
  {
   "cell_type": "code",
   "execution_count": 28,
   "metadata": {
    "colab": {
     "base_uri": "https://localhost:8080/",
     "height": 51
    },
    "colab_type": "code",
    "id": "SlvUy4ew_aqK",
    "outputId": "0beffb78-8f1e-4ea0-e833-b9ff34ff3fa0"
   },
   "outputs": [
    {
     "name": "stdout",
     "output_type": "stream",
     "text": [
      "[[23.7180851063830]\n",
      " [-6.86699544725538]] 73914.56724393774 0.010638297872340422\n"
     ]
    }
   ],
   "source": [
    "df = pd.read_csv(\"data.csv\")\n",
    "X = df.x\n",
    "Y = df.y\n",
    "\n",
    "X = (X-np.mean(X))/np.std(X)\n",
    "\n",
    "n_iterations = 1000;\n",
    "lrate = 0.01\n",
    "\n",
    "theta = np.random.rand(2,1)*100\n",
    "#print(theta)\n",
    "X_b = np.c_[np.ones((len(X),1)), X]\n",
    "theta, cost_history, alpha_h = steepest_descent(X_b, Y, theta, lrate, n_iterations)\n",
    "\n",
    "print(theta, cost_history[n_iterations-1], alpha_h[n_iterations-1])"
   ]
  },
  {
   "cell_type": "code",
   "execution_count": 0,
   "metadata": {
    "colab": {},
    "colab_type": "code",
    "id": "eG7hm1oOBkgA"
   },
   "outputs": [],
   "source": []
  },
  {
   "cell_type": "code",
   "execution_count": 0,
   "metadata": {
    "colab": {},
    "colab_type": "code",
    "id": "77WOnIXdALmX"
   },
   "outputs": [],
   "source": [
    "\n",
    "\n",
    "\n"
   ]
  },
  {
   "cell_type": "code",
   "execution_count": 0,
   "metadata": {
    "colab": {
     "base_uri": "https://localhost:8080/",
     "height": 34
    },
    "colab_type": "code",
    "id": "bpKOfvLD9Afb",
    "outputId": "bae2830b-423c-49c8-dfa2-b210382564ad"
   },
   "outputs": [
    {
     "name": "stdout",
     "output_type": "stream",
     "text": [
      "0 0.500000000000000\n"
     ]
    }
   ],
   "source": [
    "def L(theta):\n",
    "  return theta**2\n",
    "alpha = Symbol('alpha')\n",
    "theta = Symbol('theta')\n",
    "#L = theta**2\n",
    "delta_L = L(theta).diff(theta)\n",
    "n_iter = 1000\n",
    "\n",
    "t0 = np.random.randn()*100\n",
    "old_a = np.random.randn()\n",
    "\n",
    "phi = L(t0-alpha*delta_L.subs(theta, t0))\n",
    "\n",
    "for it in range(n_iter):\n",
    "  diff_phi = phi.diff(alpha)\n",
    "  new_a = old_a - (diff_phi.subs(alpha, old_a)/diff_phi.diff(alpha).subs(alpha, old_a))\n",
    "  t0 = t0 - new_a*delta_L.subs(theta, t0)\n",
    "  old_a = new_a\n",
    " \n",
    "\n",
    "print(t0, new_a)"
   ]
  },
  {
   "cell_type": "code",
   "execution_count": 0,
   "metadata": {
    "colab": {
     "base_uri": "https://localhost:8080/",
     "height": 34
    },
    "colab_type": "code",
    "id": "t6ouW-svCGxC",
    "outputId": "fda4e0c5-384d-4a3b-eb9e-a2c5a7deed40"
   },
   "outputs": [
    {
     "name": "stdout",
     "output_type": "stream",
     "text": [
      "0 0 0.500000000000000\n"
     ]
    }
   ],
   "source": [
    "def L1(theta1, theta2):\n",
    "  return theta1**2 + theta2**2\n",
    "alpha = Symbol('alpha')\n",
    "theta1 = Symbol('theta1')\n",
    "theta2 = Symbol('theta2')\n",
    "#L = theta**2\n",
    "delta_L1 = L1(theta1, theta2).diff(theta1)\n",
    "delta_L2 = L1(theta1, theta2).diff(theta2)\n",
    "n_iter = 1000\n",
    "\n",
    "t0 = np.random.randn()*100\n",
    "t1 = np.random.randn()*100\n",
    "old_a = np.random.randn()\n",
    "\n",
    "phi_0 = L1(t0 - alpha*delta_L1.subs(theta1, t0), t1)\n",
    "phi_1 = L1(t0, t1 - alpha*delta_L2.subs(theta2, t1))\n",
    "\n",
    "for it in range(n_iter):\n",
    "  diff_phi = phi_0.diff(alpha)\n",
    "  new_a = old_a - (diff_phi.subs(alpha, old_a)/diff_phi.diff(alpha).subs(alpha, old_a))\n",
    "  t0 = t0 - new_a*delta_L1.subs(theta1, t0)\n",
    "  t1 = t1 - new_a*delta_L2.subs(theta2, t1)\n",
    "  old_a = new_a\n",
    " \n",
    "print(t0, t1, new_a)"
   ]
  }
 ],
 "metadata": {
  "colab": {
   "collapsed_sections": [],
   "name": "mylab2.ipynb",
   "provenance": [],
   "version": "0.3.2"
  },
  "kernelspec": {
   "display_name": "Python 3",
   "language": "python",
   "name": "python3"
  },
  "language_info": {
   "codemirror_mode": {
    "name": "ipython",
    "version": 3
   },
   "file_extension": ".py",
   "mimetype": "text/x-python",
   "name": "python",
   "nbconvert_exporter": "python",
   "pygments_lexer": "ipython3",
   "version": "3.7.4"
  }
 },
 "nbformat": 4,
 "nbformat_minor": 1
}
