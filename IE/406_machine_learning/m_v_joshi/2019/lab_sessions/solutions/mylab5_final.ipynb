{
 "cells": [
  {
   "cell_type": "code",
   "execution_count": 3,
   "metadata": {
    "colab": {},
    "colab_type": "code",
    "id": "k1V2Voi3B-JD"
   },
   "outputs": [],
   "source": [
    "import numpy as np\n",
    "import math\n",
    "import matplotlib.pyplot as plt\n",
    "import random\n",
    "import sympy as sy\n",
    "import sympy.physics.units as units"
   ]
  },
  {
   "cell_type": "code",
   "execution_count": 12,
   "metadata": {
    "colab": {
     "base_uri": "https://localhost:8080/",
     "height": 51
    },
    "colab_type": "code",
    "id": "wom8y_9nDOqD",
    "outputId": "50feab98-9aac-4f9c-e81f-50b9accd3253"
   },
   "outputs": [
    {
     "name": "stdout",
     "output_type": "stream",
     "text": [
      "1000\n",
      "[0.31795423 0.97467268]\n"
     ]
    }
   ],
   "source": [
    "k = random.randint(1,9)\n",
    "end = (2*math.pi*k)/(1.5)\n",
    "x = np.arange(0, end, end/1000)\n",
    "n = x.shape[0]\n",
    "\n",
    "print(n)\n",
    "\n",
    "X = sy.Symbol('X')\n",
    "\n",
    "f = X + 2*sy.sin(1.5*X)\n",
    "\n",
    "y = np.zeros(n)\n",
    "\n",
    "for i in range(n):\n",
    "  y[i] = f.subs(X, x[i])\n",
    "\n",
    "x_modified = np.c_[np.ones((len(x),1)), x]  \n",
    "true_theta = np.matmul(np.linalg.pinv(x_modified), y)  \n",
    "print(true_theta)"
   ]
  },
  {
   "cell_type": "code",
   "execution_count": 13,
   "metadata": {
    "colab": {},
    "colab_type": "code",
    "id": "gxJAEsVeKQOB"
   },
   "outputs": [],
   "source": [
    "def train_data(x_train, y_train):\n",
    "  theta = np.matmul(np.linalg.pinv(x_train), y_train)\n",
    "  theta.reshape(x_train.shape[1])\n",
    "  #print(theta.shape)\n",
    "  return theta"
   ]
  },
  {
   "cell_type": "code",
   "execution_count": 14,
   "metadata": {
    "colab": {
     "base_uri": "https://localhost:8080/",
     "height": 119
    },
    "colab_type": "code",
    "id": "0WoZcf_3JYUk",
    "outputId": "99086462-42f3-46d9-b2e4-9e138ee2ad7e"
   },
   "outputs": [
    {
     "name": "stdout",
     "output_type": "stream",
     "text": [
      "2\n",
      "bias: [ 0.00320818 -0.00012217]\n",
      "variance: [0.11628647 0.10895396]\n",
      "Empirical MSE: [7.38065858e-03 3.78741600e-05]\n",
      "Calculated MSE: [0.11629676 0.10895398]\n",
      "Difference b/w MSE: [0.1089161 0.1089161]\n"
     ]
    }
   ],
   "source": [
    "# for simplehypo\n",
    "x_train = np.c_[np.ones((len(x),1)), x]\n",
    "\n",
    "# for complex hypo\n",
    "#x_train = np.c_[np.ones((len(x),1)), x, pow(x,2), pow(x,3), pow(x,4)]#, pow(x,5), pow(x,6), pow(x,7)]\n",
    "\n",
    "m = x_train.shape[1]\n",
    "print(m)\n",
    "theta = np.zeros((100,m))\n",
    "\n",
    "for i in range(100):\n",
    "  \n",
    "  y = np.zeros(len(x))\n",
    "  for j in range(len(x)):\n",
    "    y[j] = f.subs(X, x[j]) + np.random.normal(0, np.sqrt(2))\n",
    "  \n",
    "  theta[i, :] = train_data(x_train, y)\n",
    "  \n",
    "bias = true_theta - np.mean(theta, axis = 0)\n",
    "variance = np.mean(np.square(theta - np.mean(theta)), axis = 0)\n",
    "mse = np.mean(np.square(true_theta - theta), axis = 0)\n",
    "cal_mse = np.square(bias) + variance\n",
    "\n",
    "#print(true_theta - theta)\n",
    "#print(theta)\n",
    "\n",
    "print(\"bias: \" + str(bias))\n",
    "print(\"variance: \" + str(variance))\n",
    "print(\"Empirical MSE: \" + str(mse))\n",
    "print(\"Calculated MSE: \" + str(cal_mse))\n",
    "print(\"Difference b/w MSE: \" + str(cal_mse-mse))"
   ]
  },
  {
   "cell_type": "code",
   "execution_count": 17,
   "metadata": {
    "colab": {
     "base_uri": "https://localhost:8080/",
     "height": 238
    },
    "colab_type": "code",
    "id": "mE0B7KA4XisB",
    "outputId": "a0b03407-3d7e-4a33-f12f-f69449d81f84"
   },
   "outputs": [
    {
     "name": "stdout",
     "output_type": "stream",
     "text": [
      "[ 2.02431694e+00 -8.79001214e-01  5.55916372e-01 -7.66133162e-02\n",
      "  5.64622204e-03 -2.33729755e-04  5.28104876e-06 -5.23776946e-08]\n",
      "8\n",
      "bias: [ 6.81695669e-02 -2.86205100e-01  1.14067585e-01 -1.69830302e-02\n",
      "  1.11701687e-03 -2.91325148e-05  1.78298994e-08  7.34981128e-09]\n",
      "variance: [3.13513635 0.92067975 0.10931252 0.08009378 0.04591451 0.04793571\n",
      " 0.04784377 0.0478461 ]\n",
      "Empirical MSE: [1.21190201e-01 3.44006390e-01 7.25452633e-02 2.89361308e-03\n",
      " 3.05861294e-05 9.36047331e-08 7.48036034e-11 9.58488507e-15]\n",
      "Calculated MSE: [3.13978344 1.00259311 0.12232393 0.08038221 0.04591576 0.04793571\n",
      " 0.04784377 0.0478461 ]\n",
      "Difference b/w MSE: [3.01859324 0.65858672 0.04977867 0.07748859 0.04588517 0.04793562\n",
      " 0.04784377 0.0478461 ]\n"
     ]
    }
   ],
   "source": [
    "x_modified = np.c_[np.ones((len(x),1)), x, pow(x,2), pow(x,3), pow(x,4), pow(x,5), pow(x,6), pow(x,7)]  \n",
    "true_theta = np.matmul(np.linalg.pinv(x_modified), y)  \n",
    "print(true_theta)\n",
    "\n",
    "# for complex hypothesis consider following x\n",
    "x_train = np.c_[np.ones((len(x),1)), x, pow(x,2), pow(x,3), pow(x,4), pow(x,5), pow(x,6), pow(x,7)]\n",
    "\n",
    "m = x_train.shape[1]\n",
    "print(m)\n",
    "theta = np.zeros((100,m))\n",
    "\n",
    "for i in range(100):\n",
    "  \n",
    "  y = np.zeros(len(x))\n",
    "  for j in range(len(x)):\n",
    "    y[j] = f.subs(X, x[j]) + np.random.normal(0, np.sqrt(2))\n",
    "  \n",
    "  theta[i, :] = train_data(x_train, y)\n",
    "  \n",
    "bias = true_theta - np.mean(theta, axis = 0)\n",
    "variance = np.mean(np.square(theta - np.mean(theta)), axis = 0)\n",
    "mse = np.mean(np.square(true_theta - theta), axis = 0)\n",
    "cal_mse = np.square(bias) + variance\n",
    "\n",
    "#print(true_theta - theta)\n",
    "#print(theta)\n",
    "\n",
    "print(\"bias: \" + str(bias))\n",
    "print(\"variance: \" + str(variance))\n",
    "print(\"Empirical MSE: \" + str(mse))\n",
    "print(\"Calculated MSE: \" + str(cal_mse))\n",
    "print(\"Difference b/w MSE: \" + str(cal_mse-mse))\n",
    "\n"
   ]
  }
 ],
 "metadata": {
  "colab": {
   "name": "ML_Lab5.ipynb",
   "provenance": []
  },
  "kernelspec": {
   "display_name": "Python 3",
   "language": "python",
   "name": "python3"
  },
  "language_info": {
   "codemirror_mode": {
    "name": "ipython",
    "version": 3
   },
   "file_extension": ".py",
   "mimetype": "text/x-python",
   "name": "python",
   "nbconvert_exporter": "python",
   "pygments_lexer": "ipython3",
   "version": "3.7.1"
  }
 },
 "nbformat": 4,
 "nbformat_minor": 1
}
