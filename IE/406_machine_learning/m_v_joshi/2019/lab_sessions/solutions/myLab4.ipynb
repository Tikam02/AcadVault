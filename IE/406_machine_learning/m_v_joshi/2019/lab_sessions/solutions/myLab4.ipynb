{
 "cells": [
  {
   "cell_type": "code",
   "execution_count": 1,
   "metadata": {},
   "outputs": [],
   "source": [
    "import pandas as pd\n",
    "import matplotlib.pyplot as plt\n",
    "import numpy as np\n",
    "from  sklearn.model_selection import train_test_split as tts\n",
    "from itertools import count\n",
    "import numpy.linalg as la\n",
    "import random"
   ]
  },
  {
   "cell_type": "code",
   "execution_count": 2,
   "metadata": {
    "scrolled": true
   },
   "outputs": [],
   "source": [
    "data1 = pd.read_csv('mnist_train.csv')\n",
    "data2 = pd.read_csv('mnist_test.csv')\n",
    "\n",
    "labels1 = np.asfarray(data1.iloc[:,data1.columns == 'label'])\n",
    "images1 = np.asfarray(data1.iloc[:,data1.columns != 'label'])\n",
    "\n",
    "labels2 = np.asfarray(data2.loc[:,data2.columns == 'label'])\n",
    "images2 = np.asfarray(data2.loc[:,data2.columns != 'label'])\n",
    "# Xtrain, Xtest, ytrain, ytest = tts(images, labels, test_size = 0.001)\n",
    "Xtrain, Xtest, ytrain, ytest = images1, images2, labels1, labels2"
   ]
  },
  {
   "cell_type": "markdown",
   "metadata": {},
   "source": [
    "# QDA on MultiClass"
   ]
  },
  {
   "cell_type": "markdown",
   "metadata": {},
   "source": [
    "## 1.Fitting Classifier"
   ]
  },
  {
   "cell_type": "code",
   "execution_count": 618,
   "metadata": {},
   "outputs": [],
   "source": [
    "x_train_class = [] ; size_train_class = [] ; y_train_class =[];\n",
    "cov_class = []; mean_class = []\n",
    "# u = np.zeros((10,784,784)); \n",
    "first_term = np.zeros((10));\n",
    "third_term = np.zeros((10));\n",
    "        \n",
    "for k in range(10):\n",
    "    tmp = Xtrain[[i for i, j in zip(count(), ytrain) if j == k],:]\n",
    "    x_train_class.append(tmp)\n",
    "    y_train_class.append(np.ones((len(tmp),1))*k)\n",
    "#     print(len(tmp[0]))\n",
    "#     print(len(x_train_class[0][0]))\n",
    "    size_train_class.append(len(tmp))\n",
    "    cov_class.append(np.cov(tmp.T))\n",
    "    mean_class.append(np.mean(tmp,axis = 0))\n",
    "#     u[k], s, vh = la.svd(cov_class[k])\n",
    "#     S = np.diag(s)\n",
    "#     s_invhalf = np.sqrt(la.inv(S))\n",
    "    first_term[k] = -1*(np.log(np.sqrt(la.norm(cov_class[k]))))\n",
    "    third_term[k] = np.log(size_train_class[k]/ytrain.shape[0])\n"
   ]
  },
  {
   "cell_type": "markdown",
   "metadata": {},
   "source": [
    "## 2.Prediction"
   ]
  },
  {
   "cell_type": "code",
   "execution_count": 619,
   "metadata": {},
   "outputs": [],
   "source": [
    "def predict1(x):\n",
    "    delta = []\n",
    "    for k in range(10):\n",
    "        value = np.array([x - mean_class[k]])\n",
    "        tmp = (-1/2)*np.dot(value,np.dot(la.pinv(cov_class[k]),(value.T)))\n",
    "        delta.append((first_term[k] + tmp + third_term[k]))\n",
    "    return np.argmax(delta)"
   ]
  },
  {
   "cell_type": "markdown",
   "metadata": {},
   "source": [
    "## 3.Accuracy"
   ]
  },
  {
   "cell_type": "code",
   "execution_count": 620,
   "metadata": {},
   "outputs": [
    {
     "name": "stdout",
     "output_type": "stream",
     "text": [
      "5784 0\n",
      "5785 0\n",
      "5786 0\n",
      "5787 0\n",
      "5788 0\n",
      "4216 1\n",
      "4217 1\n",
      "4218 1\n",
      "4219 1\n",
      "4220 1\n",
      "1647 2\n",
      "1648 2\n",
      "1649 2\n",
      "1650 2\n",
      "1651 2\n",
      "1014 3\n",
      "1015 3\n",
      "1016 3\n",
      "1017 3\n",
      "1018 3\n",
      "9466 4\n",
      "9467 4\n",
      "9468 4\n",
      "9469 4\n",
      "9470 4\n"
     ]
    }
   ],
   "source": [
    "accu = 0\n",
    "preds = np.zeros((5,1))\n",
    "for j in range(5):\n",
    "    rand_index = random.randint(1,9989)\n",
    "    k = 0\n",
    "    for i in range(rand_index,5+rand_index):\n",
    "        preds[k] = predict(Xtest[i])\n",
    "        print(i,j)\n",
    "        k +=1\n",
    "    accu += (preds==ytest[rand_index:5+rand_index]).mean()\n"
   ]
  },
  {
   "cell_type": "code",
   "execution_count": 621,
   "metadata": {},
   "outputs": [
    {
     "name": "stdout",
     "output_type": "stream",
     "text": [
      "Accuracy on Test Dataset : 80.0 %\n"
     ]
    }
   ],
   "source": [
    "print(\"Accuracy on Test Dataset :\",(accu)/5*100,\"%\")"
   ]
  },
  {
   "cell_type": "markdown",
   "metadata": {},
   "source": [
    "# LDA on Multiclass : $\\Sigma$ is common = I"
   ]
  },
  {
   "cell_type": "code",
   "execution_count": 622,
   "metadata": {},
   "outputs": [],
   "source": [
    "mean_class_ldamulti = []\n",
    "u = np.zeros((10,784,784)); \n",
    "second_term = np.zeros((10));\n",
    "    \n",
    "for k in range(10):\n",
    "    tmp = x_train_class[k]\n",
    "\n",
    "    mean_class_ldamulti.append(np.mean(tmp,axis = 0))\n",
    "    second_term[k] = np.log(size_train_class[k]/ytrain.shape[0])\n"
   ]
  },
  {
   "cell_type": "code",
   "execution_count": 623,
   "metadata": {},
   "outputs": [],
   "source": [
    "def predict2(x):\n",
    "    delta = []\n",
    "    for k in range(10):\n",
    "        value = np.array([x - mean_class_ldamulti[k]])\n",
    "        tmp = (-1/2)*np.square(la.norm(value))\n",
    "        delta.append((tmp + second_term[k]))\n",
    "    return np.argmax(delta)"
   ]
  },
  {
   "cell_type": "code",
   "execution_count": 624,
   "metadata": {},
   "outputs": [
    {
     "name": "stdout",
     "output_type": "stream",
     "text": [
      "QDA -->Accuracy on Test dataset: 87.99999999999999\n",
      "LDA -->Accuracy on Test dataset: 80.0\n"
     ]
    }
   ],
   "source": [
    "accu1 = 0\n",
    "accu2 = 0\n",
    "preds1 = np.zeros((5,1))\n",
    "preds2 = np.zeros((5,1))\n",
    "for j in range(5):\n",
    "    rand_index = random.randint(1,9989)\n",
    "    k = 0\n",
    "    for i in range(rand_index,5+rand_index):\n",
    "        preds1[k] = predict1(Xtest[i])\n",
    "        preds2[k] = predict2(Xtest[i])\n",
    "#         print(i,j)\n",
    "        k +=1\n",
    "        \n",
    "    accu1 += (preds1==ytest[rand_index:5+rand_index]).mean()\n",
    "    accu2 += (preds2==ytest[rand_index:5+rand_index]).mean()\n",
    "\n",
    "print('QDA -->Accuracy on Test dataset:',(accu1/5)*100)\n",
    "print('LDA -->Accuracy on Test dataset:',(accu2/5)*100)"
   ]
  },
  {
   "cell_type": "markdown",
   "metadata": {},
   "source": [
    "# LDA on Binary Class"
   ]
  },
  {
   "cell_type": "code",
   "execution_count": 625,
   "metadata": {},
   "outputs": [],
   "source": [
    "mean = []\n",
    "term = np.zeros((2));\n",
    "\n",
    "        \n",
    "for k in range(2):\n",
    "    tmp = x_train_class[k]\n",
    "    cov_class.append(np.cov(tmp.T))\n",
    "    mean_class.append(np.mean(tmp,axis = 0))\n",
    "    \n",
    "    term[k] = np.log(size_train_class[k]/ytrain.shape[0])\n",
    "\n",
    "cov = (cov_class[0] + cov_class[1])/2"
   ]
  },
  {
   "cell_type": "code",
   "execution_count": 626,
   "metadata": {},
   "outputs": [],
   "source": [
    "def predict3(x):\n",
    "    delta = []\n",
    "    for k in range(2):\n",
    "        value = np.array([x - mean_class[k]])\n",
    "        tmp = (-1/2)*np.dot(value,np.dot(la.pinv(cov),(value.T)))\n",
    "        delta.append((tmp + term[k]))\n",
    "    return np.argmax(delta)"
   ]
  },
  {
   "cell_type": "code",
   "execution_count": 627,
   "metadata": {},
   "outputs": [
    {
     "data": {
      "text/plain": [
       "(2115, 1)"
      ]
     },
     "execution_count": 627,
     "metadata": {},
     "output_type": "execute_result"
    }
   ],
   "source": [
    "Xtest_b = Xtest[[i for i, j in zip(count(), ytest) if (j == 0 or j==1)],:]\n",
    "ytest_b = ytest[[i for i, j in zip(count(), ytest) if (j == 0 or j==1)],:]\n",
    "ytest_b.shape"
   ]
  },
  {
   "cell_type": "code",
   "execution_count": 628,
   "metadata": {},
   "outputs": [],
   "source": [
    "accu_b = 0\n",
    "preds_b = np.zeros((200,1))\n",
    "\n",
    "for i in range(200):\n",
    "    preds_b[i] = predict3(Xtest_b[i])\n",
    "#     print(i)"
   ]
  },
  {
   "cell_type": "code",
   "execution_count": 629,
   "metadata": {},
   "outputs": [
    {
     "name": "stdout",
     "output_type": "stream",
     "text": [
      "LDA in Binary Classification -->Accuracy on Test dataset: 99.5\n"
     ]
    }
   ],
   "source": [
    "accu_b = (preds_b[:200]==ytest_b[:200]).mean()\n",
    "print('LDA in Binary Classification -->Accuracy on Test dataset:',(accu_b)*100)"
   ]
  }
 ],
 "metadata": {
  "kernelspec": {
   "display_name": "Python 3",
   "language": "python",
   "name": "python3"
  },
  "language_info": {
   "codemirror_mode": {
    "name": "ipython",
    "version": 3
   },
   "file_extension": ".py",
   "mimetype": "text/x-python",
   "name": "python",
   "nbconvert_exporter": "python",
   "pygments_lexer": "ipython3",
   "version": "3.7.4"
  }
 },
 "nbformat": 4,
 "nbformat_minor": 2
}
